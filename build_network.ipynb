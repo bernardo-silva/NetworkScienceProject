{
 "cells": [
  {
   "cell_type": "code",
   "execution_count": 1,
   "id": "de9e911e-a447-436e-b5da-476e32952d6c",
   "metadata": {
    "executionInfo": {
     "elapsed": 299,
     "status": "ok",
     "timestamp": 1633965648872,
     "user": {
      "displayName": "Bernardo Silva",
      "photoUrl": "https://lh3.googleusercontent.com/a-/AOh14GgJ8IEi_nHp1RFqhn4aunCpw95ZjnoGjPPL4xb9XA=s64",
      "userId": "08607300655485413192"
     },
     "user_tz": -60
    },
    "id": "de9e911e-a447-436e-b5da-476e32952d6c"
   },
   "outputs": [],
   "source": [
    "import networkx as nx\n",
    "from networkx.readwrite.gml import write_gml, read_gml\n",
    "from networkx.algorithms.community.centrality import girvan_newman\n",
    "from networkx.algorithms.community import lukes_partitioning\n",
    "import json\n",
    "import matplotlib.pyplot as plt"
   ]
  },
  {
   "cell_type": "code",
   "execution_count": 12,
   "id": "0bcfaf22-2a38-4648-9a43-4d6f8bd2c0d7",
   "metadata": {
    "executionInfo": {
     "elapsed": 1089,
     "status": "ok",
     "timestamp": 1633965823506,
     "user": {
      "displayName": "Bernardo Silva",
      "photoUrl": "https://lh3.googleusercontent.com/a-/AOh14GgJ8IEi_nHp1RFqhn4aunCpw95ZjnoGjPPL4xb9XA=s64",
      "userId": "08607300655485413192"
     },
     "user_tz": -60
    },
    "id": "0bcfaf22-2a38-4648-9a43-4d6f8bd2c0d7"
   },
   "outputs": [],
   "source": [
    "#Load data set\n",
    "with open(r\"courses_2021.json\",\"r\") as f:\n",
    "    courses = json.load(f)\n",
    "    "
   ]
  },
  {
   "cell_type": "code",
   "execution_count": 17,
   "id": "87164812-4e9d-411a-ba12-9f1851d87226",
   "metadata": {
    "executionInfo": {
     "elapsed": 328,
     "status": "ok",
     "timestamp": 1633965831341,
     "user": {
      "displayName": "Bernardo Silva",
      "photoUrl": "https://lh3.googleusercontent.com/a-/AOh14GgJ8IEi_nHp1RFqhn4aunCpw95ZjnoGjPPL4xb9XA=s64",
      "userId": "08607300655485413192"
     },
     "user_tz": -60
    },
    "id": "87164812-4e9d-411a-ba12-9f1851d87226"
   },
   "outputs": [
    {
     "data": {
      "text/plain": [
       "1070"
      ]
     },
     "execution_count": 17,
     "metadata": {},
     "output_type": "execute_result"
    }
   ],
   "source": [
    "G = nx.Graph()\n",
    "\n",
    "for c in courses:\n",
    "    G.add_node(f'{c[\"faculty\"][\"code\"]}_{c[\"code\"]}',name=c[\"name\"],\n",
    "               faculty_name=c[\"faculty\"][\"name\"],faculty_type=c[\"faculty\"][\"type\"],candidates=c[\"candidates\"])\n",
    "for c in courses:\n",
    "    for code in c[\"edges\"].keys():\n",
    "        G.add_edge(f'{c[\"faculty\"][\"code\"]}_{c[\"code\"]}',code,weight = c[\"edges\"][code])\n",
    "len([G.nodes[x] for x in G.nodes()])"
   ]
  },
  {
   "cell_type": "code",
   "execution_count": 7,
   "id": "oDkC6K3_9LS0",
   "metadata": {
    "executionInfo": {
     "elapsed": 418,
     "status": "ok",
     "timestamp": 1633965957297,
     "user": {
      "displayName": "Bernardo Silva",
      "photoUrl": "https://lh3.googleusercontent.com/a-/AOh14GgJ8IEi_nHp1RFqhn4aunCpw95ZjnoGjPPL4xb9XA=s64",
      "userId": "08607300655485413192"
     },
     "user_tz": -60
    },
    "id": "oDkC6K3_9LS0"
   },
   "outputs": [
    {
     "data": {
      "text/plain": [
       "1065"
      ]
     },
     "execution_count": 7,
     "metadata": {},
     "output_type": "execute_result"
    }
   ],
   "source": [
    "G.remove_nodes_from(list(nx.isolates(G)))\n",
    "G.number_of_nodes()"
   ]
  },
  {
   "cell_type": "code",
   "execution_count": 18,
   "id": "c3e06bc7-b161-47ab-a682-d202074d6f1a",
   "metadata": {
    "id": "c3e06bc7-b161-47ab-a682-d202074d6f1a"
   },
   "outputs": [],
   "source": [
    "write_gml(G,\"graph.gml\")"
   ]
  },
  {
   "cell_type": "code",
   "execution_count": 22,
   "id": "63d90e32-58bc-4da4-bf57-3adf3fe89ee0",
   "metadata": {
    "colab": {
     "base_uri": "https://localhost:8080/"
    },
    "executionInfo": {
     "elapsed": 447,
     "status": "ok",
     "timestamp": 1633965978658,
     "user": {
      "displayName": "Bernardo Silva",
      "photoUrl": "https://lh3.googleusercontent.com/a-/AOh14GgJ8IEi_nHp1RFqhn4aunCpw95ZjnoGjPPL4xb9XA=s64",
      "userId": "08607300655485413192"
     },
     "user_tz": -60
    },
    "id": "63d90e32-58bc-4da4-bf57-3adf3fe89ee0",
    "outputId": "3f365127-e7fe-48d5-94cc-35caedbf1c7e"
   },
   "outputs": [
    {
     "ename": "NotATree",
     "evalue": "lukes_partitioning works only on trees",
     "output_type": "error",
     "traceback": [
      "\u001b[0;31m---------------------------------------------------------------------------\u001b[0m",
      "\u001b[0;31mNotATree\u001b[0m                                  Traceback (most recent call last)",
      "\u001b[0;32m/tmp/ipykernel_52955/2038312861.py\u001b[0m in \u001b[0;36m<module>\u001b[0;34m\u001b[0m\n\u001b[0;32m----> 1\u001b[0;31m \u001b[0mcomp\u001b[0m \u001b[0;34m=\u001b[0m \u001b[0mlukes_partitioning\u001b[0m\u001b[0;34m(\u001b[0m\u001b[0mG\u001b[0m\u001b[0;34m,\u001b[0m\u001b[0;36m20\u001b[0m\u001b[0;34m,\u001b[0m\u001b[0medge_weight\u001b[0m\u001b[0;34m=\u001b[0m\u001b[0;34m\"weight\"\u001b[0m\u001b[0;34m)\u001b[0m\u001b[0;34m\u001b[0m\u001b[0;34m\u001b[0m\u001b[0m\n\u001b[0m",
      "\u001b[0;32m~/.envs/arc/lib/python3.9/site-packages/networkx/algorithms/community/lukes.py\u001b[0m in \u001b[0;36mlukes_partitioning\u001b[0;34m(G, max_size, node_weight, edge_weight)\u001b[0m\n\u001b[1;32m     74\u001b[0m     \u001b[0;31m# First sanity check and tree preparation\u001b[0m\u001b[0;34m\u001b[0m\u001b[0;34m\u001b[0m\u001b[0m\n\u001b[1;32m     75\u001b[0m     \u001b[0;32mif\u001b[0m \u001b[0;32mnot\u001b[0m \u001b[0mnx\u001b[0m\u001b[0;34m.\u001b[0m\u001b[0mis_tree\u001b[0m\u001b[0;34m(\u001b[0m\u001b[0mG\u001b[0m\u001b[0;34m)\u001b[0m\u001b[0;34m:\u001b[0m\u001b[0;34m\u001b[0m\u001b[0;34m\u001b[0m\u001b[0m\n\u001b[0;32m---> 76\u001b[0;31m         \u001b[0;32mraise\u001b[0m \u001b[0mnx\u001b[0m\u001b[0;34m.\u001b[0m\u001b[0mNotATree\u001b[0m\u001b[0;34m(\u001b[0m\u001b[0;34m\"lukes_partitioning works only on trees\"\u001b[0m\u001b[0;34m)\u001b[0m\u001b[0;34m\u001b[0m\u001b[0;34m\u001b[0m\u001b[0m\n\u001b[0m\u001b[1;32m     77\u001b[0m     \u001b[0;32melse\u001b[0m\u001b[0;34m:\u001b[0m\u001b[0;34m\u001b[0m\u001b[0;34m\u001b[0m\u001b[0m\n\u001b[1;32m     78\u001b[0m         \u001b[0;32mif\u001b[0m \u001b[0mnx\u001b[0m\u001b[0;34m.\u001b[0m\u001b[0mis_directed\u001b[0m\u001b[0;34m(\u001b[0m\u001b[0mG\u001b[0m\u001b[0;34m)\u001b[0m\u001b[0;34m:\u001b[0m\u001b[0;34m\u001b[0m\u001b[0;34m\u001b[0m\u001b[0m\n",
      "\u001b[0;31mNotATree\u001b[0m: lukes_partitioning works only on trees"
     ]
    }
   ],
   "source": [
    "comp = lukes_partitioning(G,20,edge_weight=\"weight\")"
   ]
  },
  {
   "cell_type": "code",
   "execution_count": 17,
   "id": "7aab3deb-5142-4592-9ea9-681f15bf96e2",
   "metadata": {},
   "outputs": [
    {
     "name": "stdout",
     "output_type": "stream",
     "text": [
      "1064\n",
      "1\n"
     ]
    }
   ],
   "source": [
    "for c in communities:\n",
    "    print(len(c))"
   ]
  },
  {
   "cell_type": "code",
   "execution_count": 15,
   "id": "cf2db3ef-88b6-41c3-a73a-0e3e64d9a85d",
   "metadata": {
    "colab": {
     "base_uri": "https://localhost:8080/"
    },
    "collapsed": true,
    "executionInfo": {
     "elapsed": 312,
     "status": "ok",
     "timestamp": 1633966223969,
     "user": {
      "displayName": "Bernardo Silva",
      "photoUrl": "https://lh3.googleusercontent.com/a-/AOh14GgJ8IEi_nHp1RFqhn4aunCpw95ZjnoGjPPL4xb9XA=s64",
      "userId": "08607300655485413192"
     },
     "user_tz": -60
    },
    "id": "cf2db3ef-88b6-41c3-a73a-0e3e64d9a85d",
    "jupyter": {
     "outputs_hidden": true
    },
    "outputId": "8b08c4be-6400-4ad9-8b77-ce47270213c0",
    "tags": []
   },
   "outputs": [
    {
     "data": {
      "text/plain": [
       "{'candidates': 95,\n",
       " 'faculty_name': 'Universidade da Madeira: Escola Superior de Tecnologias e Gestão',\n",
       " 'faculty_type': 'politecnico',\n",
       " 'name': 'Direção e Gestão Hoteleira'}"
      ]
     },
     "execution_count": 15,
     "metadata": {},
     "output_type": "execute_result"
    }
   ],
   "source": [
    "G.nodes[list(largest_cc)[0]]"
   ]
  },
  {
   "cell_type": "code",
   "execution_count": 21,
   "id": "2GyGPynT-fZz",
   "metadata": {
    "colab": {
     "base_uri": "https://localhost:8080/"
    },
    "executionInfo": {
     "elapsed": 1176,
     "status": "ok",
     "timestamp": 1633966330181,
     "user": {
      "displayName": "Bernardo Silva",
      "photoUrl": "https://lh3.googleusercontent.com/a-/AOh14GgJ8IEi_nHp1RFqhn4aunCpw95ZjnoGjPPL4xb9XA=s64",
      "userId": "08607300655485413192"
     },
     "user_tz": -60
    },
    "id": "2GyGPynT-fZz",
    "outputId": "f8b4e8ab-d9ec-4863-93c2-a7a31672d717"
   },
   "outputs": [
    {
     "data": {
      "text/plain": [
       "[('1202_9803', '3042_L175')]"
      ]
     },
     "execution_count": 21,
     "metadata": {},
     "output_type": "execute_result"
    }
   ],
   "source": [
    "list(nx.bridges(G))"
   ]
  },
  {
   "cell_type": "code",
   "execution_count": 41,
   "id": "k75TqyzA_w1Y",
   "metadata": {
    "executionInfo": {
     "elapsed": 178738,
     "status": "ok",
     "timestamp": 1633967350576,
     "user": {
      "displayName": "Bernardo Silva",
      "photoUrl": "https://lh3.googleusercontent.com/a-/AOh14GgJ8IEi_nHp1RFqhn4aunCpw95ZjnoGjPPL4xb9XA=s64",
      "userId": "08607300655485413192"
     },
     "user_tz": -60
    },
    "id": "k75TqyzA_w1Y"
   },
   "outputs": [],
   "source": [
    "a = nx.betweenness_centrality(G, weight='weight')"
   ]
  },
  {
   "cell_type": "code",
   "execution_count": 42,
   "id": "2rwfp-ylAN3T",
   "metadata": {
    "colab": {
     "base_uri": "https://localhost:8080/"
    },
    "executionInfo": {
     "elapsed": 364,
     "status": "ok",
     "timestamp": 1633967354058,
     "user": {
      "displayName": "Bernardo Silva",
      "photoUrl": "https://lh3.googleusercontent.com/a-/AOh14GgJ8IEi_nHp1RFqhn4aunCpw95ZjnoGjPPL4xb9XA=s64",
      "userId": "08607300655485413192"
     },
     "user_tz": -60
    },
    "id": "2rwfp-ylAN3T",
    "outputId": "3826061e-de73-4773-f012-11204c2e86bf"
   },
   "outputs": [
    {
     "data": {
      "text/plain": [
       "({'candidates': 2377,\n",
       "  'faculty_name': 'Universidade de Coimbra: Faculdade de Direito',\n",
       "  'faculty_type': 'universidade',\n",
       "  'name': 'Direito'},\n",
       " 0.007195738855040254)"
      ]
     },
     "execution_count": 42,
     "metadata": {},
     "output_type": "execute_result"
    }
   ],
   "source": [
    "G.nodes[max(a,key=a.get)],a[max(a,key=a.get)]"
   ]
  },
  {
   "cell_type": "code",
   "execution_count": 36,
   "id": "-zWKYDBGBAdl",
   "metadata": {
    "colab": {
     "base_uri": "https://localhost:8080/"
    },
    "executionInfo": {
     "elapsed": 635,
     "status": "ok",
     "timestamp": 1633966950516,
     "user": {
      "displayName": "Bernardo Silva",
      "photoUrl": "https://lh3.googleusercontent.com/a-/AOh14GgJ8IEi_nHp1RFqhn4aunCpw95ZjnoGjPPL4xb9XA=s64",
      "userId": "08607300655485413192"
     },
     "user_tz": -60
    },
    "id": "-zWKYDBGBAdl",
    "outputId": "5186ec6c-0f02-4026-939c-aa2897587a45"
   },
   "outputs": [
    {
     "data": {
      "text/plain": [
       "0.00043731029501939856"
      ]
     },
     "execution_count": 36,
     "metadata": {},
     "output_type": "execute_result"
    }
   ],
   "source": [
    "a[max(a)]"
   ]
  },
  {
   "cell_type": "code",
   "execution_count": 36,
   "id": "d09bbac6-fd4a-412f-aaa2-0c2bff089ab3",
   "metadata": {
    "colab": {
     "base_uri": "https://localhost:8080/"
    },
    "executionInfo": {
     "elapsed": 11736,
     "status": "ok",
     "timestamp": 1633966150879,
     "user": {
      "displayName": "Bernardo Silva",
      "photoUrl": "https://lh3.googleusercontent.com/a-/AOh14GgJ8IEi_nHp1RFqhn4aunCpw95ZjnoGjPPL4xb9XA=s64",
      "userId": "08607300655485413192"
     },
     "user_tz": -60
    },
    "id": "d09bbac6-fd4a-412f-aaa2-0c2bff089ab3",
    "outputId": "5e31fbd4-89b4-496a-c1a7-3f733048d325"
   },
   "outputs": [
    {
     "data": {
      "text/plain": [
       "Text(0, 0.5, 'Frequency')"
      ]
     },
     "execution_count": 36,
     "metadata": {},
     "output_type": "execute_result"
    },
    {
     "data": {
      "image/png": "[encoded data removed]",
      "text/plain": [
       "<Figure size 864x576 with 1 Axes>"
      ]
     },
     "metadata": {
      "needs_background": "light"
     },
     "output_type": "display_data"
    }
   ],
   "source": [
    "degree_freq = [G.degree(n,weight='weight') for n in G.nodes()]\n",
    "degree_cum = [sum(degree_freq[i:]) for i in range(len(degree_freq))]\n",
    "degrees = range(len(degree_freq))\n",
    "plt.figure(figsize=(12, 8)) \n",
    "plt.plot(degrees[3:], degree_cum[3:],'go-') \n",
    "plt.xlabel('Degree')\n",
    "plt.ylabel('Frequency')"
   ]
  },
  {
   "cell_type": "code",
   "execution_count": null,
   "id": "7f40e2f5-0d14-4976-8113-9a738bab7c54",
   "metadata": {},
   "outputs": [],
   "source": []
  }
 ],
 "metadata": {
  "colab": {
   "name": "build_network.ipynb",
   "provenance": []
  },
  "kernelspec": {
   "display_name": "Python 3 (ipykernel)",
   "language": "python",
   "name": "python3"
  },
  "language_info": {
   "codemirror_mode": {
    "name": "ipython",
    "version": 3
   },
   "file_extension": ".py",
   "mimetype": "text/x-python",
   "name": "python",
   "nbconvert_exporter": "python",
   "pygments_lexer": "ipython3",
   "version": "3.9.7"
  }
 },
 "nbformat": 4,
 "nbformat_minor": 5
}
