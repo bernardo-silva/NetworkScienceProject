{
 "cells": [
  {
   "cell_type": "code",
   "execution_count": 44,
   "id": "de9e911e-a447-436e-b5da-476e32952d6c",
   "metadata": {},
   "outputs": [],
   "source": [
    "import networkx as nx\n",
    "from networkx.readwrite.gml import write_gml, read_gml\n",
    "import json "
   ]
  },
  {
   "cell_type": "code",
   "execution_count": 47,
   "id": "0bcfaf22-2a38-4648-9a43-4d6f8bd2c0d7",
   "metadata": {},
   "outputs": [],
   "source": [
    "#Load data set\n",
    "with open(\"courses.json\",\"r\") as f:\n",
    "    courses = json.load(f)"
   ]
  },
  {
   "cell_type": "code",
   "execution_count": 48,
   "id": "9d0a6cb8-91f0-4d42-ab40-ba3cc22246a4",
   "metadata": {},
   "outputs": [],
   "source": [
    "for course in courses:\n",
    "    course[\"candidates\"] = len(course[\"candidates\"])"
   ]
  },
  {
   "cell_type": "code",
   "execution_count": 61,
   "id": "87164812-4e9d-411a-ba12-9f1851d87226",
   "metadata": {},
   "outputs": [],
   "source": [
    "G = nx.Graph()\n",
    "\n",
    "for c in courses:\n",
    "    G.add_node(f'{c[\"faculty\"][\"code\"]}_{c[\"code\"]}',name=c[\"name\"],\n",
    "               faculty_name=c[\"faculty\"][\"name\"],faculty_type=c[\"faculty\"][\"type\"],candidates=c[\"candidates\"])\n",
    "for c in courses:\n",
    "    for code in c[\"edges\"].keys():\n",
    "        G.add_edge(f'{c[\"faculty\"][\"code\"]}_{c[\"code\"]}',code,weight = c[\"edges\"][code])"
   ]
  },
  {
   "cell_type": "code",
   "execution_count": 62,
   "id": "c3e06bc7-b161-47ab-a682-d202074d6f1a",
   "metadata": {},
   "outputs": [],
   "source": [
    "write_gml(G,\"graph.gml\")"
   ]
  }
 ],
 "metadata": {
  "kernelspec": {
   "display_name": "Python 3 (ipykernel)",
   "language": "python",
   "name": "python3"
  },
  "language_info": {
   "codemirror_mode": {
    "name": "ipython",
    "version": 3
   },
   "file_extension": ".py",
   "mimetype": "text/x-python",
   "name": "python",
   "nbconvert_exporter": "python",
   "pygments_lexer": "ipython3",
   "version": "3.9.7"
  }
 },
 "nbformat": 4,
 "nbformat_minor": 5
}
