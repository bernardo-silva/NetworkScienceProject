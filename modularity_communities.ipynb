{
 "cells": [
  {
   "cell_type": "code",
   "execution_count": 1,
   "id": "febfa498-0b4a-4e07-bc4a-6dee7b74e71e",
   "metadata": {},
   "outputs": [],
   "source": [
    "import networkx as nx\n",
    "import networkx.algorithms.community as nx_comm\n",
    "\n",
    "from utilities import import_networks\n",
    "\n",
    "# from networkx.algorithms.community.centrality import girvan_newman\n",
    "# from networkx.algorithms.community import lukes_partitioning\n",
    "\n",
    "import matplotlib.pyplot as plt\n",
    "import numpy as np"
   ]
  },
  {
   "cell_type": "code",
   "execution_count": 2,
   "id": "5ab84891-0e86-4387-bc52-c9b9614b7f17",
   "metadata": {},
   "outputs": [
    {
     "name": "stdout",
     "output_type": "stream",
     "text": [
      "Graph with 1001 nodes and 75862 edges\n",
      "Graph with 999 nodes and 75415 edges\n",
      "Graph with 1025 nodes and 80306 edges\n",
      "Graph with 1018 nodes and 80077 edges\n"
     ]
    }
   ],
   "source": [
    "networks = import_networks()\n",
    "\n",
    "print(\"\\n\".join([str(x) for x in networks]))"
   ]
  },
  {
   "cell_type": "markdown",
   "id": "6eabc2c1-fefc-4bd5-a8ac-178f93618292",
   "metadata": {},
   "source": [
    "# Modularity network classification"
   ]
  },
  {
   "cell_type": "markdown",
   "id": "bbed3577-9640-4713-be10-23a39b286bef",
   "metadata": {},
   "source": [
    "## Finding Communities\n",
    "---"
   ]
  },
  {
   "cell_type": "code",
   "execution_count": 142,
   "id": "ab756405-5c65-41a1-8fa6-4a09dfa4755b",
   "metadata": {},
   "outputs": [],
   "source": [
    "from networkx.algorithms.community import greedy_modularity_communities"
   ]
  },
  {
   "cell_type": "code",
   "execution_count": 161,
   "id": "60ea705e-9f7b-43c8-bbb3-1e685ed66b29",
   "metadata": {},
   "outputs": [
    {
     "name": "stdout",
     "output_type": "stream",
     "text": [
      "7 communities: [335, 223, 126, 124, 85, 82, 26]\n",
      "7 communities: [332, 217, 134, 123, 83, 83, 27]\n",
      "8 communities: [328, 199, 141, 140, 84, 82, 27, 24]\n",
      "8 communities: [268, 197, 167, 165, 93, 81, 28, 19]\n",
      "CPU times: user 26.1 s, sys: 3.88 ms, total: 26.1 s\n",
      "Wall time: 26.1 s\n"
     ]
    }
   ],
   "source": [
    "%%time\n",
    "# Obtain modularity communities\n",
    "resolution = 1\n",
    "modularity_communities = [list(greedy_modularity_communities(g,weight='weight',resolution = resolution)) for g in networks]\n",
    "for comm in modularity_communities:\n",
    "    print(f\"{len(comm)} communities: {[len(x) for x in comm]}\")"
   ]
  },
  {
   "cell_type": "code",
   "execution_count": 162,
   "id": "87a906c5-9018-44e1-85f9-0b3d9b1c84ae",
   "metadata": {},
   "outputs": [
    {
     "name": "stdout",
     "output_type": "stream",
     "text": [
      "[0.5853419848395155, 0.5744591553335524, 0.6081425839562082, 0.6073114146403099]\n",
      "[(0.5304632095120086, 0.8026113886113886), (0.5176025989524631, 0.800806818842891), (0.4992155007097851, 0.8085194359756097), (0.4758295140926858, 0.8176133433014008)]\n"
     ]
    }
   ],
   "source": [
    "#Modularity scores:\n",
    "modularity_scores = [nx_comm.modularity(g,comm,weight=\"weight\") for g,comm in zip(networks,modularity_communities)]\n",
    "print(modularity_scores)\n",
    "\n",
    "partition_quality = [nx_comm.partition_quality(g,comm) for g,comm in zip(networks,modularity_communities)]\n",
    "print(partition_quality)"
   ]
  },
  {
   "cell_type": "markdown",
   "id": "d8caea19-cc40-4d22-bc83-047fd8aae288",
   "metadata": {},
   "source": [
    "## Test resolution parameter"
   ]
  },
  {
   "cell_type": "code",
   "execution_count": null,
   "id": "b7db984b-76b3-4d5d-bf5d-ce6095e63f2d",
   "metadata": {},
   "outputs": [],
   "source": [
    "# Obtain modularity communities\n",
    "def get_modullarity_communities(G:nx.Graph,resolution=1,result = None,year = None):\n",
    "    modularity_communities = [list(greedy_modularity_communities(g,weight='weight',resolution = r)) for r in resolution] \n",
    "    if result is not None:\n",
    "        result[year] = modularity_communities\n",
    "    return(modularity_communities)"
   ]
  },
  {
   "cell_type": "code",
   "execution_count": null,
   "id": "9f88293d-a1e7-454f-9fdd-c5cc6e9f5248",
   "metadata": {},
   "outputs": [],
   "source": [
    "%%time\n",
    "communities_by_resolution =  {}\n",
    "resulutions = np.arange(0,1,0.1)\n",
    "resolutions = np.append(np.arange(0,1,0.2),np.arange(1,25,0.5))\n",
    "print(resolutions)\n",
    "for g,year in zip(networks,range(2018,2022)):\n",
    "    communities_by_resolution[year] = [[list(x) for x in y] for y in get_modullarity_communities(g,resolution=resolutions)]"
   ]
  },
  {
   "cell_type": "code",
   "execution_count": 34,
   "id": "bb9b5080-d7fc-4549-a027-bb39e4cfd721",
   "metadata": {
    "scrolled": true,
    "tags": []
   },
   "outputs": [],
   "source": [
    "#Classify Communities\n",
    "communities_statistics = {}\n",
    "for (year,comms),g,r in  zip(communities_by_resolution.items(),networks,resolutions):\n",
    "    communities_statistics[year] = {\"N_communities\":    [len(x) for x in comms],\n",
    "                                    \"Avg_comm_size\":    [np.average([len(y) for y in x]) for x in comms],\n",
    "                                    \"Sigma_comm_size\":  [np.std([len(y) for y in x]) for x in comms],\n",
    "                                    \"Median_comm_size\": [np.median([len(y) for y in x]) for x in comms],\n",
    "                                    \"Modularity_score\": [nx_comm.modularity(g,c,resolution=r,weight='weight') for c in comms]}"
   ]
  },
  {
   "cell_type": "code",
   "execution_count": null,
   "id": "dde65067-f26f-4433-ac1e-c24e279407dc",
   "metadata": {},
   "outputs": [],
   "source": [
    "# Export Data\n",
    "import json\n",
    "with open(\"data/modularity_communities.json\", \"w\") as f:\n",
    "    json.dump(communities_by_resolution,f)\n",
    "with open(\"data/modularity_communities_statistics.json\", \"w\") as f:\n",
    "    json.dump(communities_statistics,f)"
   ]
  },
  {
   "cell_type": "markdown",
   "id": "b390e4fd-dc0c-4182-a42d-11ba8f758394",
   "metadata": {},
   "source": [
    "## Visualize Data\n",
    "---"
   ]
  },
  {
   "cell_type": "code",
   "execution_count": 3,
   "id": "4e41bb72-0c20-4b62-914b-6033c15c91ff",
   "metadata": {},
   "outputs": [],
   "source": [
    "#Import data\n",
    "import json\n",
    "with open(\"data/modularity_communities_statistics.json\", \"r\") as f:\n",
    "    communities_statistics = json.load(f)\n",
    "with open(\"data/modularity_communities.json\", \"r\") as f:\n",
    "    communities_by_resolution = json.load(f)\n",
    "\n",
    "resolutions = np.append(np.arange(0,1,0.2),np.arange(1,25,0.5))"
   ]
  },
  {
   "cell_type": "code",
   "execution_count": 35,
   "id": "88651203-d7e7-4326-99b7-fc060a8067da",
   "metadata": {},
   "outputs": [
    {
     "name": "stderr",
     "output_type": "stream",
     "text": [
      "/tmp/ipykernel_22307/1572019614.py:30: UserWarning: Attempted to set non-positive bottom ylim on a log-scaled axis.\n",
      "Invalid limit will be ignored.\n",
      "  a.set(xlim=(0,20),ylim=(0,a.get_ylim()[1]))\n"
     ]
    },
    {
     "data": {
      "image/png": "[encoded data removed]",
      "text/plain": [
       "<Figure size 246.614x493.228 with 4 Axes>"
      ]
     },
     "metadata": {
      "needs_background": "light"
     },
     "output_type": "display_data"
    }
   ],
   "source": [
    "#Visualize statistics\n",
    "colors = ['#EE7732', '#33BBEE',  '#EE3377',  '#0077BB']\n",
    "colors = dict(zip(range(2018,2022),colors))\n",
    "\n",
    "plt.rcParams.update({'font.size': 6})\n",
    "plt.rc('xtick', labelsize=6)    # fontsize of the tick labels\n",
    "plt.rc('ytick', labelsize=6)    \n",
    "plt.rc('axes', titlesize=6)    \n",
    "\n",
    "\n",
    "cm = 1/2.54\n",
    "fig,ax = plt.subplots(ncols=1,nrows=4,figsize=(8.7*cm,2*8.7*cm),sharex=True)\n",
    "fig.text(0.5, 0.00, 'Resolution Parameter', ha='center')\n",
    "\n",
    "ax[0].set(ylabel=\"Modularity score\",yscale=\"linear\")\n",
    "ax[1].set(ylabel=\"Number of communities\")\n",
    "# # ax[0,1].set(xlabel=\"Resolution parameter\", ylabel=\"Median community size\")\n",
    "ax[2].set( ylabel=\"Average community size\",yscale=\"log\")\n",
    "ax[3].set( ylabel=\"Std community size\",yscale=\"linear\")\n",
    "for year, data in communities_statistics.items():\n",
    "    ax[0].plot(resolutions[1:],data[\"Modularity_score\"][1:],label=year, marker='o', ms=1.5, color = colors[int(year)])\n",
    "    ax[1].plot(resolutions[1:],data[\"N_communities\"][1:],label=year, marker='o', ms=1.5,alpha=0.8, color = colors[int(year)])\n",
    "    # ax[0,1].plot(resolutions,data[\"Median_comm_size\"],label=year, marker='o', ms=3, color = colors[int(year)])\n",
    "    ax[2].plot(resolutions[1:],data[\"Avg_comm_size\"][1:],label=year, marker='o', ms=1.5, color = colors[int(year)])\n",
    "    ax[3].plot(resolutions[1:],data[\"Sigma_comm_size\"][1:],label=year, marker='o', ms=1.5, color = colors[int(year)])\n",
    "             \n",
    "\n",
    "for a in ax.flatten():\n",
    "    a.grid()\n",
    "    a.set(xlim=(0,20),ylim=(0,a.get_ylim()[1]))\n",
    "    # a.set_xticks(a.get_xticks())\n",
    "    # a.set_xticklabels(a.get_xticklabels(),fontdict={\"fontsize\":6})\n",
    "    # a.legend()\n",
    "# ax[0,0].grid()\n",
    "# ax[0,1].grid()\n",
    "ax[0].legend(ncol=4,bbox_to_anchor=(0.5,1),loc=\"lower center\",frameon=False)\n",
    "# ax[0,1].legend()\n",
    "plt.tight_layout()\n",
    "plt.savefig(\"modularity_community_statistics.pdf\")\n",
    "# plt.savefig(\"modularity_community_statistics.png\",dpi=200)"
   ]
  },
  {
   "cell_type": "code",
   "execution_count": 30,
   "id": "6d5b3eed-08a2-42d5-ba45-ed7d4398e915",
   "metadata": {},
   "outputs": [
    {
     "data": {
      "text/plain": [
       "array([ 0. ,  0.2,  0.4,  0.6,  0.8,  1. ,  1.5,  2. ,  2.5,  3. ,  3.5,\n",
       "        4. ,  4.5,  5. ,  5.5,  6. ,  6.5,  7. ,  7.5,  8. ,  8.5,  9. ,\n",
       "        9.5, 10. , 10.5, 11. , 11.5, 12. , 12.5, 13. , 13.5, 14. , 14.5,\n",
       "       15. , 15.5, 16. , 16.5, 17. , 17.5, 18. , 18.5, 19. , 19.5, 20. ,\n",
       "       20.5, 21. , 21.5, 22. , 22.5, 23. , 23.5, 24. , 24.5])"
      ]
     },
     "execution_count": 30,
     "metadata": {},
     "output_type": "execute_result"
    }
   ],
   "source": [
    "resolutions"
   ]
  },
  {
   "cell_type": "code",
   "execution_count": 32,
   "id": "b7f3973b-b7e4-4d11-9480-222ac2922be8",
   "metadata": {},
   "outputs": [
    {
     "name": "stdout",
     "output_type": "stream",
     "text": [
      "LinregressResult(slope=8.521685017418092, intercept=-5.968200013107705, rvalue=0.9977282667905746, pvalue=1.9850296483905756e-61, stderr=0.08057030057391867, intercept_stderr=1.1126343888063044)\n",
      "[0.0, 0.42594033576037416, 0.5281953837505108, 0.5803850109682843, 0.582151106583839, 0.5853419848395155, 0.5764297195024911, 0.5683549669298386, 0.5610864952977456, 0.5384659035472172, 0.5309415985579653, 0.5011588042709199, 0.47377944927749516, 0.46804460866867104, 0.45956566856728526, 0.4517191605016122, 0.44491972131294827, 0.43178526809951817, 0.423327612879073, 0.4172307258204598, 0.41088414956548475, 0.3975760764567171, 0.38819623438100115, 0.3776688925069504, 0.37032955012104124, 0.37005037132497076, 0.3552662380112231, 0.3554549374274474, 0.35139140044394274, 0.34217453009722365, 0.32898251710450005, 0.3253929129283122, 0.32274690506544357, 0.3129214495804596, 0.3106852598738318, 0.29917337020042895, 0.29533192590005797, 0.2818095754268471, 0.27746466988827556, 0.2551987406404693, 0.2498475585624832, 0.2460461118153973, 0.24206106961437826, 0.23713953299395885, 0.2361676266803388, 0.23128389921704653, 0.22333844485228097, 0.21440099653528624, 0.212906090775324, 0.20792464525012205, 0.2025931543044353, 0.19529307901934043, 0.19307980606284614]\n",
      "LinregressResult(slope=8.494664922337, intercept=-5.655174760658838, rvalue=0.9965697561618065, pvalue=7.169746317511165e-57, stderr=0.09877753904462011, intercept_stderr=1.3640669824965062)\n",
      "[0.0, 0.4154980212329693, 0.4978088807004517, 0.5626578634223245, 0.5725687078755928, 0.5744591553335524, 0.5749843554642419, 0.5528536506913748, 0.558144060779177, 0.5282682282914295, 0.5152776003775648, 0.500018915648107, 0.48097609639530875, 0.4645448739213208, 0.4581062325127832, 0.44569503635666974, 0.4402840167824551, 0.4311146895610688, 0.41765749377496275, 0.41039744592965904, 0.39032957239001337, 0.3892720899215901, 0.38819764840116405, 0.37880683049452185, 0.37249174115892275, 0.36569259092593365, 0.3464884706941313, 0.3408079332763116, 0.3358334873539615, 0.33150286844655724, 0.32717262325978974, 0.3161604094643429, 0.3081549390392186, 0.3038565275540641, 0.29966614561943966, 0.2940583057419071, 0.2891621637341538, 0.26796232831554223, 0.26566694965359844, 0.2576214783412552, 0.25211927348277785, 0.24904473508296504, 0.2440580071472899, 0.23066195185212068, 0.22975096558317742, 0.22372203658951442, 0.217758216889961, 0.21522112630477205, 0.20727407904001288, 0.19872099023531486, 0.1965845693884029, 0.19382601856805765, 0.1911798899568281]\n",
      "LinregressResult(slope=8.049540096896003, intercept=-4.290898481021614, rvalue=0.9966279567597822, pvalue=4.637563135475264e-57, stderr=0.09280001701906516, intercept_stderr=1.2815204794041188)\n",
      "[1.1102230246251565e-16, 0.43014779887797755, 0.5598361881441181, 0.5971739885103964, 0.608763035616767, 0.6081425839562082, 0.5960425372821943, 0.5843127751276025, 0.5738146300908706, 0.5643511948320068, 0.5308956253645675, 0.517008648074596, 0.5128847213821485, 0.4954128063240534, 0.4820256828967827, 0.46531411757736324, 0.4630298837784006, 0.45504518548189676, 0.4448712851607345, 0.43081963313672483, 0.42603672988075586, 0.4193334106002234, 0.4088750351027049, 0.39685327824597183, 0.39286175106297644, 0.3900195208655104, 0.38132569758846724, 0.38138761588103987, 0.3821785354451855, 0.3768593446143076, 0.3617597043853904, 0.3474264771063215, 0.3404103773477475, 0.32255009979644356, 0.3129478747522131, 0.30765391543528287, 0.3017573016470987, 0.29179263576851194, 0.28864178088828935, 0.2845807648746188, 0.2728878395193687, 0.27037697846403147, 0.2676538517380129, 0.26359242312974374, 0.25369969666222714, 0.24512969504086385, 0.23872673263429717, 0.22692390290485034, 0.2191043360631321, 0.21241174737158627, 0.21121125973125598, 0.20783444043450058, 0.2051080848235999]\n",
      "LinregressResult(slope=7.922944488976945, intercept=-3.99411162701594, rvalue=0.9971815228143799, pvalue=4.821955850948729e-59, stderr=0.08347248331189286, intercept_stderr=1.1527120389313357)\n",
      "[0.0, 0.43642434593481755, 0.5680117899602386, 0.5977110417540578, 0.6015529175578207, 0.6073114146403099, 0.5952008059614106, 0.5825032745532708, 0.5655201419808041, 0.5497796792431762, 0.5390815339865968, 0.5211068245480381, 0.5109606036213211, 0.4973836455341817, 0.48595999508629295, 0.475964179800532, 0.46357955697333036, 0.4496572721489266, 0.43857772448807836, 0.42975217312294123, 0.4221068250918428, 0.4120430817734003, 0.4011647731474559, 0.3990255162027921, 0.39307000361276134, 0.3896891754410627, 0.3811905906694602, 0.37915743724792184, 0.37207764150175376, 0.3685302204307199, 0.36695015481585264, 0.36070419638868545, 0.3455250968025802, 0.32368288759484604, 0.3149190881564038, 0.31181594712188354, 0.3043158751481048, 0.30199367166829855, 0.2964534158951107, 0.2875526708879862, 0.28115571937580064, 0.2751919457115124, 0.2613808826485466, 0.25560822466647487, 0.24036566643743937, 0.23995494701459416, 0.238445622869593, 0.23154871743565014, 0.22392436466722287, 0.21904378032391544, 0.21654528691144057, 0.20635664695655676, 0.20422320559061707]\n"
     ]
    }
   ],
   "source": [
    "from scipy.stats import linregress\n",
    "\n",
    "fits = []\n",
    "for year, data in communities_statistics.items():\n",
    "    fits.append(linregress(resolutions, data[\"N_communities\"]))\n",
    "    print(fits[-1])\n",
    "    print(data[\"Modularity_score\"])\n",
    "    "
   ]
  },
  {
   "cell_type": "code",
   "execution_count": null,
   "id": "c907ae5b-d734-4e65-88c6-89bb5cca82ff",
   "metadata": {},
   "outputs": [],
   "source": [
    "from scipy.stats import norm"
   ]
  },
  {
   "cell_type": "code",
   "execution_count": null,
   "id": "7f187f0d-8c85-4809-adf8-8b9bd020094b",
   "metadata": {},
   "outputs": [],
   "source": [
    "fig,ax = plt.subplots(figsize=(10,5))\n",
    "ax.set(xlabel=\"Community size\", ylabel=\"p\")\n",
    "\n",
    "x = np.linspace(0,150,200)\n",
    "for average,std in zip(communities_statistics[2018][\"Avg_comm_size\"],communities_statistics[2018][\"Sigma_comm_size\"]):\n",
    "    ax.plot(x,norm(loc=average,scale=std).pdf(x),label=year, marker='',ls='-', ms=3)\n",
    "             \n",
    "ax.grid()\n",
    "# ax.legend()"
   ]
  },
  {
   "cell_type": "code",
   "execution_count": 63,
   "id": "57b188f1-ad1a-4c6f-a792-6395d9a97ab6",
   "metadata": {},
   "outputs": [
    {
     "data": {
      "text/plain": [
       "53"
      ]
     },
     "execution_count": 63,
     "metadata": {},
     "output_type": "execute_result"
    }
   ],
   "source": []
  },
  {
   "cell_type": "code",
   "execution_count": null,
   "id": "f87ef39d-4f4a-4238-a944-317ea88eba51",
   "metadata": {
    "scrolled": true,
    "tags": []
   },
   "outputs": [],
   "source": [
    "g = networks[0]\n",
    "comm = [[g.nodes[y][\"name\"] for y in x] for x in communities_by_resolution[\"2018\"][6]]\n",
    "print(comm[2])\n",
    "print()\n",
    "print(comm[3])\n",
    "\n",
    "areas_in_comm = []\n",
    "for a in comm:\n",
    "    unique = list(set(a))\n",
    "    areas_in_comm.append({area: a.count(area) for area in unique})\n",
    "    # print(a)\n",
    "print(areas_in_comm)\n",
    "print()"
   ]
  },
  {
   "cell_type": "code",
   "execution_count": 55,
   "id": "5a2951a1-23a0-47d9-92fb-7ba4f516ab28",
   "metadata": {},
   "outputs": [],
   "source": [
    "# Find matching communities\n",
    "def enumerate_simmilarity(d1,d2):\n",
    "    scores = []\n",
    "    simmilarity = lambda d,d1: len(d1.keys() & d.keys()) * sum([d1[c]*d[c]/(1+abs(d1[c]-d[c])) for c in (d1.keys() & d.keys())])\n",
    "    for d in d1:\n",
    "        scores.append([simmilarity(d,dd) for dd in d2])\n",
    "        \n",
    "    scores = np.array(scores,dtype=float)\n",
    "    best = np.full(len(d1),-1)\n",
    "        \n",
    "    for i in range(len(d1)):\n",
    "        index = np.unravel_index(scores.argmax(),scores.shape)\n",
    "        best[index[0]] = index[1]\n",
    "        scores[index[0]] = -1\n",
    "        scores[:,index[1]] = -1\n",
    "     \n",
    "    return list(zip(best,d1))"
   ]
  },
  {
   "cell_type": "code",
   "execution_count": 62,
   "id": "d006757d-1d5c-41b0-a9f2-2177f3b3f9aa",
   "metadata": {},
   "outputs": [
    {
     "data": {
      "image/png": "[encoded data removed]",
      "text/plain": [
       "<Figure size 1513.7x198.425 with 1 Axes>"
      ]
     },
     "metadata": {
      "needs_background": "light"
     },
     "output_type": "display_data"
    }
   ],
   "source": [
    "colors = ['#BBBBBB', '#EE7732', '#33BBEE', '#CC3311', '#009988', '#EE3377',  '#0077BB','#DDAA33', '#999933']\n",
    "areas  = ['Educação', 'Artes e Arquitetura',\n",
    "          'Humanidades', 'Direito, Ciências Sociais e do Comportamento', 'Ciências Empresariais', \n",
    "          'Ciências da Vida', 'Ciências Exatas', 'Serviços Sociais e Pessoais', 'Saúde']\n",
    "areas_en  = ['Education', 'Arts and Architecture',\n",
    "          'Human Sciences', 'Social and Behavioral Sciences; Law', 'Business Sciences', \n",
    "          'Life Sciences', 'Exact Sciences', 'Social and Personal Services', 'Health']\n",
    "areas_en=dict(zip(areas,areas_en))\n",
    "area_colors = dict(zip(areas,colors))\n",
    "# plt.rcparams()\n",
    "plt.rcParams.update({'font.size': 9})\n",
    "\n",
    "\n",
    "x0 = 0\n",
    "\n",
    "cm = 1/2.54\n",
    "fig,ax = plt.subplots(figsize=(3*17.8*cm,7*cm))\n",
    "\n",
    "resolution_index = -1\n",
    "areas_in_comm = []\n",
    "for n, G in enumerate(networks):\n",
    "    comm = [[G.nodes[y][\"area\"] for y in x] for x in communities_by_resolution[str(G.graph[\"year\"])][resolution_index]]\n",
    "    areas_in_comm.append([{area: a.count(area) for area in list(set(a))} for a in comm])\n",
    "    \n",
    "max_idx = areas_in_comm.index(max(areas_in_comm, key = len))\n",
    "max_comms = max(areas_in_comm, key = len)\n",
    "max_comms_enum = list(enumerate(max_comms))\n",
    "\n",
    "for i in range(0,4):\n",
    "    if i == max_idx: \n",
    "        areas_in_comm[i] = max_comms_enum\n",
    "        continue\n",
    "    areas_in_comm[i] = enumerate_simmilarity(areas_in_comm[i], max_comms)\n",
    "    \n",
    "for n, (G,areas_year) in enumerate(zip(networks,areas_in_comm)):\n",
    "    y_offset = 0\n",
    "    for i,area in areas_year:\n",
    "        y_offset = 0\n",
    "        parts = list(area.items())\n",
    "        parts.sort(reverse=True,key = lambda x: x[1])\n",
    "        for j,(a,count) in enumerate(parts):\n",
    "            ax.bar(x0 + i*5+n,count,bottom=y_offset,color=area_colors[a],label=areas_en[a])\n",
    "            y_offset += count\n",
    "\n",
    "years = list(range(2018,2022))*len(max_comms)\n",
    "idx = [x0 + i*5 + j for i in range(len(max_comms)) for j in range(4)]        \n",
    "            \n",
    "ax.set_xticks(idx)\n",
    "ax.set_xticklabels(years, rotation=65, fontdict={\"fontsize\":6})\n",
    "\n",
    "ax.set(xlim=(-1,ax.get_xlim()[1]-1))\n",
    "\n",
    "ax.set_title(f\"Resolution parameter = {resolutions[resolution_index]}\", fontdict={\"fontsize\":8})\n",
    "\n",
    "ax.set_ylabel(f\"Number of elements\", fontdict={\"fontsize\":8})\n",
    "handles, labels = plt.gca().get_legend_handles_labels()\n",
    "by_label = dict(zip(labels, handles))\n",
    "ax.legend(by_label.values(), by_label.keys(),bbox_to_anchor=(1,1), loc=\"upper right\",\n",
    "            fontsize=7, markerfirst=False, frameon=False)\n",
    "\n",
    "plt.tight_layout()\n",
    "plt.savefig(\"comm.pdf\")\n",
    "# plt.savefig(\"comm.jpeg\",dpi=200)"
   ]
  },
  {
   "cell_type": "code",
   "execution_count": 61,
   "id": "18187b7d-ab4b-4835-9e19-f5b61503d74c",
   "metadata": {},
   "outputs": [
    {
     "data": {
      "image/png": "[encoded data removed]",
      "text/plain": [
       "<Figure size 504.567x297.638 with 4 Axes>"
      ]
     },
     "metadata": {
      "needs_background": "light"
     },
     "output_type": "display_data"
    }
   ],
   "source": [
    "colors = ['#BBBBBB', '#EE7732', '#33BBEE', '#CC3311', '#009988', '#EE3377',  '#0077BB','#DDAA33', '#999933']\n",
    "areas  = ['Educação', 'Artes e Arquitetura',\n",
    "          'Humanidades', 'Direito, Ciências Sociais e do Comportamento', 'Ciências Empresariais', \n",
    "          'Ciências da Vida', 'Ciências Exatas', 'Serviços Sociais e Pessoais', 'Saúde']\n",
    "areas_en  = ['Education', 'Arts and Architecture',\n",
    "          'Human Sciences', 'Social and Behavioral Sciences; Law', 'Business Sciences', \n",
    "          'Life Sciences', 'Exact Sciences', 'Social and Personal Services', 'Health']\n",
    "areas_en=dict(zip(areas,areas_en))\n",
    "area_colors = dict(zip(areas,colors))\n",
    "# plt.rcparams()\n",
    "plt.rcParams.update({'font.size': 9})\n",
    "\n",
    "\n",
    "x0 = 0\n",
    "\n",
    "cm = 1/2.54\n",
    "# fig,axes = plt.subplots(nrows=5, figsize=(17.8*cm,5*4*cm))\n",
    "\n",
    "mosaic = \"\"\"\n",
    "AB\n",
    "CC\n",
    "DD\n",
    "\"\"\"\n",
    "fig = plt.figure(constrained_layout=False, figsize=(17.8*cm,3*3.5*cm))\n",
    "ax_dict = fig.subplot_mosaic(mosaic)\n",
    "\n",
    "# resolution_index = 9\n",
    "for ax,resolution_index in zip(ax_dict.values(),[1,3,5,7]):\n",
    "    areas_in_comm = []\n",
    "    for n, G in enumerate(networks):\n",
    "        comm = [[G.nodes[y][\"area\"] for y in x] for x in communities_by_resolution[str(G.graph[\"year\"])][resolution_index]]\n",
    "        areas_in_comm.append([{area: a.count(area) for area in list(set(a))} for a in comm])\n",
    "\n",
    "    max_idx = areas_in_comm.index(max(areas_in_comm, key = len))\n",
    "    max_comms = max(areas_in_comm, key = len)\n",
    "    max_comms_enum = list(enumerate(max_comms))\n",
    "\n",
    "    for i in range(0,4):\n",
    "        if i == max_idx: \n",
    "            areas_in_comm[i] = max_comms_enum\n",
    "            continue\n",
    "        areas_in_comm[i] = enumerate_simmilarity(areas_in_comm[i], max_comms)\n",
    "\n",
    "    for n, (G,areas_year) in enumerate(zip(networks,areas_in_comm)):\n",
    "        y_offset = 0\n",
    "        for i,area in areas_year:\n",
    "            y_offset = 0\n",
    "            parts = list(area.items())\n",
    "            parts.sort(reverse=True,key = lambda x: x[1])\n",
    "            for j,(a,count) in enumerate(parts):\n",
    "                ax.bar(x0 + i*5+n,count,bottom=y_offset,color=area_colors[a],label=areas_en[a])\n",
    "                y_offset += count\n",
    "\n",
    "    years = list(range(18,22))*len(max_comms)\n",
    "    idx = [x0 + i*5 + j for i in range(len(max_comms)) for j in range(4)]        \n",
    "    idx_minor = [x0 + i*5 + 4 for i in range(len(max_comms)-1) for j in range(4)]        \n",
    "\n",
    "    ax.set_xticks(idx_minor,minor=True)\n",
    "    ax.set_xticks(idx,minor=False)\n",
    "    ax.tick_params(which=\"minor\",axis=\"x\",direction=\"in\")\n",
    "    ax.set_xticklabels(years, rotation=65, fontdict={\"fontsize\":6})\n",
    "\n",
    "    ax.set(xlim=(-1,idx[-1]+1))\n",
    "    ax.spines['right'].set_visible(False)\n",
    "    ax.spines['top'].set_visible(False)\n",
    "\n",
    "\n",
    "    ax.set_title(f\"Resolution parameter = {resolutions[resolution_index]:.1f}\", fontdict={\"fontsize\":8})\n",
    "\n",
    "# axes[1].set_ylabel(f\"Number of elements\", fontdict={\"fontsize\":8})\n",
    "fig.text(0.0, 0.50, 'Number of elements', va='center',ha='left',rotation=90)\n",
    "handles, labels = plt.gca().get_legend_handles_labels()\n",
    "by_label = dict(zip(labels, handles))\n",
    "\n",
    "fig.legend(by_label.values(), by_label.keys(), ncol = 5,loc=\"upper left\", #bbox_to_anchor=(0,1.1), \n",
    "            fontsize=7, markerfirst=True, frameon=False,  borderaxespad=0,mode=\"expand\")\n",
    "\n",
    "plt.tight_layout()\n",
    "plt.subplots_adjust(top=0.87)\n",
    "plt.savefig(\"images/modularity_communities_by_field.pdf\")\n",
    "# plt.savefig(\"comm.jpeg\",dpi=200)\n"
   ]
  },
  {
   "cell_type": "code",
   "execution_count": 73,
   "id": "d1ba8850-ea8a-4fd9-a5c4-5cc0bb928288",
   "metadata": {},
   "outputs": [
    {
     "data": {
      "image/png": "[encoded data removed]",
      "text/plain": [
       "<Figure size 666.142x504.567 with 7 Axes>"
      ]
     },
     "metadata": {
      "needs_background": "light"
     },
     "output_type": "display_data"
    }
   ],
   "source": [
    "colors = ['#BBBBBB', '#EE7732', '#33BBEE', '#CC3311', '#009988', '#EE3377',  '#0077BB','#DDAA33', '#999933']\n",
    "areas  = ['Educação', 'Artes e Arquitetura',\n",
    "          'Humanidades', 'Direito, Ciências Sociais e do Comportamento', 'Ciências Empresariais', \n",
    "          'Ciências da Vida', 'Ciências Exatas', 'Serviços Sociais e Pessoais', 'Saúde']\n",
    "areas_en  = ['Education', 'Arts and Architecture',\n",
    "          'Human Sciences', 'Social and Behavioral Sciences; Law', 'Business Sciences', \n",
    "          'Life Sciences', 'Exact Sciences', 'Social and Personal Services', 'Health']\n",
    "areas_en=dict(zip(areas,areas_en))\n",
    "area_colors = dict(zip(areas,colors))\n",
    "\n",
    "plt.rcParams.update({'font.size': 9})\n",
    "\n",
    "x0 = 0\n",
    "\n",
    "\n",
    "mosaic = \"\"\"\n",
    "ABC\n",
    "DDD\n",
    "EEE\n",
    "FFF\n",
    "GGG\n",
    "\"\"\"\n",
    "cm = 1/2.54\n",
    "fig = plt.figure(constrained_layout=False, figsize=(23.5*cm,17.8*cm))\n",
    "ax_dict = fig.subplot_mosaic(mosaic)\n",
    "\n",
    "for ax,resolution_index in zip(ax_dict.values(),[4,7,9,23,33,43,52]):\n",
    "    areas_in_comm = []\n",
    "    for n, G in enumerate(networks):\n",
    "        comm = [[G.nodes[y][\"area\"] for y in x] for x in communities_by_resolution[str(G.graph[\"year\"])][resolution_index]]\n",
    "        areas_in_comm.append([{area: a.count(area) for area in list(set(a))} for a in comm])\n",
    "\n",
    "    max_idx = areas_in_comm.index(max(areas_in_comm, key = len))\n",
    "    max_comms = max(areas_in_comm, key = len)\n",
    "    max_comms_enum = list(enumerate(max_comms))\n",
    "\n",
    "    for i in range(0,4):\n",
    "        if i == max_idx: \n",
    "            areas_in_comm[i] = max_comms_enum\n",
    "            continue\n",
    "        areas_in_comm[i] = enumerate_simmilarity(areas_in_comm[i], max_comms)\n",
    "\n",
    "    for n, (G,areas_year) in enumerate(zip(networks,areas_in_comm)):\n",
    "        y_offset = 0\n",
    "        for i,area in areas_year:\n",
    "            y_offset = 0\n",
    "            parts = list(area.items())\n",
    "            parts.sort(reverse=True,key = lambda x: x[1])\n",
    "            for j,(a,count) in enumerate(parts):\n",
    "                ax.bar(x0 + i*5+n,count,bottom=y_offset,color=area_colors[a],label=areas_en[a])\n",
    "                y_offset += count\n",
    "\n",
    "    if resolution_index < 10:\n",
    "        years = list(range(18,22))*len(max_comms)\n",
    "        idx = [x0 + i*5 + j for i in range(len(max_comms)) for j in range(4)]        \n",
    "        idx_minor = [x0 + i*5 + 4 for i in range(len(max_comms)-1) for j in range(4)]        \n",
    "        ax.set_xticks(idx_minor,minor=True)\n",
    "        ax.set_xticks(idx,minor=False)\n",
    "        ax.tick_params(which=\"minor\",axis=\"x\",direction=\"in\")\n",
    "        ax.set_xticklabels([\"\"]*len(idx), rotation=65, fontdict={\"fontsize\":6})\n",
    "    else:\n",
    "        years = list(range(18,22))*len(max_comms)\n",
    "        idx = [x0 + i*5 + j for i in range(len(max_comms)) for j in range(4)]        \n",
    "        idx_minor = [x0 + i*5 + 4 for i in range(len(max_comms)-1) for j in range(4)]        \n",
    "        ax.set_xticks([],minor=False)\n",
    "        ax.set_xticklabels([], rotation=65, fontdict={\"fontsize\":6})\n",
    "\n",
    "\n",
    "    ax.set(xlim=(-1,idx[-1]+1))\n",
    "    ax.spines['right'].set_visible(False)\n",
    "    ax.spines['top'].set_visible(False)\n",
    "\n",
    "\n",
    "    ax.text(0.5,1,f\"Resolution parameter = {resolutions[resolution_index]:.1f}\", fontsize=8,transform=ax.transAxes,va=\"top\",ha=\"center\")\n",
    "\n",
    "# axes[1].set_ylabel(f\"Number of elements\", fontdict={\"fontsize\":8})\n",
    "fig.text(0.0, 0.50, 'Number of elements', va='center',ha='left',rotation=90)\n",
    "handles, labels = plt.gca().get_legend_handles_labels()\n",
    "by_label = dict(zip(labels, handles))\n",
    "\n",
    "fig.legend(by_label.values(), by_label.keys(), ncol = 5,loc=\"upper left\", #bbox_to_anchor=(0,1.1), \n",
    "            fontsize=7, markerfirst=True, frameon=False,  borderaxespad=0,mode=\"expand\")\n",
    "\n",
    "plt.tight_layout()\n",
    "plt.subplots_adjust(top=0.87)\n",
    "plt.savefig(\"images/modularity_communities_by_field_extra.pdf\",orientation='landscape')\n",
    "# plt.savefig(\"comm.jpeg\",dpi=200)\n"
   ]
  },
  {
   "cell_type": "markdown",
   "id": "7b4ad198-2a00-4df6-9599-6c4fac1093cd",
   "metadata": {},
   "source": [
    "**Dimensoes TeX: 17.8 x 23.5**"
   ]
  },
  {
   "cell_type": "markdown",
   "id": "aa6f3ca5-e3df-46c0-8efc-bc85b15545df",
   "metadata": {},
   "source": [
    "# Cities"
   ]
  },
  {
   "cell_type": "code",
   "execution_count": 220,
   "id": "db148d50-56b6-430e-96f7-9733f035a923",
   "metadata": {},
   "outputs": [],
   "source": [
    "cities = list(set([n[\"faculty_name\"].split(\":\")[0].replace(\"Universidade\",\"\").replace(\"Instituto Politécnico\",\"\") for _,n in networks[0].nodes(data=True)]))"
   ]
  },
  {
   "cell_type": "code",
   "execution_count": 221,
   "id": "4e71c492-bf76-4da3-94bb-30d6077c7a52",
   "metadata": {},
   "outputs": [],
   "source": [
    "cities = [\" \".join([x for x in c.split(\" \") if not x.startswith(\"d\") and len(x)>4]) for c in cities]"
   ]
  },
  {
   "cell_type": "code",
   "execution_count": 222,
   "id": "6020b0bd-0b82-4ef3-b118-a159aef80c1a",
   "metadata": {},
   "outputs": [
    {
     "data": {
      "text/plain": [
       "['Trás-os-Montes Douro',\n",
       " 'Setúbal',\n",
       " 'Leiria',\n",
       " 'Bragança',\n",
       " 'Escola Superior Enfermagem Porto',\n",
       " 'Tomar',\n",
       " 'Beira Interior',\n",
       " 'Santarém',\n",
       " 'Escola Superior Hotelaria Turismo Estoril',\n",
       " 'Lisboa',\n",
       " 'Lisboa',\n",
       " 'Évora',\n",
       " 'Porto',\n",
       " 'Escola Superior Enfermagem Coimbra',\n",
       " 'Viana Castelo',\n",
       " 'Escola Superior Enfermagem Lisboa',\n",
       " 'Guarda',\n",
       " 'Coimbra',\n",
       " 'Cávado',\n",
       " 'ISCTE',\n",
       " 'Escola Superior Náutica Infante Henrique',\n",
       " '',\n",
       " 'Castelo Branco',\n",
       " 'Viseu',\n",
       " 'Madeira',\n",
       " 'Minho',\n",
       " 'Algarve',\n",
       " 'Aveiro',\n",
       " 'Açores',\n",
       " 'Portalegre']"
      ]
     },
     "execution_count": 222,
     "metadata": {},
     "output_type": "execute_result"
    }
   ],
   "source": [
    "cities"
   ]
  },
  {
   "cell_type": "code",
   "execution_count": null,
   "id": "8cb4c750-9a57-4f5f-b296-439b20400e44",
   "metadata": {},
   "outputs": [],
   "source": [
    "['Trás-os-Montes',\n",
    " 'Setúbal',\n",
    " 'Leiria',\n",
    " 'Bragança',\n",
    " 'Tomar',\n",
    " 'Beira Interior',\n",
    " 'Santarém',\n",
    " 'Escola Superior Hotelaria Turismo Estoril',\n",
    " 'Lisboa',\n",
    " 'Lisboa',\n",
    " 'Évora',\n",
    " 'Porto',\n",
    " 'Escola Superior Enfermagem Coimbra',\n",
    " 'Viana Castelo',\n",
    " 'Escola Superior Enfermagem Lisboa',\n",
    " 'Guarda',\n",
    " 'Coimbra',\n",
    " 'Cávado',\n",
    " 'ISCTE',\n",
    " 'Escola Superior Náutica Infante Henrique',\n",
    " '',\n",
    " 'Castelo Branco',\n",
    " 'Viseu',\n",
    " 'Madeira',\n",
    " 'Minho',\n",
    " 'Algarve',\n",
    " 'Aveiro',\n",
    " 'Açores',\n",
    " 'Portalegre']"
   ]
  },
  {
   "cell_type": "code",
   "execution_count": 223,
   "id": "eee60d53-a7bb-4223-b3e9-562f1523c9cc",
   "metadata": {
    "scrolled": true,
    "tags": []
   },
   "outputs": [
    {
     "data": {
      "text/plain": [
       "['Universidade de Coimbra: Faculdade de Farmácia',\n",
       " 'Instituto Politécnico de Beja: Escola Superior de Educação',\n",
       " 'Universidade de Trás-os-Montes e Alto Douro: Escola de Ciências e Tecnologia',\n",
       " 'Universidade do Porto: Faculdade de Engenharia',\n",
       " 'Universidade de Lisboa: Instituto Superior Técnico',\n",
       " 'Universidade do Porto: Faculdade de Psicologia e de Ciências da Educação',\n",
       " 'Instituto Politécnico de Coimbra: Escola Superior de Tecnologia e Gestão de Oliveira do Hospital',\n",
       " 'Universidade do Algarve',\n",
       " 'Universidade de Aveiro',\n",
       " 'Universidade do Minho: Escola Superior de Enfermagem',\n",
       " 'Escola Superior de Enfermagem do Porto',\n",
       " 'Instituto Politécnico de Coimbra: Escola Superior Agrária de Coimbra',\n",
       " 'Instituto Politécnico de Portalegre: Escola Superior de Tecnologia e Gestão',\n",
       " 'Universidade de Lisboa: Faculdade de Farmácia',\n",
       " 'Universidade de Coimbra: Faculdade de Letras',\n",
       " 'Instituto Politécnico de Castelo Branco: Escola Superior de Gestão de Idanha-a-Nova',\n",
       " 'Universidade do Porto: Faculdade de Direito',\n",
       " 'Universidade do Algarve: Escola Superior de Educação e Comunicação',\n",
       " 'Instituto Politécnico de Castelo Branco: Escola Superior de Saúde Dr. Lopes Dias',\n",
       " 'Instituto Politécnico de Leiria: Escola Superior de Tecnologia e Gestão',\n",
       " 'Instituto Politécnico de Coimbra: Instituto Superior de Engenharia de Coimbra',\n",
       " 'Instituto Politécnico de Viana do Castelo: Escola Superior Agrária',\n",
       " 'Universidade de Lisboa: Instituto Superior de Ciências Sociais e Políticas',\n",
       " 'Escola Superior de Enfermagem de Coimbra',\n",
       " 'Universidade do Porto: Faculdade de Ciências',\n",
       " 'Instituto Politécnico da Guarda: Escola Superior de Tecnologia e Gestão',\n",
       " 'Universidade do Algarve: Escola Superior de Gestão, Hotelaria e Turismo (Portimão)',\n",
       " 'Universidade do Porto: Instituto de Ciências Biomédicas Abel Salazar',\n",
       " 'Instituto Politécnico do Porto: Escola Superior de Media Artes e Design',\n",
       " 'Instituto Politécnico de Viana do Castelo: Escola Superior de Tecnologia e Gestão',\n",
       " 'Universidade dos Açores: Faculdade de Ciências e Tecnologia',\n",
       " 'Universidade da Madeira: Escola Superior de Saúde',\n",
       " 'Universidade do Porto: Faculdade de Belas-Artes',\n",
       " 'Instituto Politécnico de Bragança: Escola Superior Agrária de Bragança',\n",
       " 'Universidade dos Açores: Faculdade de Ciências Agrárias e do Ambiente',\n",
       " 'Instituto Politécnico de Lisboa: Instituto Superior de Engenharia de Lisboa',\n",
       " 'Universidade do Porto: Faculdade de Medicina',\n",
       " 'Universidade de Lisboa: Faculdade de Ciências',\n",
       " 'Universidade de Lisboa: Faculdade de Medicina',\n",
       " 'Instituto Politécnico de Lisboa: Escola Superior de Comunicação Social',\n",
       " 'Instituto Politécnico de Coimbra: Escola Superior de Educação de Coimbra',\n",
       " 'ISCTE: Instituto Universitário de Lisboa',\n",
       " 'Instituto Politécnico do Cávado e do Ave: Escola Superior de Gestão',\n",
       " 'Universidade de Coimbra: Faculdade de Medicina',\n",
       " 'Universidade Nova de Lisboa: Faculdade de Ciências Médicas',\n",
       " 'Instituto Politécnico de Bragança: Escola Superior de Comunicação, Administração e Turismo de Mirandela',\n",
       " 'Universidade de Lisboa: Instituto Superior de Economia e Gestão',\n",
       " 'Instituto Politécnico de Beja: Escola Superior de Tecnologia e de Gestão',\n",
       " 'Universidade da Madeira: Faculdade de Ciências da Vida',\n",
       " 'Universidade de Lisboa: Faculdade de Arquitetura',\n",
       " 'Universidade do Porto: Faculdade de Desporto',\n",
       " 'Instituto Politécnico do Porto: Escola Superior de Saúde',\n",
       " 'Universidade do Porto: Faculdade de Letras',\n",
       " 'Universidade dos Açores: Escola Superior de Saúde: Angra do Heroísmo',\n",
       " 'Instituto Politécnico de Viseu: Escola Superior de Tecnologia e Gestão de Viseu',\n",
       " 'Instituto Politécnico de Viseu: Escola Superior de Tecnologia e Gestão de Lamego',\n",
       " 'Instituto Politécnico do Cávado e do Ave: Escola Superior de Hotelaria e Turismo',\n",
       " 'Instituto Politécnico da Guarda: Escola Superior de Saúde da Guarda',\n",
       " 'Instituto Politécnico de Leiria: Escola Superior de Turismo e Tecnologia do Mar',\n",
       " 'Instituto Politécnico de Setúbal: Escola Superior de Tecnologia de Setúbal',\n",
       " 'Instituto Politécnico de Setúbal: Escola Superior de Saúde',\n",
       " 'Instituto Politécnico de Tomar: Escola Superior de Tecnologia de Abrantes',\n",
       " 'Universidade de Évora: Escola Superior de Enfermagem de São João de Deus',\n",
       " 'Universidade de Lisboa: Instituto de Geografia e Ordenamento do Território',\n",
       " 'Universidade de Aveiro: Instituto Superior de Contabilidade e Administração de Aveiro',\n",
       " 'Instituto Politécnico de Leiria: Escola Superior de Educação e Ciências Sociais',\n",
       " 'Instituto Politécnico do Cávado e do Ave: Escola Superior de Design',\n",
       " 'Universidade de Lisboa: Faculdade de Letras',\n",
       " 'Escola Superior de Enfermagem de Lisboa',\n",
       " 'Universidade dos Açores: Faculdade de Economia e Gestão',\n",
       " 'Universidade de Coimbra: Faculdade de Ciências e Tecnologia',\n",
       " 'Universidade Nova de Lisboa: Faculdade de Ciências Sociais e Humanas',\n",
       " 'Universidade do Algarve: Escola Superior de Gestão, Hotelaria e Turismo',\n",
       " 'Universidade de Aveiro: Escola Superior de Design, Gestão e Tecnologia da Produção de Aveiro-Norte',\n",
       " 'Instituto Politécnico de Santarém: Escola Superior de Gestão e Tecnologia de Santarém',\n",
       " 'Instituto Politécnico de Viana do Castelo: Escola Superior de Saúde',\n",
       " 'Universidade de Évora: Escola de Ciências Sociais',\n",
       " 'Universidade de Coimbra: Faculdade de Economia',\n",
       " 'Universidade de Aveiro: Escola Superior de Tecnologia e Gestão de Águeda',\n",
       " 'Instituto Politécnico de Beja: Escola Superior Agrária',\n",
       " 'Universidade de Aveiro: Escola Superior de Saúde de Aveiro',\n",
       " 'Instituto Politécnico de Beja: Escola Superior de Saúde',\n",
       " 'Universidade do Porto: Faculdade de Ciências da Nutrição e da Alimentação',\n",
       " 'Instituto Politécnico de Coimbra: Escola Superior de Tecnologia da Saúde de Coimbra',\n",
       " 'Universidade Nova de Lisboa: Faculdade de Economia',\n",
       " 'Universidade de Coimbra: Faculdade de Psicologia e de Ciências da Educação',\n",
       " 'Universidade de Lisboa: Faculdade de Belas-Artes',\n",
       " 'Instituto Politécnico de Viana do Castelo: Escola Superior de Desporto e Lazer',\n",
       " 'Instituto Politécnico de Viana do Castelo: Escola Superior de Educação',\n",
       " 'Universidade de Lisboa: Faculdade de Motricidade Humana',\n",
       " 'Instituto Politécnico de Leiria: Escola Superior de Artes e Design',\n",
       " 'Instituto Politécnico de Tomar: Escola Superior de Gestão de Tomar',\n",
       " 'Universidade de Trás-os-Montes e Alto Douro: Escola de Ciências Agrárias e Veterinárias',\n",
       " 'Instituto Politécnico de Lisboa: Instituto Superior de Contabilidade e Administração de Lisboa',\n",
       " 'Universidade dos Açores: Faculdade de Ciências Sociais e Humanas',\n",
       " 'Instituto Politécnico de Portalegre: Escola Superior de Educação e Ciências Sociais',\n",
       " 'Universidade de Lisboa: Instituto Superior de Agronomia',\n",
       " 'Universidade Nova de Lisboa: Faculdade de Direito',\n",
       " 'Instituto Politécnico do Porto: Instituto Superior de Contabilidade e Administração do Porto',\n",
       " 'Instituto Politécnico do Porto: Escola Superior de Hotelaria e Turismo',\n",
       " 'Instituto Politécnico de Setúbal: Escola Superior de Tecnologia do Barreiro',\n",
       " 'Instituto Politécnico de Viseu: Escola Superior de Educação de Viseu',\n",
       " 'Universidade da Beira Interior',\n",
       " 'Universidade do Porto: Faculdade de Farmácia',\n",
       " 'Universidade do Porto: Faculdade de Economia',\n",
       " 'Universidade de Lisboa: Faculdade de Medicina Veterinária',\n",
       " 'Universidade de Lisboa: Faculdade de Psicologia',\n",
       " 'Instituto Politécnico de Tomar: Escola Superior de Tecnologia de Tomar',\n",
       " 'Universidade da Madeira: Faculdade de Artes e Humanidades',\n",
       " 'Instituto Politécnico do Porto: Escola Superior de Educação',\n",
       " 'Universidade Nova de Lisboa: Instituto Superior de Estatística e Gestão de Informação',\n",
       " 'Instituto Politécnico de Santarém: Escola Superior de Desporto de Rio Maior',\n",
       " 'Instituto Politécnico de Castelo Branco: Escola Superior de Artes Aplicadas',\n",
       " 'Universidade do Porto: Faculdade de Medicina Dentária',\n",
       " 'Instituto Politécnico de Bragança: Escola Superior de Educação de Bragança',\n",
       " 'Instituto Politécnico de Castelo Branco: Escola Superior de Tecnologia de Castelo Branco',\n",
       " 'Universidade dos Açores: Escola Superior de Saúde: Ponta Delgada',\n",
       " 'Instituto Politécnico de Lisboa: Escola Superior de Tecnologia da Saúde de Lisboa',\n",
       " 'Escola Superior Náutica Infante D. Henrique',\n",
       " 'Universidade de Évora: Escola de Ciências e Tecnologia',\n",
       " 'Instituto Politécnico de Setúbal: Escola Superior de Ciências Empresariais',\n",
       " 'Universidade de Évora: Escola de Artes',\n",
       " 'Instituto Politécnico de Bragança: Escola Superior de Tecnologia e de Gestão de Bragança',\n",
       " 'Instituto Politécnico de Santarém: Escola Superior de Saúde de Santarém',\n",
       " 'Instituto Politécnico de Bragança: Escola Superior de Saúde de Bragança',\n",
       " 'Instituto Politécnico de Leiria: Escola Superior de Saúde',\n",
       " 'Instituto Politécnico da Guarda: Escola Superior de Turismo e Hotelaria',\n",
       " 'Instituto Politécnico de Viseu: Escola Superior de Saúde de Viseu',\n",
       " 'Universidade Nova de Lisboa: Faculdade de Ciências e Tecnologia',\n",
       " 'Instituto Politécnico de Viana do Castelo: Escola Superior de Ciências Empresariais',\n",
       " 'Universidade do Algarve: Faculdade de Economia',\n",
       " 'Universidade de Trás-os-Montes e Alto Douro: Escola de Ciências da Vida e do Ambiente',\n",
       " 'Instituto Politécnico de Castelo Branco: Escola Superior Agrária de Castelo Branco',\n",
       " 'Instituto Politécnico do Porto: Instituto Superior de Engenharia do Porto',\n",
       " 'Instituto Politécnico de Portalegre: Escola Superior de Saúde',\n",
       " 'Universidade do Minho',\n",
       " 'Instituto Politécnico de Setúbal: Escola Superior de Educação',\n",
       " 'Universidade do Algarve: Faculdade de Ciências Humanas e Sociais',\n",
       " 'Instituto Politécnico de Lisboa: Escola Superior de Educação',\n",
       " 'Escola Superior de Hotelaria e Turismo do Estoril',\n",
       " 'Universidade de Lisboa: Instituto Superior Técnico (Tagus Park)',\n",
       " 'Instituto Politécnico de Santarém: Escola Superior de Educação de Santarém',\n",
       " 'Universidade do Algarve: Instituto Superior de Engenharia',\n",
       " 'Instituto Politécnico do Cávado e do Ave: Escola Superior de Tecnologia',\n",
       " 'Universidade de Coimbra: Faculdade de Direito',\n",
       " 'Instituto Politécnico de Castelo Branco: Escola Superior de Educação de Castelo Branco',\n",
       " 'Universidade de Lisboa: Faculdade de Medicina Dentária',\n",
       " 'Universidade de Coimbra: Faculdade de Ciências do Desporto e Educação Física',\n",
       " 'Instituto Politécnico de Portalegre: Escola Superior Agrária de Elvas',\n",
       " 'Universidade da Madeira: Faculdade de Ciências Exatas e da Engenharia',\n",
       " 'Instituto Politécnico do Porto: Escola Superior de Tecnologia e Gestão',\n",
       " 'Instituto Politécnico de Viseu: Escola Superior Agrária de Viseu',\n",
       " 'Universidade de Lisboa: Faculdade de Direito',\n",
       " 'Universidade de Lisboa: Instituto de Educação',\n",
       " 'Universidade do Algarve: Escola Superior de Saúde',\n",
       " 'Universidade de Trás-os-Montes e Alto Douro: Escola Superior de Saúde',\n",
       " 'Instituto Politécnico de Coimbra: Instituto Superior de Contabilidade e Administração de Coimbra',\n",
       " 'Instituto Politécnico da Guarda: Escola Superior de Educação, Comunicação e Desporto',\n",
       " 'Instituto Politécnico de Santarém: Escola Superior Agrária de Santarém',\n",
       " 'Universidade do Algarve: Faculdade de Ciências e Tecnologia',\n",
       " 'Universidade da Madeira: Escola Superior de Tecnologias e Gestão',\n",
       " 'Universidade do Porto: Faculdade de Arquitetura',\n",
       " 'Universidade da Madeira: Faculdade de Ciências Sociais',\n",
       " 'Universidade de Trás-os-Montes e Alto Douro: Escola de Ciências Humanas e Sociais']"
      ]
     },
     "execution_count": 223,
     "metadata": {},
     "output_type": "execute_result"
    }
   ],
   "source": [
    "list(set([n[\"faculty_name\"] for _,n in networks[0].nodes(data=True)]))"
   ]
  },
  {
   "cell_type": "code",
   "execution_count": 225,
   "id": "e2f9c9ba-4b64-456a-9cbb-6e22b3811755",
   "metadata": {},
   "outputs": [
    {
     "data": {
      "image/png": "[encoded data removed]",
      "text/plain": [
       "<Figure size 504.567x198.425 with 1 Axes>"
      ]
     },
     "metadata": {
      "needs_background": "light"
     },
     "output_type": "display_data"
    }
   ],
   "source": [
    "colors = ['#BBBBBB', '#EE7732', '#33BBEE', '#CC3311', '#009988', '#EE3377',  '#0077BB','#DDAA33', '#999933']\n",
    "# areas  = ['Educação', 'Artes e Arquitetura',\n",
    "          # 'Humanidades', 'Direito, Ciências Sociais e do Comportamento', 'Ciências Empresariais', \n",
    "          # 'Ciências da Vida', 'Ciências Exatas', 'Serviços Sociais e Pessoais', 'Saúde']\n",
    "# areas_en  = ['Education', 'Arts and Architecture',\n",
    "          # 'Human Sciences', 'Social and Behavioral Sciences; Law', 'Business Sciences', \n",
    "          # 'Life Sciences', 'Exact Sciences', 'Social and Personal Services', 'Health']\n",
    "# areas_en=dict(zip(areas,areas_en))\n",
    "# area_colors = dict(zip(areas,colors))\n",
    "# plt.rcparams()\n",
    "plt.rcParams.update({'font.size': 9})\n",
    "\n",
    "\n",
    "x0 = 0\n",
    "\n",
    "cm = 1/2.54\n",
    "fig,ax = plt.subplots(figsize=(17.8*cm,7*cm))\n",
    "\n",
    "resolution_index = 5\n",
    "areas_in_comm = []\n",
    "for n, G in enumerate(networks):\n",
    "    comm = [[G.nodes[y][\"faculty_name\"] for y in x] for x in communities_by_resolution[str(G.graph[\"year\"])][resolution_index]]\n",
    "    areas_in_comm.append([{area: a.count(area) for area in list(set(a))} for a in comm])\n",
    "    \n",
    "max_idx = areas_in_comm.index(max(areas_in_comm, key = len))\n",
    "max_comms = max(areas_in_comm, key = len)\n",
    "max_comms_enum = list(enumerate(max_comms))\n",
    "\n",
    "for i in range(0,4):\n",
    "    if i == max_idx: \n",
    "        areas_in_comm[i] = max_comms_enum\n",
    "        continue\n",
    "    areas_in_comm[i] = enumerate_simmilarity(areas_in_comm[i], max_comms)\n",
    "    \n",
    "for n, (G,areas_year) in enumerate(zip(networks,areas_in_comm)):\n",
    "    y_offset = 0\n",
    "    for i,area in areas_year:\n",
    "        y_offset = 0\n",
    "        parts = list(area.items())\n",
    "        parts.sort(reverse=True,key = lambda x: x[1])\n",
    "        for j,(a,count) in enumerate(parts):\n",
    "            ax.bar(x0 + i*5+n,count,bottom=y_offset)\n",
    "            y_offset += count\n",
    "\n",
    "years = list(range(2018,2022))*len(max_comms)\n",
    "idx = [x0 + i*5 + j for i in range(len(max_comms)) for j in range(4)]        \n",
    "            \n",
    "ax.set_xticks(idx)\n",
    "ax.set_xticklabels(years, rotation=65, fontdict={\"fontsize\":6})\n",
    "\n",
    "ax.set(xlim=(-1,ax.get_xlim()[1]-1))\n",
    "\n",
    "ax.set_title(f\"Resolution parameter = {resolutions[resolution_index]}\", fontdict={\"fontsize\":8})\n",
    "\n",
    "ax.set_ylabel(f\"Number of elements\", fontdict={\"fontsize\":8})\n",
    "handles, labels = plt.gca().get_legend_handles_labels()\n",
    "by_label = dict(zip(labels, handles))\n",
    "ax.legend(by_label.values(), by_label.keys(),bbox_to_anchor=(1,1), loc=\"upper right\",\n",
    "            fontsize=7, markerfirst=False, frameon=False)\n",
    "\n",
    "plt.tight_layout()\n",
    "plt.savefig(\"comm.pdf\")\n",
    "# plt.savefig(\"comm.jpeg\",dpi=200)\n"
   ]
  },
  {
   "cell_type": "code",
   "execution_count": null,
   "id": "2fca3d69-c4a8-4bd0-8666-ccaa50432835",
   "metadata": {},
   "outputs": [],
   "source": []
  }
 ],
 "metadata": {
  "kernelspec": {
   "display_name": "Python 3 (ipykernel)",
   "language": "python",
   "name": "python3"
  },
  "language_info": {
   "codemirror_mode": {
    "name": "ipython",
    "version": 3
   },
   "file_extension": ".py",
   "mimetype": "text/x-python",
   "name": "python",
   "nbconvert_exporter": "python",
   "pygments_lexer": "ipython3",
   "version": "3.9.7"
  }
 },
 "nbformat": 4,
 "nbformat_minor": 5
}
