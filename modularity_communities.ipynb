{
 "cells": [
  {
   "cell_type": "markdown",
   "id": "c5efc37a-b618-477f-b464-0e50b627a109",
   "metadata": {},
   "source": [
    "# Analyse modularity with R&B parameter\n",
    "---"
   ]
  },
  {
   "cell_type": "code",
   "execution_count": 1,
   "id": "febfa498-0b4a-4e07-bc4a-6dee7b74e71e",
   "metadata": {},
   "outputs": [],
   "source": [
    "import networkx as nx\n",
    "import networkx.algorithms.community as nx_comm\n",
    "\n",
    "from utilities import import_networks\n",
    "\n",
    "import matplotlib.pyplot as plt\n",
    "import numpy as np\n",
    "from networkx.algorithms.community import greedy_modularity_communities\n",
    "\n",
    "from tqdm.notebook import tqdm"
   ]
  },
  {
   "cell_type": "code",
   "execution_count": 2,
   "id": "5ab84891-0e86-4387-bc52-c9b9614b7f17",
   "metadata": {},
   "outputs": [
    {
     "name": "stdout",
     "output_type": "stream",
     "text": [
      "Graph with 1001 nodes and 75862 edges\n",
      "Graph with 999 nodes and 75415 edges\n",
      "Graph with 1025 nodes and 80306 edges\n",
      "Graph with 1018 nodes and 80077 edges\n"
     ]
    }
   ],
   "source": [
    "networks = import_networks()\n",
    "\n",
    "print(\"\\n\".join([str(x) for x in networks]))"
   ]
  },
  {
   "cell_type": "markdown",
   "id": "bbed3577-9640-4713-be10-23a39b286bef",
   "metadata": {},
   "source": [
    "## Finding Communities\n",
    "---"
   ]
  },
  {
   "cell_type": "code",
   "execution_count": null,
   "id": "60ea705e-9f7b-43c8-bbb3-1e685ed66b29",
   "metadata": {},
   "outputs": [],
   "source": [
    "%%time\n",
    "# Obtain modularity communities\n",
    "resolution = 1\n",
    "modularity_communities = [list(greedy_modularity_communities(g,weight='weight',resolution = resolution)) for g in networks]\n",
    "for comm in modularity_communities:\n",
    "    print(f\"{len(comm)} communities: {[len(x) for x in comm]}\")"
   ]
  },
  {
   "cell_type": "code",
   "execution_count": null,
   "id": "87a906c5-9018-44e1-85f9-0b3d9b1c84ae",
   "metadata": {},
   "outputs": [],
   "source": [
    "#Modularity scores:\n",
    "modularity_scores = [nx_comm.modularity(g,comm,weight=\"weight\") for g,comm in zip(networks,modularity_communities)]\n",
    "print(modularity_scores)\n",
    "\n",
    "partition_quality = [nx_comm.partition_quality(g,comm) for g,comm in zip(networks,modularity_communities)]\n",
    "print(partition_quality)"
   ]
  },
  {
   "cell_type": "markdown",
   "id": "d8caea19-cc40-4d22-bc83-047fd8aae288",
   "metadata": {},
   "source": [
    "## Test resolution parameter"
   ]
  },
  {
   "cell_type": "code",
   "execution_count": 33,
   "id": "b7db984b-76b3-4d5d-bf5d-ce6095e63f2d",
   "metadata": {},
   "outputs": [],
   "source": [
    "# Obtain modularity communities\n",
    "def get_modullarity_communities(G:nx.Graph,resolution=1):\n",
    "    modularity_communities = list(greedy_modularity_communities(g,weight='weight',resolution = r))\n",
    "    return(modularity_communities)"
   ]
  },
  {
   "cell_type": "code",
   "execution_count": 180,
   "id": "9f88293d-a1e7-454f-9fdd-c5cc6e9f5248",
   "metadata": {},
   "outputs": [
    {
     "name": "stdout",
     "output_type": "stream",
     "text": [
      "[0.6]\n"
     ]
    },
    {
     "data": {
      "application/vnd.jupyter.widget-view+json": {
       "model_id": "936626d77f6b44b1aecfc635ef14c4cb",
       "version_major": 2,
       "version_minor": 0
      },
      "text/plain": [
       "  0%|          | 0/1 [00:00<?, ?it/s]"
      ]
     },
     "metadata": {},
     "output_type": "display_data"
    },
    {
     "name": "stdout",
     "output_type": "stream",
     "text": [
      "CPU times: user 33.8 s, sys: 13.2 ms, total: 33.8 s\n",
      "Wall time: 33.9 s\n"
     ]
    }
   ],
   "source": [
    "%%time\n",
    "# resolutions = np.arange(0,1,0.1)\n",
    "# resolutions = np.append(resolutions,np.arange(1,20.5,0.5))\n",
    "# resolutions = np.append(resolutions,np.arange(20,50,1))\n",
    "# resolutions = np.append(resolutions,np.arange(50,1020,25))\n",
    "resolutions = [0.6]\n",
    "\n",
    "print(resolutions)\n",
    "for r in tqdm(resolutions):\n",
    "    for g,year in zip(networks,range(2018,2022)):\n",
    "        communities_by_resolution[year][r] = [list(y) for y in get_modullarity_communities(g,resolution=resolutions)]"
   ]
  },
  {
   "cell_type": "code",
   "execution_count": 206,
   "id": "bb9b5080-d7fc-4549-a027-bb39e4cfd721",
   "metadata": {
    "scrolled": true,
    "tags": []
   },
   "outputs": [],
   "source": [
    "#Classify Communities\n",
    "communities_statistics = {}\n",
    "for (year,comms),g in  zip(communities_by_resolution.items(),networks):\n",
    "    communities_statistics[year] = {\"N_communities\":    [(r,len(x)) for r,x in comms.items()],\n",
    "                                    \"Avg_comm_size\":    [np.average([len(y) for y in x]) for x in comms.values()],\n",
    "                                    \"Sigma_comm_size\":  [np.std([len(y) for y in x]) for x in comms.values()],\n",
    "                                    \"Median_comm_size\": [np.median([len(y) for y in x]) for x in comms.values()]}#,\n",
    "                                    # \"Modularity_score\": [nx_comm.modularity(g,c,resolution=r, weight='weight') for r,c in list(comms.items())]}"
   ]
  },
  {
   "cell_type": "code",
   "execution_count": null,
   "id": "dcf66b1b-9a99-481d-8060-56031abffd32",
   "metadata": {},
   "outputs": [],
   "source": [
    "[len(x) for r,x in list(communities_by_resolution[2021].items())]"
   ]
  },
  {
   "cell_type": "code",
   "execution_count": 208,
   "id": "dde65067-f26f-4433-ac1e-c24e279407dc",
   "metadata": {},
   "outputs": [],
   "source": [
    "# Export Data\n",
    "import json\n",
    "for year in range(2018,2022):\n",
    "    keys = [float(x) for x in communities_by_resolution[year].keys()]\n",
    "    communities_by_resolution[year] = dict(zip(keys, communities_by_resolution[year].values()))\n",
    "with open(\"data/modularity_communities.json\", \"w\") as f:\n",
    "    json.dump(communities_by_resolution,f)\n",
    "with open(\"data/modularity_communities_statistics.json\", \"w\") as f:\n",
    "    json.dump(communities_statistics,f)"
   ]
  },
  {
   "cell_type": "markdown",
   "id": "b390e4fd-dc0c-4182-a42d-11ba8f758394",
   "metadata": {},
   "source": [
    "## Visualize Data\n",
    "---"
   ]
  },
  {
   "cell_type": "code",
   "execution_count": 79,
   "id": "4e41bb72-0c20-4b62-914b-6033c15c91ff",
   "metadata": {},
   "outputs": [],
   "source": [
    "#Import data\n",
    "import json\n",
    "def keystoint(x):\n",
    "    return {int(k): v for k, v in x.items()}\n",
    "with open(\"data/modularity_communities_statistics.json\", \"r\") as f:\n",
    "    communities_statistics = json.load(f)\n",
    "with open(\"data/modularity_communities.json\", \"r\") as f:\n",
    "    communities_by_resolution = json.load(f, object_hook=keystoint)\n",
    "    \n",
    "\n",
    "resolutions = np.append(np.arange(0,1,0.2),np.arange(1,25,0.5))"
   ]
  },
  {
   "cell_type": "code",
   "execution_count": 148,
   "id": "88651203-d7e7-4326-99b7-fc060a8067da",
   "metadata": {},
   "outputs": [
    {
     "data": {
      "image/png": "[encoded data removed]",
      "text/plain": [
       "<Figure size 246.614x123.307 with 1 Axes>"
      ]
     },
     "metadata": {
      "needs_background": "light"
     },
     "output_type": "display_data"
    }
   ],
   "source": [
    "#Visualize statistics\n",
    "colors = ['#EE7732', '#33BBEE',  '#EE3377',  '#0077BB']\n",
    "colors = dict(zip(range(2018,2022),colors))\n",
    "\n",
    "plt.rcParams.update({'font.size': 6})\n",
    "plt.rc('xtick', labelsize=6)    # fontsize of the tick labels\n",
    "plt.rc('ytick', labelsize=6)    \n",
    "plt.rc('axes', titlesize=6)    \n",
    "\n",
    "\n",
    "cm = 1/2.54\n",
    "fig,ax = plt.subplots(ncols=1,nrows=1,figsize=(8.7*cm,0.5*8.7*cm),sharex=True)\n",
    "fig.text(0.5, 0.00, 'Resolution Parameter', ha='center')\n",
    "\n",
    "ax.set(ylabel=\"Number of communities\",xscale=\"linear\",yscale=\"linear\",xlim=(0,30),ylim=(0,280))\n",
    "for year, data in communities_statistics.items():\n",
    "    x = list(communities_by_resolution[int(year)].keys())\n",
    "    y = data[\"N_communities\"]\n",
    "    \n",
    "    x = [x for x,y in data[\"N_communities\"] if x<=30]\n",
    "    y = [y for x,y in data[\"N_communities\"] if x<=30]\n",
    "    \n",
    "    \n",
    "    ax.plot(x,y,label=year, marker='o',ls=\"-\", ms=1.5,alpha=0.8, color = colors[int(year)])\n",
    "    \n",
    "ax.grid()\n",
    "ax.legend(ncol=4,bbox_to_anchor=(0.5,1),loc=\"lower center\",frameon=False)\n",
    "plt.tight_layout()\n",
    "plt.savefig(\"images/modularity_community_N.pdf\")\n",
    "# plt.savefig(\"modularity_community_statistics.png\",dpi=200)"
   ]
  },
  {
   "cell_type": "code",
   "execution_count": 150,
   "id": "b7f3973b-b7e4-4d11-9480-222ac2922be8",
   "metadata": {},
   "outputs": [
    {
     "name": "stdout",
     "output_type": "stream",
     "text": [
      "\\SI{8.671(0.0828)}{} & \\SI{-6.204(1.1874)}{} & 0.9974\\\\\n",
      "\\SI{8.668(0.0994)}{} & \\SI{-6.202(1.4250)}{} & 0.9963\\\\\n",
      "\\SI{8.132(0.0811)}{} & \\SI{-4.308(1.1629)}{} & 0.9972\\\\\n",
      "\\SI{8.070(0.0829)}{} & \\SI{-4.470(1.1880)}{} & 0.9970\\\\\n"
     ]
    }
   ],
   "source": [
    "from scipy.stats import linregress\n",
    "\n",
    "fits = []\n",
    "for year, data in communities_statistics.items():\n",
    "    x = [x for x,y in data[\"N_communities\"] if x<=30]\n",
    "    y = [y for x,y in data[\"N_communities\"] if x<=30]\n",
    "    \n",
    "    fits.append(linregress(list(zip(x,y))))\n",
    "    # print(fits[-1])\n",
    "    print(f\"\\\\SI{{{fits[-1].slope:.3f}({fits[-1].stderr:.4f})}}{{}} & \\\\SI{{{fits[-1].intercept:.3f}({fits[-1].intercept_stderr:.4f})}}{{}} & {fits[-1].rvalue:.4f}\\\\\\\\\")#, str(fits[-1].intercept),str(fits[-1].pvalue)]))"
   ]
  },
  {
   "cell_type": "code",
   "execution_count": 149,
   "id": "19d6b1a3-f952-45e0-b6a1-f0baa6777799",
   "metadata": {},
   "outputs": [
    {
     "name": "stdout",
     "output_type": "stream",
     "text": [
      "{2018: 7604.0, 2019: 19500.0, 2020: 4439.0, 2021: 3171.0}\n"
     ]
    },
    {
     "data": {
      "image/png": "[encoded data removed]",
      "text/plain": [
       "<Figure size 246.614x172.63 with 1 Axes>"
      ]
     },
     "metadata": {
      "needs_background": "light"
     },
     "output_type": "display_data"
    }
   ],
   "source": [
    "#ASYMPTOTIC \n",
    "rmax = {}\n",
    "for g,year in zip(networks,range(2018,2022)):\n",
    "    rmax[year] = min([n for n,x in communities_by_resolution[year].items() if len(x)==g.number_of_nodes()])\n",
    "pos = dict(zip(range(2018,2022),[5,12,105,250]))\n",
    "print(rmax)\n",
    "\n",
    "colors = ['#EE7732', '#33BBEE',  '#EE3377',  '#0077BB']\n",
    "colors = dict(zip(range(2018,2022),colors))\n",
    "\n",
    "plt.rcParams.update({'font.size': 6})\n",
    "plt.rc('xtick', labelsize=6)    # fontsize of the tick labels\n",
    "plt.rc('ytick', labelsize=6)    \n",
    "plt.rc('axes', titlesize=6)    \n",
    "\n",
    "\n",
    "cm = 1/2.54\n",
    "fig,ax = plt.subplots(ncols=1,nrows=1,figsize=(8.7*cm,0.7*8.7*cm),sharex=True)\n",
    "fig.text(0.5, 0.00, 'Resolution Parameter', ha='center')\n",
    "\n",
    "ax.set(ylabel=\"Number of communities\",xscale=\"log\",yscale=\"log\",ylim=(5,1.1e3))\n",
    "# for year, data in communities_statisticsj.items():\n",
    "for year in range(2018,2022):\n",
    "    n_comms = [len(y) for x,y in communities_by_resolution[year].items()]\n",
    "    resolutions = [int(x) for x,y in communities_by_resolution[year].items()]\n",
    "    \n",
    "    resolutions,n_comms = list(zip(*sorted(list(zip(resolutions,n_comms)), key=lambda x: x[0])))\n",
    "    \n",
    "    ax.plot(resolutions,n_comms,marker=\"o\",ls=\"-\",markersize=1, label=year, c=colors[year],alpha=0.8)\n",
    "    ax.axvline(rmax[year],ls=\"--\",lw=0.8,c=colors[year],alpha=0.7)\n",
    "    # ax.text(rmax[year],pos[year],year,ha=\"right\")\n",
    "    resolutions,n_comms = list(zip(*sorted(list(zip(resolutions,n_comms)), key=lambda x: x[0])))\n",
    "    \n",
    "             \n",
    "\n",
    "ax.grid()\n",
    "ax.legend(ncol=4,bbox_to_anchor=(0.5,1),loc=\"lower center\",frameon=False)\n",
    "plt.tight_layout()\n",
    "plt.savefig(\"images/modularity_community_asymptotic.pdf\")\n"
   ]
  },
  {
   "cell_type": "code",
   "execution_count": 56,
   "id": "16fd699d-3369-450d-98c9-9e4a68f6772b",
   "metadata": {},
   "outputs": [],
   "source": [
    "#RMAX\n",
    "W = {}\n",
    "for year, g in zip(range(2018,2022),networks):\n",
    "    W[year] = sum([edge[2][\"weight\"] for edge in g.edges(data=True)])\n",
    "    \n",
    "ws = dict(zip(range(2018,2022),[[],[],[],[]]))\n",
    "for year, g in zip(range(2018,2022),networks):\n",
    "    for x in g.nodes():\n",
    "        for y in g.nodes():\n",
    "            if x != y:\n",
    "                n = g.number_of_nodes()\n",
    "                try:\n",
    "                    wij = g.edges[x,y]['weight']\n",
    "                except:\n",
    "                    continue\n",
    "                wi  = nx.degree(g,x,weight=\"weight\") \n",
    "                wj  = nx.degree(g,y,weight=\"weight\") \n",
    "                ws[year].append(((x,y,wi,wj,wij), 2 * W[year] * wij/(wi*wj)))\n",
    "                "
   ]
  },
  {
   "cell_type": "code",
   "execution_count": 59,
   "id": "bef1dd99-087f-4946-bfec-dcdda826dc55",
   "metadata": {},
   "outputs": [
    {
     "name": "stdout",
     "output_type": "stream",
     "text": [
      "{2018: 506771, 2019: 506703, 2020: 644401, 2021: 660132}\n",
      "(('1307_A011', '1307_A010', 30, 9, 2), 7507.718518518518)\n",
      "(('3062_L163', '3131_9878', 5, 21, 2), 19302.97142857143)\n",
      "(('3141_L169', '3141_8419', 62, 5, 1), 4157.4258064516125)\n",
      "(('3152_9123', '3154_9090', 215, 2, 1), 3070.381395348837)\n"
     ]
    }
   ],
   "source": [
    "print(W)\n",
    "for year in range(2018,2022):\n",
    "    print(max(ws[year], key = lambda x: x[1]))"
   ]
  },
  {
   "cell_type": "code",
   "execution_count": null,
   "id": "c907ae5b-d734-4e65-88c6-89bb5cca82ff",
   "metadata": {},
   "outputs": [],
   "source": [
    "from scipy.stats import norm"
   ]
  },
  {
   "cell_type": "code",
   "execution_count": null,
   "id": "7f187f0d-8c85-4809-adf8-8b9bd020094b",
   "metadata": {},
   "outputs": [],
   "source": [
    "fig,ax = plt.subplots(figsize=(10,5))\n",
    "ax.set(xlabel=\"Community size\", ylabel=\"p\")\n",
    "\n",
    "x = np.linspace(0,150,200)\n",
    "for average,std in zip(communities_statistics[2018][\"Avg_comm_size\"],communities_statistics[2018][\"Sigma_comm_size\"]):\n",
    "    ax.plot(x,norm(loc=average,scale=std).pdf(x),label=year, marker='',ls='-', ms=3)\n",
    "             \n",
    "ax.grid()\n",
    "# ax.legend()"
   ]
  },
  {
   "cell_type": "code",
   "execution_count": 63,
   "id": "6883df12-ac86-41a7-8bef-7dd36ff4691f",
   "metadata": {},
   "outputs": [],
   "source": [
    "# Find matching communities\n",
    "def enumerate_simmilarity(enum, min_courses, max_courses):\n",
    "    scores = []\n",
    "    simmilarity = lambda x, y: len(set(x) & set(y))**2 /(1 + len(set(x) - set(y)) + len(set(y) - set(x)))\n",
    "    for comm1 in min_courses:\n",
    "        scores.append([simmilarity(comm1,comm2) for comm2 in max_courses])\n",
    "        \n",
    "    scores = np.array(scores,dtype=float)\n",
    "    best = np.full(len(min_courses),-1)\n",
    "        \n",
    "    for i in range(len(min_courses)):\n",
    "        index = np.unravel_index(scores.argmax(),scores.shape)\n",
    "        best[index[0]] = index[1]\n",
    "        scores[index[0]] = -1e6\n",
    "        scores[:,index[1]] = -1e6\n",
    "     \n",
    "    return list(zip(best,enum))"
   ]
  },
  {
   "cell_type": "code",
   "execution_count": 8,
   "id": "fcfefd14-8e14-4249-a798-5822b940f6eb",
   "metadata": {
    "tags": []
   },
   "outputs": [
    {
     "name": "stdout",
     "output_type": "stream",
     "text": [
      "[(0, {'Ciências da Vida': 6, 'Ciências Exatas': 14, 'Educação': 26, 'Humanidades': 82, 'Ciências Empresariais': 156, 'Artes e Arquitetura': 99, 'Direito, Ciências Sociais e do Comportamento': 98, 'Serviços Sociais e Pessoais': 93}), (1, {'Ciências da Vida': 83, 'Ciências Exatas': 237, 'Educação': 1, 'Ciências Empresariais': 2, 'Artes e Arquitetura': 2, 'Saúde': 102})]\n",
      "574\n",
      "427\n"
     ]
    },
    {
     "data": {
      "image/png": "[encoded data removed]",
      "text/plain": [
       "<Figure size 1513.7x198.425 with 1 Axes>"
      ]
     },
     "metadata": {
      "needs_background": "light"
     },
     "output_type": "display_data"
    }
   ],
   "source": [
    "colors = ['#BBBBBB', '#EE7732', '#33BBEE', '#CC3311', '#009988', '#EE3377',  '#0077BB','#DDAA33', '#999933']\n",
    "areas  = ['Educação', 'Artes e Arquitetura',\n",
    "          'Humanidades', 'Direito, Ciências Sociais e do Comportamento', 'Ciências Empresariais', \n",
    "          'Ciências da Vida', 'Ciências Exatas', 'Serviços Sociais e Pessoais', 'Saúde']\n",
    "areas_en  = ['Education', 'Arts and Architecture',\n",
    "          'Human Sciences', 'Social and Behavioral Sciences; Law', 'Business Sciences', \n",
    "          'Life Sciences', 'Exact Sciences', 'Social and Personal Services', 'Health']\n",
    "areas_en=dict(zip(areas,areas_en))\n",
    "area_colors = dict(zip(areas,colors))\n",
    "plt.rcParams.update({'font.size': 9})\n",
    "\n",
    "\n",
    "x0 = 0\n",
    "\n",
    "cm = 1/2.54\n",
    "fig,ax = plt.subplots(figsize=(3*17.8*cm,7*cm))\n",
    "\n",
    "resolution_index = 1\n",
    "areas_in_comm = {}\n",
    "for G in networks:\n",
    "    comm = [[G.nodes[y][\"area\"] for y in x] for x in communities_by_resolution[str(G.graph[\"year\"])][resolution_index]]\n",
    "    areas_in_comm[G.graph[\"year\"]] = [{area: a.count(area) for area in list(set(a))} for a in comm]\n",
    "    \n",
    "max_idx = max(areas_in_comm, key = lambda x: len(areas_in_comm.get(x)))\n",
    "max_comms_enum = list(enumerate(areas_in_comm[max_idx]))\n",
    "\n",
    "max_comms = communities_by_resolution[str(max_idx)][resolution_index]\n",
    "\n",
    "for (year, count), courses in zip(areas_in_comm.items(),list(communities_by_resolution.values())):\n",
    "    if year == max_idx: \n",
    "        areas_in_comm[year] = max_comms_enum\n",
    "        continue\n",
    "    areas_in_comm[year] = enumerate_simmilarity(areas_in_comm[year], courses[resolution_index], max_comms)\n",
    "    \n",
    "for n, (G,areas_year) in enumerate(zip(networks,areas_in_comm.values())):\n",
    "    y_offset = 0\n",
    "    for i,area in areas_year:\n",
    "        y_offset = 0\n",
    "        parts = list(area.items())\n",
    "        parts.sort(reverse=True,key = lambda x: x[1])\n",
    "        for j,(a,count) in enumerate(parts):\n",
    "            ax.bar(x0 + i*5+n,count,bottom=y_offset,color=area_colors[a],label=areas_en[a])\n",
    "            y_offset += count\n",
    "\n",
    "years = list(range(2018,2022))*len(max_comms)\n",
    "idx = [x0 + i*5 + j for i in range(len(max_comms)) for j in range(4)]        \n",
    "            \n",
    "ax.set_xticks(idx)\n",
    "ax.set_xticklabels(years, rotation=65, fontdict={\"fontsize\":6})\n",
    "\n",
    "ax.set(xlim=(-1,ax.get_xlim()[1]-1))\n",
    "\n",
    "ax.set_title(f\"Resolution parameter = {resolutions[resolution_index]}\", fontdict={\"fontsize\":8})\n",
    "\n",
    "ax.set_ylabel(f\"Number of elements\", fontdict={\"fontsize\":8})\n",
    "handles, labels = plt.gca().get_legend_handles_labels()\n",
    "by_label = dict(zip(labels, handles))\n",
    "ax.legend(by_label.values(), by_label.keys(),bbox_to_anchor=(1,1), loc=\"upper right\",\n",
    "            fontsize=7, markerfirst=False, frameon=False)\n",
    "\n",
    "plt.tight_layout()\n",
    "plt.savefig(\"comm.pdf\")\n",
    "# plt.savefig(\"comm.jpeg\",dpi=200)\n",
    "\n",
    "print(areas_in_comm[2018])\n",
    "print(sum(areas_in_comm[2018][0][1].values()))\n",
    "print(sum(areas_in_comm[2018][1][1].values()))"
   ]
  },
  {
   "cell_type": "code",
   "execution_count": 12,
   "id": "d006757d-1d5c-41b0-a9f2-2177f3b3f9aa",
   "metadata": {
    "collapsed": true,
    "jupyter": {
     "outputs_hidden": true,
     "source_hidden": true
    },
    "tags": []
   },
   "outputs": [
    {
     "ename": "TypeError",
     "evalue": "enumerate_simmilarity() missing 1 required positional argument: 'max_courses'",
     "output_type": "error",
     "traceback": [
      "\u001b[0;31m---------------------------------------------------------------------------\u001b[0m",
      "\u001b[0;31mTypeError\u001b[0m                                 Traceback (most recent call last)",
      "\u001b[0;32m/tmp/ipykernel_2830/3971787177.py\u001b[0m in \u001b[0;36m<module>\u001b[0;34m\u001b[0m\n\u001b[1;32m     31\u001b[0m         \u001b[0mareas_in_comm\u001b[0m\u001b[0;34m[\u001b[0m\u001b[0mi\u001b[0m\u001b[0;34m]\u001b[0m \u001b[0;34m=\u001b[0m \u001b[0mmax_comms_enum\u001b[0m\u001b[0;34m\u001b[0m\u001b[0;34m\u001b[0m\u001b[0m\n\u001b[1;32m     32\u001b[0m         \u001b[0;32mcontinue\u001b[0m\u001b[0;34m\u001b[0m\u001b[0;34m\u001b[0m\u001b[0m\n\u001b[0;32m---> 33\u001b[0;31m     \u001b[0mareas_in_comm\u001b[0m\u001b[0;34m[\u001b[0m\u001b[0mi\u001b[0m\u001b[0;34m]\u001b[0m \u001b[0;34m=\u001b[0m \u001b[0menumerate_simmilarity\u001b[0m\u001b[0;34m(\u001b[0m\u001b[0mareas_in_comm\u001b[0m\u001b[0;34m[\u001b[0m\u001b[0mi\u001b[0m\u001b[0;34m]\u001b[0m\u001b[0;34m,\u001b[0m \u001b[0mmax_comms\u001b[0m\u001b[0;34m)\u001b[0m\u001b[0;34m\u001b[0m\u001b[0;34m\u001b[0m\u001b[0m\n\u001b[0m\u001b[1;32m     34\u001b[0m \u001b[0;34m\u001b[0m\u001b[0m\n\u001b[1;32m     35\u001b[0m \u001b[0;32mfor\u001b[0m \u001b[0mn\u001b[0m\u001b[0;34m,\u001b[0m \u001b[0;34m(\u001b[0m\u001b[0mG\u001b[0m\u001b[0;34m,\u001b[0m\u001b[0mareas_year\u001b[0m\u001b[0;34m)\u001b[0m \u001b[0;32min\u001b[0m \u001b[0menumerate\u001b[0m\u001b[0;34m(\u001b[0m\u001b[0mzip\u001b[0m\u001b[0;34m(\u001b[0m\u001b[0mnetworks\u001b[0m\u001b[0;34m,\u001b[0m\u001b[0mareas_in_comm\u001b[0m\u001b[0;34m)\u001b[0m\u001b[0;34m)\u001b[0m\u001b[0;34m:\u001b[0m\u001b[0;34m\u001b[0m\u001b[0;34m\u001b[0m\u001b[0m\n",
      "\u001b[0;31mTypeError\u001b[0m: enumerate_simmilarity() missing 1 required positional argument: 'max_courses'"
     ]
    },
    {
     "data": {
      "image/png": "[encoded data removed]",
      "text/plain": [
       "<Figure size 1513.7x198.425 with 1 Axes>"
      ]
     },
     "metadata": {
      "needs_background": "light"
     },
     "output_type": "display_data"
    }
   ],
   "source": [
    "colors = ['#BBBBBB', '#EE7732', '#33BBEE', '#CC3311', '#009988', '#EE3377',  '#0077BB','#DDAA33', '#999933']\n",
    "areas  = ['Educação', 'Artes e Arquitetura',\n",
    "          'Humanidades', 'Direito, Ciências Sociais e do Comportamento', 'Ciências Empresariais', \n",
    "          'Ciências da Vida', 'Ciências Exatas', 'Serviços Sociais e Pessoais', 'Saúde']\n",
    "areas_en  = ['Education', 'Arts and Architecture',\n",
    "          'Human Sciences', 'Social and Behavioral Sciences; Law', 'Business Sciences', \n",
    "          'Life Sciences', 'Exact Sciences', 'Social and Personal Services', 'Health']\n",
    "areas_en=dict(zip(areas,areas_en))\n",
    "area_colors = dict(zip(areas,colors))\n",
    "# plt.rcparams()\n",
    "plt.rcParams.update({'font.size': 9})\n",
    "\n",
    "\n",
    "x0 = 0\n",
    "\n",
    "cm = 1/2.54\n",
    "fig,ax = plt.subplots(figsize=(3*17.8*cm,7*cm))\n",
    "\n",
    "resolution_index = -1\n",
    "areas_in_comm = []\n",
    "for G in networks:\n",
    "    comm = [[G.nodes[y][\"area\"] for y in x] for x in communities_by_resolution[str(G.graph[\"year\"])][resolution_index]]\n",
    "    areas_in_comm.append([{area: a.count(area) for area in list(set(a))} for a in comm])\n",
    "    \n",
    "max_idx = areas_in_comm.index(max(areas_in_comm, key = len))\n",
    "max_comms = max(areas_in_comm, key = len)\n",
    "max_comms_enum = list(enumerate(max_comms))\n",
    "\n",
    "for i in range(0,4):\n",
    "    if i == max_idx: \n",
    "        areas_in_comm[i] = max_comms_enum\n",
    "        continue\n",
    "    areas_in_comm[i] = enumerate_simmilarity(areas_in_comm[i], max_comms)\n",
    "    \n",
    "for n, (G,areas_year) in enumerate(zip(networks,areas_in_comm)):\n",
    "    y_offset = 0\n",
    "    for i,area in areas_year:\n",
    "        y_offset = 0\n",
    "        parts = list(area.items())\n",
    "        parts.sort(reverse=True,key = lambda x: x[1])\n",
    "        for j,(a,count) in enumerate(parts):\n",
    "            ax.bar(x0 + i*5+n,count,bottom=y_offset,color=area_colors[a],label=areas_en[a])\n",
    "            y_offset += count\n",
    "\n",
    "years = list(range(2018,2022))*len(max_comms)\n",
    "idx = [x0 + i*5 + j for i in range(len(max_comms)) for j in range(4)]        \n",
    "            \n",
    "ax.set_xticks(idx)\n",
    "ax.set_xticklabels(years, rotation=65, fontdict={\"fontsize\":6})\n",
    "\n",
    "ax.set(xlim=(-1,ax.get_xlim()[1]-1))\n",
    "\n",
    "ax.set_title(f\"Resolution parameter = {resolutions[resolution_index]}\", fontdict={\"fontsize\":8})\n",
    "\n",
    "ax.set_ylabel(f\"Number of elements\", fontdict={\"fontsize\":8})\n",
    "handles, labels = plt.gca().get_legend_handles_labels()\n",
    "by_label = dict(zip(labels, handles))\n",
    "ax.legend(by_label.values(), by_label.keys(),bbox_to_anchor=(1,1), loc=\"upper right\",\n",
    "            fontsize=7, markerfirst=False, frameon=False)\n",
    "\n",
    "plt.tight_layout()\n",
    "plt.savefig(\"comm.pdf\")\n",
    "# plt.savefig(\"comm.jpeg\",dpi=200)"
   ]
  },
  {
   "cell_type": "code",
   "execution_count": 209,
   "id": "18187b7d-ab4b-4835-9e19-f5b61503d74c",
   "metadata": {
    "scrolled": true,
    "tags": []
   },
   "outputs": [
    {
     "data": {
      "image/png": "[encoded data removed]",
      "text/plain": [
       "<Figure size 504.567x297.638 with 6 Axes>"
      ]
     },
     "metadata": {
      "needs_background": "dark"
     },
     "output_type": "display_data"
    }
   ],
   "source": [
    "colors = ['#BBBBBB', '#EE7732', '#33BBEE', '#CC3311', '#009988', '#EE3377',  '#0077BB','#DDAA33', '#999933']\n",
    "areas  = ['Educação', 'Artes e Arquitetura',\n",
    "          'Humanidades', 'Direito, Ciências Sociais e do Comportamento', 'Ciências Empresariais', \n",
    "          'Ciências da Vida', 'Ciências Exatas', 'Serviços Sociais e Pessoais', 'Saúde']\n",
    "areas_en  = ['Education', 'Arts and Architecture',\n",
    "          'Human Sciences', 'Social and Behavioral Sciences; Law', 'Business Sciences', \n",
    "          'Life Sciences', 'Exact Sciences', 'Social and Personal Services', 'Health']\n",
    "areas_en=dict(zip(areas,areas_en))\n",
    "area_colors = dict(zip(areas,colors))\n",
    "plt.rcParams.update({'font.size': 9})\n",
    "\n",
    "github = False\n",
    "if github:\n",
    "    COLOR = 'white'\n",
    "    plt.rcParams.update({'text.color': COLOR})\n",
    "    plt.rcParams.update({'axes.labelcolor': COLOR}) \n",
    "    plt.rcParams.update({'xtick.color': COLOR}) \n",
    "    plt.rcParams.update({'ytick.color': COLOR}) \n",
    "    params = {\"ytick.color\" : \"w\",\n",
    "          \"xtick.color\" : \"w\",\n",
    "          \"axes.labelcolor\" : \"w\",\n",
    "          \"axes.edgecolor\" : \"w\"}\n",
    "    plt.rcParams.update(params)\n",
    "\n",
    "\n",
    "x0 = 0\n",
    "\n",
    "cm = 1/2.54\n",
    "# fig,axes = plt.subplots(nrows=5, figsize=(17.8*cm,5*4*cm))\n",
    "\n",
    "mosaic = \"\"\"\n",
    "EEEAAABBB\n",
    "CCCCFFFFF\n",
    "DDDDDDDDD\n",
    "\"\"\"\n",
    "fig = plt.figure(constrained_layout=False, figsize=(17.8*cm,3*3.5*cm))\n",
    "ax_dict = fig.subplot_mosaic(mosaic)\n",
    "\n",
    "# resolution_index = 9\n",
    "for ax,resolution_index in zip(ax_dict.values(),[0,0.2,0.6,1,1.5,2]):\n",
    "    areas_in_comm = {}\n",
    "    for G in networks:\n",
    "        comm = [[G.nodes[y][\"area\"] for y in x] for x in communities_by_resolution[G.graph[\"year\"]][resolution_index]]\n",
    "        areas_in_comm[G.graph[\"year\"]] = [{area: a.count(area) for area in list(set(a))} for a in comm]\n",
    "\n",
    "\n",
    "    max_idx = max(areas_in_comm, key = lambda x: len(areas_in_comm.get(x)))\n",
    "    max_comms_enum = list(enumerate(areas_in_comm[max_idx]))\n",
    "\n",
    "    max_comms = communities_by_resolution[max_idx][resolution_index]\n",
    "    \n",
    "    for (year, count), courses in zip(areas_in_comm.items(),list(communities_by_resolution.values())):\n",
    "        if year == max_idx: \n",
    "            areas_in_comm[year] = max_comms_enum\n",
    "            continue\n",
    "        areas_in_comm[year] = enumerate_simmilarity(areas_in_comm[year], courses[resolution_index], max_comms)\n",
    "\n",
    "    for n, (G,areas_year) in enumerate(zip(networks,areas_in_comm.values())):\n",
    "        y_offset = 0\n",
    "        for i,area in areas_year:\n",
    "            y_offset = 0\n",
    "            parts = list(area.items())\n",
    "            parts.sort(reverse=True,key = lambda x: x[1])\n",
    "            for j,(a,count) in enumerate(parts):\n",
    "                ax.bar(x0 + i*5+n,count,bottom=y_offset,color=area_colors[a],label=areas_en[a])\n",
    "                y_offset += count\n",
    "\n",
    "    years = list(range(18,22))*len(max_comms)\n",
    "    idx = [x0 + i*5 + j for i in range(len(max_comms)) for j in range(4)]        \n",
    "    idx_minor = [x0 + i*5 + 4 for i in range(len(max_comms)-1) for j in range(4)]        \n",
    "\n",
    "    ax.set_xticks(idx_minor,minor=True)\n",
    "    ax.set_xticks(idx,minor=False)\n",
    "    ax.tick_params(which=\"minor\",axis=\"x\",direction=\"in\")\n",
    "    ax.set_xticklabels(years, rotation=70, fontdict={\"fontsize\":6})\n",
    "\n",
    "    ax.set(xlim=(-1,idx[-1]+1))\n",
    "    ax.spines['right'].set_visible(False)\n",
    "    ax.spines['top'].set_visible(False)\n",
    "\n",
    "\n",
    "    ax.set_title(f\"Resolution parameter = {resolution_index:.1f}\", fontdict={\"fontsize\":8})\n",
    "\n",
    "# axes[1].set_ylabel(f\"Number of elements\", fontdict={\"fontsize\":8})\n",
    "fig.text(0.0, 0.50, 'Number of elements', va='center',ha='left',rotation=90)\n",
    "handles, labels = plt.gca().get_legend_handles_labels()\n",
    "handles, labels = zip(*sorted(list(zip(handles,labels)),key=lambda x: x[1],reverse = True))\n",
    "by_label = dict(zip(labels, handles))\n",
    "\n",
    "fig.legend(by_label.values(), by_label.keys(), ncol = 5,loc=\"upper left\", #bbox_to_anchor=(0,1.1), \n",
    "            fontsize=7, markerfirst=True, frameon=False,  borderaxespad=0,mode=\"expand\")\n",
    "\n",
    "plt.tight_layout()\n",
    "plt.subplots_adjust(top=0.87)\n",
    "if not github:\n",
    "    plt.savefig(\"images/modularity_communities_by_field.png\")\n",
    "else:\n",
    "    plt.savefig(\"images/modularity_communities_by_field_gh.svg\",orientation='landscape', transparent=True)"
   ]
  },
  {
   "cell_type": "code",
   "execution_count": 203,
   "id": "d1ba8850-ea8a-4fd9-a5c4-5cc0bb928288",
   "metadata": {},
   "outputs": [
    {
     "data": {
      "image/png": "[encoded data removed]",
      "text/plain": [
       "<Figure size 666.142x708.661 with 7 Axes>"
      ]
     },
     "metadata": {
      "needs_background": "dark"
     },
     "output_type": "display_data"
    }
   ],
   "source": [
    "colors = ['#BBBBBB', '#EE7732', '#33BBEE', '#CC3311', '#009988', '#EE3377',  '#0077BB','#DDAA33', '#999933']\n",
    "areas  = ['Educação', 'Artes e Arquitetura',\n",
    "          'Humanidades', 'Direito, Ciências Sociais e do Comportamento', 'Ciências Empresariais', \n",
    "          'Ciências da Vida', 'Ciências Exatas', 'Serviços Sociais e Pessoais', 'Saúde']\n",
    "areas_en  = ['Education', 'Arts and Architecture',\n",
    "          'Human Sciences', 'Social and Behavioral Sciences; Law', 'Business Sciences', \n",
    "          'Life Sciences', 'Exact Sciences', 'Social and Personal Services', 'Health']\n",
    "areas_en=dict(zip(areas,areas_en))\n",
    "area_colors = dict(zip(areas,colors))\n",
    "\n",
    "\n",
    "plt.rcParams.update({'font.size': 9})\n",
    "\n",
    "github = False\n",
    "if github:\n",
    "    COLOR = 'white'\n",
    "    plt.rcParams.update({'text.color': COLOR})\n",
    "    plt.rcParams.update({'axes.labelcolor': COLOR}) \n",
    "    plt.rcParams.update({'xtick.color': COLOR}) \n",
    "    plt.rcParams.update({'ytick.color': COLOR}) \n",
    "    params = {\"ytick.color\" : \"w\",\n",
    "          \"xtick.color\" : \"w\",\n",
    "          \"axes.labelcolor\" : \"w\",\n",
    "          \"axes.edgecolor\" : \"w\"}\n",
    "    plt.rcParams.update(params)\n",
    "\n",
    "\n",
    "x0 = 0\n",
    "\n",
    "\n",
    "mosaic = \"\"\"\n",
    "ABC\n",
    "DDD\n",
    "EEE\n",
    "FFF\n",
    "GGG\n",
    "\"\"\"\n",
    "cm = 1/2.54\n",
    "fig = plt.figure(constrained_layout=False, figsize=(23.5*cm,25*cm))\n",
    "ax_dict = fig.subplot_mosaic(mosaic)\n",
    "\n",
    "for ax,resolution_index in zip(ax_dict.values(),[0.8,2,3,10,15,20,25]):\n",
    "    areas_in_comm = {}\n",
    "    for n, G in enumerate(networks):\n",
    "        comm = [[G.nodes[y][\"area\"] for y in x] for x in communities_by_resolution[G.graph[\"year\"]][resolution_index]]\n",
    "        areas_in_comm[G.graph[\"year\"]] = [{area: a.count(area) for area in list(set(a))} for a in comm]\n",
    "        \n",
    "    max_idx = max(areas_in_comm, key = lambda x: len(areas_in_comm.get(x)))\n",
    "    max_comms_enum = list(enumerate(areas_in_comm[max_idx]))\n",
    "\n",
    "    max_comms = communities_by_resolution[max_idx][resolution_index]\n",
    "\n",
    "    for (year, count), courses in zip(areas_in_comm.items(),list(communities_by_resolution.values())):\n",
    "        if year == max_idx: \n",
    "            areas_in_comm[year] = max_comms_enum\n",
    "            continue\n",
    "        areas_in_comm[year] = enumerate_simmilarity(areas_in_comm[year], courses[resolution_index], max_comms)\n",
    "\n",
    "    for n, (G,areas_year) in enumerate(zip(networks,areas_in_comm.values())):\n",
    "        y_offset = 0\n",
    "        for i,area in areas_year:\n",
    "            y_offset = 0\n",
    "            parts = list(area.items())\n",
    "            parts.sort(reverse=True,key = lambda x: x[1])\n",
    "            for j,(a,count) in enumerate(parts):\n",
    "                ax.bar(x0 + i*5+n,count,bottom=y_offset,color=area_colors[a],label=areas_en[a])\n",
    "                y_offset += count\n",
    "\n",
    "    if resolution_index < 10:\n",
    "        years = list(range(18,22))*len(max_comms)\n",
    "        idx = [x0 + i*5 + j for i in range(len(max_comms)) for j in range(4)]        \n",
    "        idx_minor = [x0 + i*5 + 4 for i in range(len(max_comms)-1) for j in range(4)]        \n",
    "        ax.set_xticks(idx_minor,minor=True)\n",
    "        ax.set_xticks(idx,minor=False)\n",
    "        ax.tick_params(which=\"minor\",axis=\"x\",direction=\"in\")\n",
    "        ax.set_xticklabels([\"\"]*len(idx), rotation=65, fontdict={\"fontsize\":6})\n",
    "    else:\n",
    "        years = list(range(18,22))*len(max_comms)\n",
    "        idx = [x0 + i*5 + j for i in range(len(max_comms)) for j in range(4)]        \n",
    "        idx_minor = [x0 + i*5 + 4 for i in range(len(max_comms)-1) for j in range(4)]        \n",
    "        ax.set_xticks([],minor=False)\n",
    "        ax.set_xticklabels([], rotation=65, fontdict={\"fontsize\":6})\n",
    "\n",
    "\n",
    "    ax.set(xlim=(-1,idx[-1]+1))\n",
    "    ax.spines['right'].set_visible(False)\n",
    "    ax.spines['top'].set_visible(False)\n",
    "\n",
    "\n",
    "    ax.text(0.5,1,f\"Resolution parameter = {resolution_index:.1f}\", fontsize=8,transform=ax.transAxes,va=\"top\",ha=\"center\")\n",
    "\n",
    "# axes[1].set_ylabel(f\"Number of elements\", fontdict={\"fontsize\":8})\n",
    "fig.text(0.0, 0.50, 'Number of elements', va='center',ha='left',rotation=90)\n",
    "handles, labels = plt.gca().get_legend_handles_labels()\n",
    "by_label = dict(zip(labels, handles))\n",
    "\n",
    "fig.legend(by_label.values(), by_label.keys(), ncol = 5,loc=\"upper left\", #bbox_to_anchor=(0,1.1), \n",
    "            fontsize=7, markerfirst=True, frameon=False,  borderaxespad=0,mode=\"expand\")\n",
    "\n",
    "plt.tight_layout()\n",
    "plt.subplots_adjust(top=0.95)\n",
    "if not github:\n",
    "    plt.savefig(\"images/modularity_communities_by_field_extra.png\")\n",
    "else:\n",
    "    plt.savefig(\"images/modularity_communities_by_field_extra_gh.svg\",orientation='landscape', transparent=True)\n",
    "# plt.savefig(\"comm.jpeg\",dpi=200)\n"
   ]
  },
  {
   "cell_type": "code",
   "execution_count": null,
   "id": "2fca3d69-c4a8-4bd0-8666-ccaa50432835",
   "metadata": {},
   "outputs": [],
   "source": []
  }
 ],
 "metadata": {
  "kernelspec": {
   "display_name": "Python 3 (ipykernel)",
   "language": "python",
   "name": "python3"
  },
  "language_info": {
   "codemirror_mode": {
    "name": "ipython",
    "version": 3
   },
   "file_extension": ".py",
   "mimetype": "text/x-python",
   "name": "python",
   "nbconvert_exporter": "python",
   "pygments_lexer": "ipython3",
   "version": "3.9.7"
  }
 },
 "nbformat": 4,
 "nbformat_minor": 5
}
