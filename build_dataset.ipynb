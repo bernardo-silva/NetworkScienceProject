{
 "cells": [
  {
   "cell_type": "code",
   "execution_count": 1,
   "id": "7e6821b3-6e33-4395-8562-5ccb144b5ae9",
   "metadata": {},
   "outputs": [],
   "source": [
    "from universidades import *\n",
    "from tqdm import tqdm\n",
    "import numpy as np\n",
    "import json"
   ]
  },
  {
   "cell_type": "code",
   "execution_count": 20,
   "id": "9a938a78-439c-4eaa-b857-a488e07c1cab",
   "metadata": {},
   "outputs": [],
   "source": [
    "year = 2018\n",
    "url_uni  = f\"https://www.dges.gov.pt/coloc/{year}/col1listas.asp?CodR=11&action=2\"\n",
    "url_poli = f\"https://www.dges.gov.pt/coloc/{year}/col1listas.asp?CodR=12&action=2\"\n",
    "\n",
    "unis = get_unis(url_uni,\"universidade\")\n",
    "unis += get_unis(url_poli, \"politecnico\")"
   ]
  },
  {
   "cell_type": "code",
   "execution_count": 21,
   "id": "6d4ce1fb-672d-4e9a-8e53-e42b654833ce",
   "metadata": {},
   "outputs": [
    {
     "name": "stderr",
     "output_type": "stream",
     "text": [
      " 27%|█████████████████████████▊                                                                      | 44/164 [00:12<00:34,  3.50it/s]"
     ]
    },
    {
     "name": "stdout",
     "output_type": "stream",
     "text": [
      "Demasiados pedidos\n"
     ]
    },
    {
     "name": "stderr",
     "output_type": "stream",
     "text": [
      "100%|███████████████████████████████████████████████████████████████████████████████████████████████| 164/164 [00:34<00:00,  4.79it/s]\n"
     ]
    }
   ],
   "source": [
    "#Get courses\n",
    "courses = []\n",
    "for uni in tqdm(unis):\n",
    "    courses += get_courses(uni,year)"
   ]
  },
  {
   "cell_type": "code",
   "execution_count": 22,
   "id": "49f28d18-564e-4217-b487-97abc8ec5c7a",
   "metadata": {},
   "outputs": [
    {
     "name": "stderr",
     "output_type": "stream",
     "text": [
      " 54%|██████████████████████████████████████████████████▉                                           | 579/1068 [06:05<00:58,  8.40it/s]"
     ]
    },
    {
     "name": "stdout",
     "output_type": "stream",
     "text": [
      "Demasiados pedidos\n"
     ]
    },
    {
     "name": "stderr",
     "output_type": "stream",
     "text": [
      " 58%|██████████████████████████████████████████████████████▏                                       | 615/1068 [06:14<01:31,  4.95it/s]"
     ]
    },
    {
     "name": "stdout",
     "output_type": "stream",
     "text": [
      "Demasiados pedidos\n"
     ]
    },
    {
     "name": "stderr",
     "output_type": "stream",
     "text": [
      "100%|█████████████████████████████████████████████████████████████████████████████████████████████| 1068/1068 [09:21<00:00,  1.90it/s]\n"
     ]
    }
   ],
   "source": [
    "#Get courses candidates\n",
    "for course in tqdm(courses):\n",
    "    course[\"candidates\"] = get_candidates(course['faculty']['code'],course['code'],year)"
   ]
  },
  {
   "cell_type": "code",
   "execution_count": 23,
   "id": "b857d8b3-6f51-49a5-93c3-1b22f96697a1",
   "metadata": {},
   "outputs": [],
   "source": [
    "#Find common candidates among courses\n",
    "def find_common(d):\n",
    "    for i in tqdm(range(len(d))):\n",
    "        d[i][\"edges\"] = {}\n",
    "        for j in range(i+1,len(d)):\n",
    "            common = np.intersect1d(d[i][\"candidates\"],d[j][\"candidates\"]).size\n",
    "            if common:\n",
    "                d[i][\"edges\"][f'{d[j][\"faculty\"][\"code\"]}_{d[j][\"code\"]}'] = common"
   ]
  },
  {
   "cell_type": "code",
   "execution_count": 24,
   "id": "612b33c6-8a2c-4984-8789-01f7ebc42ea1",
   "metadata": {},
   "outputs": [
    {
     "name": "stderr",
     "output_type": "stream",
     "text": [
      "100%|█████████████████████████████████████████████████████████████████████████████████████████████| 1068/1068 [03:28<00:00,  5.12it/s]\n"
     ]
    }
   ],
   "source": [
    "find_common(courses)"
   ]
  },
  {
   "cell_type": "code",
   "execution_count": 18,
   "id": "7979d52d-da34-4a95-b1de-a75689e070f1",
   "metadata": {},
   "outputs": [],
   "source": [
    "#Remove names\n",
    "for course in courses:\n",
    "    course[\"candidates\"] = len(course[\"candidates\"])"
   ]
  },
  {
   "cell_type": "code",
   "execution_count": 19,
   "id": "2b1ac087-8b49-49a0-85c8-1f9983e4dde9",
   "metadata": {},
   "outputs": [],
   "source": [
    "#Save data as json file\n",
    "with open(f\"courses_{year}.json\",\"w\", encoding='utf8') as f:\n",
    "    json.dump(courses,f, ensure_ascii=False)"
   ]
  },
  {
   "cell_type": "code",
   "execution_count": null,
   "id": "dbea8e1b-539c-4c84-98e8-4c0a4c2844b6",
   "metadata": {},
   "outputs": [],
   "source": [
    "unis[0]"
   ]
  },
  {
   "cell_type": "code",
   "execution_count": null,
   "id": "d4d4492d-1a10-4919-9aca-a13f3524ed8d",
   "metadata": {},
   "outputs": [],
   "source": [
    "len(courses)"
   ]
  },
  {
   "cell_type": "code",
   "execution_count": 10,
   "id": "f7a8e65c-dac8-40dc-8047-934885c31026",
   "metadata": {},
   "outputs": [
    {
     "data": {
      "text/plain": [
       "{'code': '9022',\n",
       " 'name': 'Ciências Agrárias',\n",
       " 'faculty': {'code': '0140',\n",
       "  'name': 'Universidade dos Açores: Faculdade de Ciências Agrárias e do Ambiente',\n",
       "  'type': 'universidade'},\n",
       " 'candidates': 31,\n",
       " 'edges': {'0140_8031': 1,\n",
       "  '0140_L121': 5,\n",
       "  '0160_9011': 5,\n",
       "  '0160_8524': 2,\n",
       "  '0170_9254': 1,\n",
       "  '0501_9448': 1,\n",
       "  '0602_9003': 8,\n",
       "  '0602_9818': 3,\n",
       "  '0901_9813': 1,\n",
       "  '0902_9448': 1,\n",
       "  '1000_9019': 1,\n",
       "  '1000_9509': 1,\n",
       "  '1000_9369': 1,\n",
       "  '1000_9813': 1,\n",
       "  '1103_9209': 1,\n",
       "  '1105_9509': 1,\n",
       "  '1105_9369': 1,\n",
       "  '1106_9494': 1,\n",
       "  '1108_9813': 1,\n",
       "  '1110_9813': 2,\n",
       "  '1201_9086': 1,\n",
       "  '1201_9129': 1,\n",
       "  '1507_9813': 1,\n",
       "  '1515_9086': 2,\n",
       "  '1515_9099': 1,\n",
       "  '1515_8377': 1,\n",
       "  '1515_9129': 2,\n",
       "  '1516_9448': 1,\n",
       "  '1518_9357': 1,\n",
       "  '1518_9458': 1,\n",
       "  '1518_9369': 1,\n",
       "  '1518_9345': 1,\n",
       "  '6800_9448': 1,\n",
       "  '3021_9003': 2,\n",
       "  '3051_9003': 3,\n",
       "  '3061_9673': 1,\n",
       "  '3061_9085': 1,\n",
       "  '3061_9619': 1,\n",
       "  '3105_9014': 1,\n",
       "  '3123_9003': 2,\n",
       "  '3123_9085': 1,\n",
       "  '3141_9003': 8,\n",
       "  '3141_L080': 1,\n",
       "  '3141_L169': 1,\n",
       "  '3141_L003': 6,\n",
       "  '3161_9003': 3,\n",
       "  '7045_9504': 1,\n",
       "  '7092_9500': 5,\n",
       "  '7093_9500': 6,\n",
       "  '7230_L068': 1,\n",
       "  '7230_9549': 1,\n",
       "  '7230_L067': 1}}"
      ]
     },
     "execution_count": 10,
     "metadata": {},
     "output_type": "execute_result"
    }
   ],
   "source": [
    "courses[0]"
   ]
  },
  {
   "cell_type": "code",
   "execution_count": null,
   "id": "21c9ee84-95cc-4a5c-b05c-3231abe34070",
   "metadata": {},
   "outputs": [],
   "source": []
  }
 ],
 "metadata": {
  "kernelspec": {
   "display_name": "Python 3 (ipykernel)",
   "language": "python",
   "name": "python3"
  },
  "language_info": {
   "codemirror_mode": {
    "name": "ipython",
    "version": 3
   },
   "file_extension": ".py",
   "mimetype": "text/x-python",
   "name": "python",
   "nbconvert_exporter": "python",
   "pygments_lexer": "ipython3",
   "version": "3.9.7"
  }
 },
 "nbformat": 4,
 "nbformat_minor": 5
}
