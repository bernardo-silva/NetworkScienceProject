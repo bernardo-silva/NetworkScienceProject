{
 "cells": [
  {
   "cell_type": "code",
   "execution_count": 1,
   "id": "7e6821b3-6e33-4395-8562-5ccb144b5ae9",
   "metadata": {},
   "outputs": [],
   "source": [
    "from universidades import *\n",
    "from tqdm import tqdm\n",
    "import numpy as np\n",
    "import json"
   ]
  },
  {
   "cell_type": "code",
   "execution_count": 5,
   "id": "9a938a78-439c-4eaa-b857-a488e07c1cab",
   "metadata": {},
   "outputs": [],
   "source": [
    "year = 2021\n",
    "url_uni  = f\"https://www.dges.gov.pt/coloc/{year}/col1listas.asp?CodR=11&action=2\"\n",
    "url_poli = f\"https://www.dges.gov.pt/coloc/{year}/col1listas.asp?CodR=12&action=2\"\n",
    "\n",
    "unis = get_unis(url_uni,\"universidade\")\n",
    "unis += get_unis(url_poli, \"politecnico\")"
   ]
  },
  {
   "cell_type": "code",
   "execution_count": 3,
   "id": "6d4ce1fb-672d-4e9a-8e53-e42b654833ce",
   "metadata": {},
   "outputs": [
    {
     "name": "stderr",
     "output_type": "stream",
     "text": [
      " 77%|█████████████████████████████████████████████████████████████████████████▌                     | 127/164 [00:20<00:05,  6.22it/s]"
     ]
    },
    {
     "name": "stdout",
     "output_type": "stream",
     "text": [
      "Demasiados pedidos\n"
     ]
    },
    {
     "name": "stderr",
     "output_type": "stream",
     "text": [
      " 79%|██████████████████████████████████████████████████████████████████████████▋                    | 129/164 [00:21<00:13,  2.59it/s]"
     ]
    },
    {
     "name": "stdout",
     "output_type": "stream",
     "text": [
      "New request 1\n",
      "New response 1.5\n",
      "New courses: [\"\\t\\t\\t\\t<option value='9500' selected>9500 - Enfermagem<option value='9504'>9504 - Fisioterapia<option value='9890'>9890 - Terapia da Fala\\r\"]\n"
     ]
    },
    {
     "name": "stderr",
     "output_type": "stream",
     "text": [
      "100%|███████████████████████████████████████████████████████████████████████████████████████████████| 164/164 [00:26<00:00,  6.12it/s]\n"
     ]
    }
   ],
   "source": [
    "#Get courses\n",
    "courses = []\n",
    "for uni in tqdm(unis):\n",
    "    courses += get_courses(uni)"
   ]
  },
  {
   "cell_type": "code",
   "execution_count": 11,
   "id": "49f28d18-564e-4217-b487-97abc8ec5c7a",
   "metadata": {},
   "outputs": [
    {
     "name": "stderr",
     "output_type": "stream",
     "text": [
      "100%|█████████████████████████| 1070/1070 [10:05<00:00,  1.77it/s]\n"
     ]
    }
   ],
   "source": [
    "#Get courses candidates\n",
    "for course in tqdm(courses):\n",
    "    course[\"candidates\"] = get_candidates(course['faculty']['code'],course['code'])"
   ]
  },
  {
   "cell_type": "code",
   "execution_count": 6,
   "id": "b857d8b3-6f51-49a5-93c3-1b22f96697a1",
   "metadata": {},
   "outputs": [],
   "source": [
    "#Find common candidates among courses\n",
    "def find_common(d):\n",
    "    for i in tqdm(range(len(d))):\n",
    "        d[i][\"edges\"] = {}\n",
    "        for j in range(i+1,len(d)):\n",
    "            common = np.intersect1d(d[i][\"candidates\"],d[j][\"candidates\"]).size\n",
    "            if common:\n",
    "                d[i][\"edges\"][f'{d[j][\"faculty\"][\"code\"]}_{d[j][\"code\"]}'] = common"
   ]
  },
  {
   "cell_type": "code",
   "execution_count": 12,
   "id": "612b33c6-8a2c-4984-8789-01f7ebc42ea1",
   "metadata": {},
   "outputs": [
    {
     "name": "stderr",
     "output_type": "stream",
     "text": [
      "100%|█████████████████████████| 1070/1070 [04:19<00:00,  4.13it/s]\n"
     ]
    }
   ],
   "source": [
    "find_common(courses)"
   ]
  },
  {
   "cell_type": "code",
   "execution_count": 14,
   "id": "7979d52d-da34-4a95-b1de-a75689e070f1",
   "metadata": {},
   "outputs": [],
   "source": [
    "#Remove names\n",
    "for course in courses:\n",
    "    course[\"candidates\"] = len(course[\"candidates\"])"
   ]
  },
  {
   "cell_type": "code",
   "execution_count": 16,
   "id": "2b1ac087-8b49-49a0-85c8-1f9983e4dde9",
   "metadata": {},
   "outputs": [],
   "source": [
    "#Save data as json file\n",
    "with open(f\"courses_{year}.json\",\"w\", encoding='utf8') as f:\n",
    "    json.dump(courses,f, ensure_ascii=False)"
   ]
  },
  {
   "cell_type": "code",
   "execution_count": null,
   "id": "dbea8e1b-539c-4c84-98e8-4c0a4c2844b6",
   "metadata": {},
   "outputs": [],
   "source": [
    "unis[0]"
   ]
  },
  {
   "cell_type": "code",
   "execution_count": 7,
   "id": "d4d4492d-1a10-4919-9aca-a13f3524ed8d",
   "metadata": {},
   "outputs": [
    {
     "data": {
      "text/plain": [
       "1070"
      ]
     },
     "execution_count": 7,
     "metadata": {},
     "output_type": "execute_result"
    }
   ],
   "source": [
    "len(courses)"
   ]
  },
  {
   "cell_type": "code",
   "execution_count": 15,
   "id": "f7a8e65c-dac8-40dc-8047-934885c31026",
   "metadata": {},
   "outputs": [
    {
     "data": {
      "text/plain": [
       "{'code': '9022',\n",
       " 'name': 'Ciências Agrárias',\n",
       " 'faculty': {'code': '0140',\n",
       "  'name': 'Universidade dos Açores: Faculdade de Ciências Agrárias e do Ambiente',\n",
       "  'type': 'universidade'},\n",
       " 'candidates': 25,\n",
       " 'edges': {'0140_8086': 2,\n",
       "  '0140_L121': 3,\n",
       "  '0160_9011': 3,\n",
       "  '0160_8524': 4,\n",
       "  '0203_9003': 1,\n",
       "  '0203_9013': 1,\n",
       "  '0203_9016': 1,\n",
       "  '0203_L123': 2,\n",
       "  '0300_9041': 1,\n",
       "  '0400_9016': 1,\n",
       "  '0602_9003': 4,\n",
       "  '0602_9016': 1,\n",
       "  '0602_9818': 2,\n",
       "  '0602_9752': 2,\n",
       "  '0602_9847': 2,\n",
       "  '1000_L078': 1,\n",
       "  '1000_9353': 1,\n",
       "  '1105_9540': 1,\n",
       "  '1105_9123': 1,\n",
       "  '1107_9139': 1,\n",
       "  '1109_9219': 1,\n",
       "  '1110_9708': 2,\n",
       "  '1110_9813': 1,\n",
       "  '1110_9847': 1,\n",
       "  '1201_9129': 1,\n",
       "  '1201_9847': 2,\n",
       "  '1503_9011': 1,\n",
       "  '1503_9146': 1,\n",
       "  '1509_9847': 1,\n",
       "  '1515_9086': 1,\n",
       "  '1515_8377': 1,\n",
       "  '1515_9129': 1,\n",
       "  '3021_9003': 1,\n",
       "  '3021_9350': 1,\n",
       "  '3051_9085': 2,\n",
       "  '3061_L009': 1,\n",
       "  '3061_9085': 2,\n",
       "  '3123_9003': 1,\n",
       "  '3141_9003': 1,\n",
       "  '3141_8419': 1,\n",
       "  '3141_L169': 1,\n",
       "  '3141_L003': 4,\n",
       "  '3161_9003': 1,\n",
       "  '3161_9085': 1,\n",
       "  '3185_9085': 1,\n",
       "  '7010_9500': 1,\n",
       "  '7092_9500': 5,\n",
       "  '7093_9500': 1}}"
      ]
     },
     "execution_count": 15,
     "metadata": {},
     "output_type": "execute_result"
    }
   ],
   "source": [
    "courses[0]"
   ]
  },
  {
   "cell_type": "code",
   "execution_count": null,
   "id": "21c9ee84-95cc-4a5c-b05c-3231abe34070",
   "metadata": {},
   "outputs": [],
   "source": []
  }
 ],
 "metadata": {
  "kernelspec": {
   "display_name": "Python 3 (ipykernel)",
   "language": "python",
   "name": "python3"
  },
  "language_info": {
   "codemirror_mode": {
    "name": "ipython",
    "version": 3
   },
   "file_extension": ".py",
   "mimetype": "text/x-python",
   "name": "python",
   "nbconvert_exporter": "python",
   "pygments_lexer": "ipython3",
   "version": "3.9.7"
  }
 },
 "nbformat": 4,
 "nbformat_minor": 5
}
