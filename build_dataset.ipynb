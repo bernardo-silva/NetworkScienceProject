{
 "cells": [
  {
   "cell_type": "code",
   "execution_count": 47,
   "id": "7e6821b3-6e33-4395-8562-5ccb144b5ae9",
   "metadata": {},
   "outputs": [],
   "source": [
    "from universidades import *\n",
    "from tqdm import tqdm\n",
    "import numpy as np\n",
    "import json"
   ]
  },
  {
   "cell_type": "code",
   "execution_count": 2,
   "id": "9a938a78-439c-4eaa-b857-a488e07c1cab",
   "metadata": {},
   "outputs": [],
   "source": [
    "url_uni  = \"https://www.dges.gov.pt/coloc/2021/col1listas.asp?CodR=11&action=2\"\n",
    "url_poli = \"https://www.dges.gov.pt/coloc/2021/col1listas.asp?CodR=12&action=2\"\n",
    "\n",
    "unis = get_unis(url_uni,\"universidade\")\n",
    "unis += get_unis(url_poli, \"politecnico\")"
   ]
  },
  {
   "cell_type": "code",
   "execution_count": 4,
   "id": "6d4ce1fb-672d-4e9a-8e53-e42b654833ce",
   "metadata": {},
   "outputs": [
    {
     "name": "stderr",
     "output_type": "stream",
     "text": [
      "  6%|█▋                          | 10/164 [00:00<00:11, 13.30it/s]"
     ]
    },
    {
     "name": "stdout",
     "output_type": "stream",
     "text": [
      "Demasiados pedidos\n"
     ]
    },
    {
     "name": "stderr",
     "output_type": "stream",
     "text": [
      " 12%|███▍                        | 20/164 [00:03<00:17,  8.02it/s]"
     ]
    },
    {
     "name": "stdout",
     "output_type": "stream",
     "text": [
      "Demasiados pedidos\n"
     ]
    },
    {
     "name": "stderr",
     "output_type": "stream",
     "text": [
      " 20%|█████▍                      | 32/164 [00:05<00:15,  8.57it/s]"
     ]
    },
    {
     "name": "stdout",
     "output_type": "stream",
     "text": [
      "Demasiados pedidos\n"
     ]
    },
    {
     "name": "stderr",
     "output_type": "stream",
     "text": [
      " 26%|███████▏                    | 42/164 [00:07<00:16,  7.18it/s]"
     ]
    },
    {
     "name": "stdout",
     "output_type": "stream",
     "text": [
      "Demasiados pedidos\n"
     ]
    },
    {
     "name": "stderr",
     "output_type": "stream",
     "text": [
      " 32%|████████▉                   | 52/164 [00:09<00:15,  7.46it/s]"
     ]
    },
    {
     "name": "stdout",
     "output_type": "stream",
     "text": [
      "Demasiados pedidos\n"
     ]
    },
    {
     "name": "stderr",
     "output_type": "stream",
     "text": [
      " 48%|█████████████▎              | 78/164 [00:13<00:07, 11.58it/s]"
     ]
    },
    {
     "name": "stdout",
     "output_type": "stream",
     "text": [
      "Demasiados pedidos\n"
     ]
    },
    {
     "name": "stderr",
     "output_type": "stream",
     "text": [
      " 52%|██████████████▋             | 86/164 [00:15<00:11,  6.67it/s]"
     ]
    },
    {
     "name": "stdout",
     "output_type": "stream",
     "text": [
      "Demasiados pedidos\n"
     ]
    },
    {
     "name": "stderr",
     "output_type": "stream",
     "text": [
      " 65%|█████████████████▍         | 106/164 [00:18<00:05, 10.22it/s]"
     ]
    },
    {
     "name": "stdout",
     "output_type": "stream",
     "text": [
      "Demasiados pedidos\n"
     ]
    },
    {
     "name": "stderr",
     "output_type": "stream",
     "text": [
      " 72%|███████████████████▍       | 118/164 [00:20<00:05,  8.59it/s]"
     ]
    },
    {
     "name": "stdout",
     "output_type": "stream",
     "text": [
      "Demasiados pedidos\n"
     ]
    },
    {
     "name": "stderr",
     "output_type": "stream",
     "text": [
      " 78%|█████████████████████      | 128/164 [00:22<00:05,  7.05it/s]"
     ]
    },
    {
     "name": "stdout",
     "output_type": "stream",
     "text": [
      "Demasiados pedidos\n"
     ]
    },
    {
     "name": "stderr",
     "output_type": "stream",
     "text": [
      " 83%|██████████████████████▍    | 136/164 [00:24<00:04,  6.36it/s]"
     ]
    },
    {
     "name": "stdout",
     "output_type": "stream",
     "text": [
      "Demasiados pedidos\n"
     ]
    },
    {
     "name": "stderr",
     "output_type": "stream",
     "text": [
      " 90%|████████████████████████▎  | 148/164 [00:26<00:01,  8.17it/s]"
     ]
    },
    {
     "name": "stdout",
     "output_type": "stream",
     "text": [
      "Demasiados pedidos\n"
     ]
    },
    {
     "name": "stderr",
     "output_type": "stream",
     "text": [
      " 95%|█████████████████████████▋ | 156/164 [00:28<00:01,  6.70it/s]"
     ]
    },
    {
     "name": "stdout",
     "output_type": "stream",
     "text": [
      "Demasiados pedidos\n"
     ]
    },
    {
     "name": "stderr",
     "output_type": "stream",
     "text": [
      "100%|███████████████████████████| 164/164 [00:30<00:00,  5.35it/s]\n"
     ]
    }
   ],
   "source": [
    "#Get courses\n",
    "courses = []\n",
    "for uni in tqdm(unis):\n",
    "    courses += get_courses(uni)"
   ]
  },
  {
   "cell_type": "code",
   "execution_count": 5,
   "id": "49f28d18-564e-4217-b487-97abc8ec5c7a",
   "metadata": {},
   "outputs": [
    {
     "name": "stderr",
     "output_type": "stream",
     "text": [
      "100%|█████████████████████████| 1070/1070 [10:55<00:00,  1.63it/s]\n"
     ]
    }
   ],
   "source": [
    "#Get courses candidates\n",
    "for course in tqdm(courses):\n",
    "    course[\"candidates\"] = get_candidates(course['faculty']['code'],course['code'])"
   ]
  },
  {
   "cell_type": "code",
   "execution_count": 49,
   "id": "b857d8b3-6f51-49a5-93c3-1b22f96697a1",
   "metadata": {},
   "outputs": [],
   "source": [
    "#Find common candidates among courses\n",
    "def find_common(d):\n",
    "    for i in range(len(d)):\n",
    "        d[i][\"edges\"] = {}\n",
    "        for j in range(i+1,len(d)):\n",
    "            common = np.intersect1d(d[i][\"candidates\"],d[j][\"candidates\"]).size\n",
    "            if common:\n",
    "                d[i][\"edges\"][f'{d[j][\"faculty\"][\"code\"]}_{d[j][\"code\"]}'] = common"
   ]
  },
  {
   "cell_type": "code",
   "execution_count": 50,
   "id": "612b33c6-8a2c-4984-8789-01f7ebc42ea1",
   "metadata": {},
   "outputs": [],
   "source": [
    "find_common(courses)"
   ]
  },
  {
   "cell_type": "code",
   "execution_count": 51,
   "id": "2b1ac087-8b49-49a0-85c8-1f9983e4dde9",
   "metadata": {},
   "outputs": [],
   "source": [
    "#Save data as json file\n",
    "with open(\"courses.json\",\"w\") as f:\n",
    "    json.dump(courses,f)"
   ]
  }
 ],
 "metadata": {
  "kernelspec": {
   "display_name": "Python 3 (ipykernel)",
   "language": "python",
   "name": "python3"
  },
  "language_info": {
   "codemirror_mode": {
    "name": "ipython",
    "version": 3
   },
   "file_extension": ".py",
   "mimetype": "text/x-python",
   "name": "python",
   "nbconvert_exporter": "python",
   "pygments_lexer": "ipython3",
   "version": "3.9.7"
  }
 },
 "nbformat": 4,
 "nbformat_minor": 5
}
