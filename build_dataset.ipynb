{
 "cells": [
  {
   "cell_type": "code",
   "execution_count": 1,
   "id": "7e6821b3-6e33-4395-8562-5ccb144b5ae9",
   "metadata": {},
   "outputs": [],
   "source": [
    "from universidades import *\n",
    "from tqdm.notebook import tqdm\n",
    "import numpy as np\n",
    "import json"
   ]
  },
  {
   "cell_type": "code",
   "execution_count": 2,
   "id": "9a938a78-439c-4eaa-b857-a488e07c1cab",
   "metadata": {},
   "outputs": [],
   "source": [
    "year = 2018\n",
    "url_uni  = f\"https://www.dges.gov.pt/coloc/{year}/col1listas.asp?CodR=11&action=2\"\n",
    "url_poli = f\"https://www.dges.gov.pt/coloc/{year}/col1listas.asp?CodR=12&action=2\"\n",
    "\n",
    "unis = get_unis(url_uni,\"universidade\")\n",
    "unis += get_unis(url_poli, \"politecnico\")"
   ]
  },
  {
   "cell_type": "code",
   "execution_count": 3,
   "id": "6d4ce1fb-672d-4e9a-8e53-e42b654833ce",
   "metadata": {},
   "outputs": [
    {
     "data": {
      "application/vnd.jupyter.widget-view+json": {
       "model_id": "30db6b81980a4ad683bf67c067d530b5",
       "version_major": 2,
       "version_minor": 0
      },
      "text/plain": [
       "  0%|          | 0/164 [00:00<?, ?it/s]"
      ]
     },
     "metadata": {},
     "output_type": "display_data"
    }
   ],
   "source": [
    "#Get courses\n",
    "courses = []\n",
    "for uni in tqdm(unis):\n",
    "    courses += get_courses(uni,year)"
   ]
  },
  {
   "cell_type": "code",
   "execution_count": 22,
   "id": "49f28d18-564e-4217-b487-97abc8ec5c7a",
   "metadata": {},
   "outputs": [
    {
     "name": "stderr",
     "output_type": "stream",
     "text": [
      " 54%|██████████████████████████████████████████████████▉                                           | 579/1068 [06:05<00:58,  8.40it/s]"
     ]
    },
    {
     "name": "stdout",
     "output_type": "stream",
     "text": [
      "Demasiados pedidos\n"
     ]
    },
    {
     "name": "stderr",
     "output_type": "stream",
     "text": [
      " 58%|██████████████████████████████████████████████████████▏                                       | 615/1068 [06:14<01:31,  4.95it/s]"
     ]
    },
    {
     "name": "stdout",
     "output_type": "stream",
     "text": [
      "Demasiados pedidos\n"
     ]
    },
    {
     "name": "stderr",
     "output_type": "stream",
     "text": [
      "100%|█████████████████████████████████████████████████████████████████████████████████████████████| 1068/1068 [09:21<00:00,  1.90it/s]\n"
     ]
    }
   ],
   "source": [
    "#Get courses candidates\n",
    "for course in tqdm(courses):\n",
    "    course[\"candidates\"] = get_candidates(course['faculty']['code'],course['code'],year)"
   ]
  },
  {
   "cell_type": "code",
   "execution_count": 23,
   "id": "b857d8b3-6f51-49a5-93c3-1b22f96697a1",
   "metadata": {},
   "outputs": [],
   "source": [
    "#Find common candidates among courses\n",
    "def find_common(d):\n",
    "    for i in tqdm(range(len(d))):\n",
    "        d[i][\"edges\"] = {}\n",
    "        for j in range(i+1,len(d)):\n",
    "            common = np.intersect1d(d[i][\"candidates\"],d[j][\"candidates\"]).size\n",
    "            if common:\n",
    "                d[i][\"edges\"][f'{d[j][\"faculty\"][\"code\"]}_{d[j][\"code\"]}'] = common"
   ]
  },
  {
   "cell_type": "code",
   "execution_count": 24,
   "id": "612b33c6-8a2c-4984-8789-01f7ebc42ea1",
   "metadata": {},
   "outputs": [
    {
     "name": "stderr",
     "output_type": "stream",
     "text": [
      "100%|█████████████████████████████████████████████████████████████████████████████████████████████| 1068/1068 [03:28<00:00,  5.12it/s]\n"
     ]
    }
   ],
   "source": [
    "find_common(courses)"
   ]
  },
  {
   "cell_type": "code",
   "execution_count": 26,
   "id": "7979d52d-da34-4a95-b1de-a75689e070f1",
   "metadata": {},
   "outputs": [],
   "source": [
    "#Remove names\n",
    "for course in courses:\n",
    "    course[\"candidates\"] = len(course[\"candidates\"])"
   ]
  },
  {
   "cell_type": "code",
   "execution_count": 27,
   "id": "2b1ac087-8b49-49a0-85c8-1f9983e4dde9",
   "metadata": {},
   "outputs": [],
   "source": [
    "#Save data as json file\n",
    "with open(f\"courses_{year}.json\",\"w\", encoding='utf8') as f:\n",
    "    json.dump(courses,f, ensure_ascii=False)"
   ]
  }
 ],
 "metadata": {
  "kernelspec": {
   "display_name": "Python 3 (ipykernel)",
   "language": "python",
   "name": "python3"
  },
  "language_info": {
   "codemirror_mode": {
    "name": "ipython",
    "version": 3
   },
   "file_extension": ".py",
   "mimetype": "text/x-python",
   "name": "python",
   "nbconvert_exporter": "python",
   "pygments_lexer": "ipython3",
   "version": "3.9.7"
  }
 },
 "nbformat": 4,
 "nbformat_minor": 5
}
