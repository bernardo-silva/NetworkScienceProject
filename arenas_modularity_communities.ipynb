{
 "cells": [
  {
   "cell_type": "markdown",
   "id": "4d12c77b-45dc-4072-b5d3-ae08ec62dfb6",
   "metadata": {},
   "source": [
    "# Analysing the Arenas resolution parameter\n",
    "---"
   ]
  },
  {
   "cell_type": "code",
   "execution_count": 1,
   "id": "febfa498-0b4a-4e07-bc4a-6dee7b74e71e",
   "metadata": {},
   "outputs": [],
   "source": [
    "import networkx as nx\n",
    "import networkx.algorithms.community as nx_comm\n",
    "\n",
    "from utilities import import_networks\n",
    "from community import community_louvain\n",
    "from networkx.algorithms.community import greedy_modularity_communities\n",
    "\n",
    "import matplotlib.pyplot as plt\n",
    "import numpy as np\n",
    "\n",
    "from tqdm.notebook import tqdm"
   ]
  },
  {
   "cell_type": "code",
   "execution_count": 2,
   "id": "5ab84891-0e86-4387-bc52-c9b9614b7f17",
   "metadata": {},
   "outputs": [
    {
     "name": "stdout",
     "output_type": "stream",
     "text": [
      "Graph with 1001 nodes and 75862 edges\n",
      "Graph with 999 nodes and 75415 edges\n",
      "Graph with 1025 nodes and 80306 edges\n",
      "Graph with 1018 nodes and 80077 edges\n"
     ]
    }
   ],
   "source": [
    "networks = import_networks()\n",
    "\n",
    "print(\"\\n\".join([str(x) for x in networks]))"
   ]
  },
  {
   "cell_type": "markdown",
   "id": "bbed3577-9640-4713-be10-23a39b286bef",
   "metadata": {},
   "source": [
    "## Finding Communities\n",
    "---"
   ]
  },
  {
   "cell_type": "code",
   "execution_count": 221,
   "id": "b7db984b-76b3-4d5d-bf5d-ce6095e63f2d",
   "metadata": {},
   "outputs": [],
   "source": [
    "# Adding self nodes\n",
    "def add_self_loop(G,r: int):\n",
    "    for node in G.nodes():\n",
    "        G.add_edge(node,node,weight=r)\n",
    "\n",
    "def get_communities(G,resolution):\n",
    "    add_self_loop(G,resolution)\n",
    "    comms = greedy_modularity_communities(G,resolution=1, weight=\"weight\")\n",
    "    return comms"
   ]
  },
  {
   "cell_type": "code",
   "execution_count": 381,
   "id": "8e435ce2-2a6d-4a24-b5e3-9479030d3b47",
   "metadata": {},
   "outputs": [
    {
     "name": "stdout",
     "output_type": "stream",
     "text": [
      "[1013542, 1013406, 1288802, 1320264]\n",
      "[-1012, -1014, -1257, -1296]\n"
     ]
    }
   ],
   "source": [
    "# Calculate exoected r_min\n",
    "for g in networks:\n",
    "    add_self_loop(g,0)\n",
    "\n",
    "total_degrees = [sum(dict(g.degree(weight=\"weight\")).values()) for g in networks]\n",
    "rmin = [int(-w/g.number_of_nodes()/2) for w,g in zip(total_degrees,networks)]\n",
    "\n",
    "print(total_degrees)\n",
    "print(rmin)"
   ]
  },
  {
   "cell_type": "code",
   "execution_count": 39,
   "id": "fa5e848c-c5d5-49cd-8496-a24d628d4b52",
   "metadata": {},
   "outputs": [
    {
     "name": "stdout",
     "output_type": "stream",
     "text": [
      "{2018: {}, 2019: {}, 2020: {}, 2021: {}}\n"
     ]
    }
   ],
   "source": [
    "#Dict for storing communities\n",
    "communities_by_resolution =  dict(zip(range(2018,2022),[{},{},{},{}]))\n",
    "print(communities_by_resolution)"
   ]
  },
  {
   "cell_type": "code",
   "execution_count": 336,
   "id": "9f88293d-a1e7-454f-9fdd-c5cc6e9f5248",
   "metadata": {},
   "outputs": [
    {
     "name": "stdout",
     "output_type": "stream",
     "text": [
      "[-390 -385 -380 -375 -370 -365 -360 -355 -350 -345 -340 -335 -330 -325\n",
      " -320 -315 -310 -305 -300 -295 -290 -285 -280 -275 -270 -265 -260 -255\n",
      " -250 -245 -240 -235 -230 -225 -220 -215 -210 -205 -200 -195 -190 -185\n",
      " -180 -175 -170 -165 -160 -155 -150 -145 -140 -135 -130 -125 -120 -115\n",
      " -110 -105 -100  -95  -90  -85  -80  -75  -70  -65  -60  -55  -50  -45\n",
      "  -40  -35  -30  -25  -20  -15  -10   -5]\n"
     ]
    },
    {
     "data": {
      "application/vnd.jupyter.widget-view+json": {
       "model_id": "3246d2145b614a1687beb2626e64da4f",
       "version_major": 2,
       "version_minor": 0
      },
      "text/plain": [
       "  0%|          | 0/78 [00:00<?, ?it/s]"
      ]
     },
     "metadata": {},
     "output_type": "display_data"
    },
    {
     "name": "stdout",
     "output_type": "stream",
     "text": [
      "CPU times: user 41min 31s, sys: 274 ms, total: 41min 31s\n",
      "Wall time: 41min 35s\n"
     ]
    }
   ],
   "source": [
    "\"\"\"\n",
    "Finding communities.\n",
    "This can be run multiple times with different values of resolutions as needed\n",
    "\"\"\"\n",
    "\n",
    "%%time\n",
    "# resolutions = np.unique(np.linspace(-620,100,200, dtype=int))\n",
    "resolutions = np.arange(-390, 0, 5,dtype=int)\n",
    "print(resolutions)\n",
    "for resolution in tqdm(resolutions):\n",
    "    for g,year in zip(networks,range(2018,2022)):\n",
    "        communities_by_resolution[year][resolution] = [list(y) for y in get_communities(g,resolution=resolution)]"
   ]
  },
  {
   "cell_type": "code",
   "execution_count": 297,
   "id": "bb9b5080-d7fc-4549-a027-bb39e4cfd721",
   "metadata": {
    "scrolled": true,
    "tags": []
   },
   "outputs": [],
   "source": [
    "#Classify Communities\n",
    "communities_statistics = {}\n",
    "for (year,comms),g in  zip(communities_by_resolution.items(),networks):\n",
    "    communities_statistics[year] = {\"N_communities\":    [(r,len(x)) for r,x in comms.items()],\n",
    "                                    \"Avg_comm_size\":    [np.average([len(y) for y in x]) for x in comms.values()],\n",
    "                                    \"Sigma_comm_size\":  [np.std([len(y) for y in x]) for x in comms.values()],\n",
    "                                    \"Median_comm_size\": [np.median([len(y) for y in x]) for x in comms.values()]}"
   ]
  },
  {
   "cell_type": "code",
   "execution_count": 382,
   "id": "dde65067-f26f-4433-ac1e-c24e279407dc",
   "metadata": {},
   "outputs": [],
   "source": [
    "# Export Data\n",
    "import json\n",
    "for year in range(2018,2022):\n",
    "    keys = [float(x) for x in communities_by_resolution[year].keys()]\n",
    "    communities_by_resolution[year] = dict(zip(keys, communities_by_resolution[year].values()))\n",
    "with open(\"data/arenas_communities.json\", \"w\") as f:\n",
    "    json.dump(communities_by_resolution,f)"
   ]
  },
  {
   "cell_type": "code",
   "execution_count": 3,
   "id": "a5cb55fe-3722-4847-ba7c-0a7dddf57276",
   "metadata": {},
   "outputs": [],
   "source": [
    "#Import data\n",
    "import json\n",
    "def keystoint(x):\n",
    "    return {float(k): v for k, v in x.items()}\n",
    "with open(\"data/arenas_communities.json\", \"r\") as f:\n",
    "    communities_by_resolution = json.load(f, object_hook=keystoint)"
   ]
  },
  {
   "cell_type": "markdown",
   "id": "89e2d4c9-6a9c-4d59-bd62-cb948934f027",
   "metadata": {},
   "source": [
    "# Visualize data\n",
    "---"
   ]
  },
  {
   "cell_type": "code",
   "execution_count": 384,
   "id": "d4fb0584-b8ed-42a2-a0e2-779132143964",
   "metadata": {},
   "outputs": [
    {
     "data": {
      "image/png": "[encoded data removed]",
      "text/plain": [
       "<Figure size 246.614x172.63 with 1 Axes>"
      ]
     },
     "metadata": {
      "needs_background": "light"
     },
     "output_type": "display_data"
    }
   ],
   "source": [
    "#Number of communities for small values of the parameters\n",
    "\n",
    "colors = ['#EE7732', '#33BBEE',  '#EE3377',  '#0077BB']\n",
    "colors = dict(zip(range(2018,2022),colors))\n",
    "\n",
    "plt.rcParams.update({'font.size': 6})\n",
    "plt.rc('xtick', labelsize=6)   \n",
    "plt.rc('ytick', labelsize=6)    \n",
    "plt.rc('axes', titlesize=6)    \n",
    "\n",
    "cm = 1/2.54\n",
    "fig,ax = plt.subplots(figsize=(8.7*cm,0.7*8.7*cm))\n",
    "\n",
    "ax.set(xscale=\"linear\", yscale=\"linear\",xlim=(-650,5000),ylim=(0,300),\n",
    "      xlabel=\"Resolution parameter\", ylabel=\"Number of communities\")\n",
    "for year, r in zip(range(2018,2022),rmin):\n",
    "    n_comms = [len(y) for x,y in communities_by_resolution[year].items() if x > r]\n",
    "    resolutions = [float(x) for x,y in communities_by_resolution[year].items() if x > r]\n",
    "    \n",
    "    resolutions,n_comms = list(zip(*sorted(list(zip(resolutions,n_comms)), key=lambda x: x[0])))\n",
    "\n",
    "    ax.plot(resolutions,n_comms,marker=\"o\",ls=\"-\",markersize=1, label=year, c=colors[year],alpha=0.8)\n",
    "\n",
    "ax.grid()\n",
    "ax.legend(ncol=4,bbox_to_anchor=(0.5,1),loc=\"lower center\",frameon=False)\n",
    "plt.tight_layout()\n",
    "plt.savefig(\"images/arenas_community_N.pdf\")"
   ]
  },
  {
   "cell_type": "code",
   "execution_count": 273,
   "id": "dd91f8a8-732f-450b-8371-ef47353dd1ed",
   "metadata": {},
   "outputs": [
    {
     "data": {
      "text/plain": [
       "[48, 52, 48, 43]"
      ]
     },
     "execution_count": 273,
     "metadata": {},
     "output_type": "execute_result"
    }
   ],
   "source": [
    "#Rmin obtained experimentally\n",
    "rminexp = {}\n",
    "for g,year in zip(networks,range(2018,2022)):\n",
    "    rminexp[year] = max([n for n,x in communities_by_resolution[year].items() if len(x)==1])\n",
    "[x-y for x,y in zip(rminexp.values(), rmin)]"
   ]
  },
  {
   "cell_type": "code",
   "execution_count": 267,
   "id": "92458563-e359-4c28-9ba4-fceae0e1d7dd",
   "metadata": {},
   "outputs": [
    {
     "data": {
      "image/png": "[encoded data removed]",
      "text/plain": [
       "<Figure size 246.614x172.63 with 1 Axes>"
      ]
     },
     "metadata": {
      "needs_background": "light"
     },
     "output_type": "display_data"
    }
   ],
   "source": [
    "#Visualize low values of the parameter\n",
    "colors = ['#EE7732', '#33BBEE',  '#EE3377',  '#0077BB']\n",
    "colors = dict(zip(range(2018,2022),colors))\n",
    "\n",
    "plt.rcParams.update({'font.size': 6})\n",
    "plt.rc('xtick', labelsize=6)    # fontsize of the tick labels\n",
    "plt.rc('ytick', labelsize=6)    \n",
    "plt.rc('axes', titlesize=6)    \n",
    "\n",
    "cm = 1/2.54\n",
    "fig,ax = plt.subplots(figsize=(8.7*cm,0.7*8.7*cm))\n",
    "\n",
    "ax.set(xscale=\"linear\", yscale=\"linear\",xlim=(-650,100),ylim=(0,30),\n",
    "      xlabel=\"Resolution parameter\", ylabel=\"Number of communities\")\n",
    "for year, r in zip(range(2018,2022),rmin):\n",
    "    n_comms = [len(y) for x,y in communities_by_resolution[year].items() if x > r]\n",
    "    resolutions = [int(x) for x,y in communities_by_resolution[year].items() if x > r]\n",
    "    \n",
    "    resolutions,n_comms = list(zip(*sorted(list(zip(resolutions,n_comms)), key=lambda x: x[0])))\n",
    "\n",
    "    ax.plot(resolutions,n_comms,marker=\"o\",ls=\"-\",markersize=1, label=year, c=colors[year],alpha=0.8)\n",
    "    ax.axvline(rminexp[year],c=colors[year],ls=\"--\",lw=1,alpha=0.7)\n",
    "    \n",
    "ax.grid()\n",
    "ax.set_yticks(range(0,32,2))\n",
    "ax.legend(ncol=4,bbox_to_anchor=(0.5,1),loc=\"lower center\",frameon=False)\n",
    "plt.tight_layout()\n",
    "plt.savefig(\"images/arenas_community_N_negative.pdf\")"
   ]
  },
  {
   "cell_type": "code",
   "execution_count": 337,
   "id": "cc919db6-a458-4d5d-a162-c84e73012dcf",
   "metadata": {},
   "outputs": [
    {
     "name": "stdout",
     "output_type": "stream",
     "text": [
      "{2018: 592672.0, 2019: 593102.0, 2020: 848585.0, 2021: 860300.0}\n"
     ]
    },
    {
     "data": {
      "image/png": "[encoded data removed]",
      "text/plain": [
       "<Figure size 246.614x172.63 with 1 Axes>"
      ]
     },
     "metadata": {
      "needs_background": "light"
     },
     "output_type": "display_data"
    }
   ],
   "source": [
    "#Asymptotic behaviour\n",
    "\n",
    "rmax = {}\n",
    "for g,year in zip(networks,range(2018,2022)):\n",
    "    rmax[year] = min([n for n,x in communities_by_resolution[year].items() if len(x)==g.number_of_nodes()])\n",
    "pos = dict(zip(range(2018,2022),[2,5,105,250]))\n",
    "print(rmax)\n",
    "\n",
    "colors = ['#EE7732', '#33BBEE',  '#EE3377',  '#0077BB']\n",
    "colors = dict(zip(range(2018,2022),colors))\n",
    "\n",
    "plt.rcParams.update({'font.size': 6})\n",
    "plt.rc('xtick', labelsize=6)    # fontsize of the tick labels\n",
    "plt.rc('ytick', labelsize=6)    \n",
    "plt.rc('axes', titlesize=6)    \n",
    "\n",
    "cm = 1/2.54\n",
    "fig,ax = plt.subplots(figsize=(8.7*cm,0.7*8.7*cm))\n",
    "\n",
    "ax.set(xscale=\"log\", yscale=\"log\", xlim=(10,1e6),ylim=(10,1.1e3),\n",
    "       xlabel=\"Resolution parameter\", ylabel=\"Number of communities\")\n",
    "for year, r in zip(range(2018,2022),rmin):\n",
    "    n_comms = [len(y) for x,y in communities_by_resolution[year].items() if x > r]\n",
    "    resolutions = [int(x) for x,y in communities_by_resolution[year].items() if x > r]\n",
    "    \n",
    "    resolutions,n_comms = list(zip(*sorted(list(zip(resolutions,n_comms)), key=lambda x: x[0])))\n",
    "\n",
    "    ax.plot(resolutions,n_comms,marker=\"o\",ls=\"-\",markersize=1, label=year, c=colors[year],alpha=0.8)\n",
    "    ax.axvline(rmax[year],ls=\"--\",lw=1,c=colors[year],alpha=0.5)\n",
    "    \n",
    "ax.grid()\n",
    "ax.legend(ncol=4,bbox_to_anchor=(0.5,1),loc=\"lower center\",frameon=False)\n",
    "plt.tight_layout()\n",
    "plt.savefig(\"images/arenas_asymptotic.pdf\")"
   ]
  },
  {
   "cell_type": "markdown",
   "id": "0dea52aa-726e-4c90-a6c3-e16ed8568c14",
   "metadata": {
    "tags": []
   },
   "source": [
    "for year, g in zip(range(2018,2022),networks):\n",
    "    x, y = communities_by_resolution[year][rmax[year]-1][0]\n",
    "    wi  = nx.degree(g,x,weight=\"weight\") \n",
    "    wj  = nx.degree(g,y,weight=\"weight\") \n",
    "    wij = g.edges[x,y]['weight']\n",
    "    print(x,wi,y,wj,wij)\n",
    "    print()"
   ]
  },
  {
   "cell_type": "code",
   "execution_count": null,
   "id": "b12b4e38-e2c2-44c3-9804-6968211bbaa6",
   "metadata": {},
   "outputs": [],
   "source": [
    "# Compare Standard Deviation"
   ]
  },
  {
   "cell_type": "code",
   "execution_count": null,
   "id": "6726741c-f3ea-4f91-8f4e-149ae70586ec",
   "metadata": {},
   "outputs": [],
   "source": [
    "import json\n",
    "def keystoint(x):\n",
    "    return {float(k): v for k, v in x.items()}\n",
    "with open(\"data/modularity_communities.json\", \"r\") as f:\n",
    "    communities_by_modularity = json.load(f, object_hook=keystoint)"
   ]
  },
  {
   "cell_type": "code",
   "execution_count": 379,
   "id": "84fb8f39-9148-4a6d-96a6-3142a07d5bec",
   "metadata": {},
   "outputs": [
    {
     "data": {
      "image/png": "[encoded data removed]",
      "text/plain": [
       "<Figure size 246.614x172.63 with 1 Axes>"
      ]
     },
     "metadata": {
      "needs_background": "light"
     },
     "output_type": "display_data"
    }
   ],
   "source": [
    "x_arenas = [len(y) for x,y in communities_by_resolution[2020].items() if len(y) <= 160]\n",
    "y_arenas = [np.std([len(z) for z in y]) for x,y in communities_by_resolution[2020].items() if len(y) <= 160]\n",
    "\n",
    "x_arenas, y_arenas = list(zip(*sorted(list(zip(x_arenas,y_arenas)), key=lambda x: x[0])))\n",
    "\n",
    "x_modularity = [len(y) for x,y in communities_by_modularity[2020].items() if len(y) <= 160]\n",
    "y_modularity = [np.std([len(z) for z in y]) for x,y in communities_by_modularity[2020].items() if len(y) <= 160]\n",
    "\n",
    "x_modularity, y_modularity = list(zip(*sorted(list(zip(x_modularity,y_modularity)), key=lambda x: x[0])))\n",
    "\n",
    "\n",
    "colors = ['#EE7732', '#33BBEE',  '#EE3377',  '#0077BB']\n",
    "\n",
    "\n",
    "plt.rcParams.update({'font.size': 7})\n",
    "plt.rc('xtick', labelsize=6)    # fontsize of the tick labels\n",
    "plt.rc('ytick', labelsize=6)    \n",
    "plt.rc('axes', titlesize=6)    \n",
    "\n",
    "cm = 1/2.54\n",
    "fig,ax = plt.subplots(figsize=(8.7*cm,0.7*8.7*cm))\n",
    "\n",
    "ax.plot(x_modularity,y_modularity,label=\"R&B\",marker=\"\",ms=2,alpha=0.9,c=colors[1],zorder=3)\n",
    "ax.plot(x_arenas,y_arenas,label=\"Arenas\",marker=\"\",ms=2,alpha=0.9,c=colors[0])\n",
    "\n",
    "\n",
    "ax.set(xlabel=\"Number of communities\", ylabel=\"Standard Deviation of Community Size\",\n",
    "      xlim=(0,120))\n",
    "ax.grid()\n",
    "ax.legend()\n",
    "plt.tight_layout()\n",
    "plt.savefig(\"images/std.pdf\")"
   ]
  },
  {
   "cell_type": "code",
   "execution_count": null,
   "id": "453a6af6-6e41-421f-9458-6f993d3021f0",
   "metadata": {},
   "outputs": [],
   "source": [
    "sorted([x for x in communities_by_resolution[2018].keys() if x<50])"
   ]
  },
  {
   "cell_type": "markdown",
   "id": "b390e4fd-dc0c-4182-a42d-11ba8f758394",
   "metadata": {},
   "source": [
    "## Visualize Data\n",
    "---"
   ]
  },
  {
   "cell_type": "code",
   "execution_count": 283,
   "id": "6883df12-ac86-41a7-8bef-7dd36ff4691f",
   "metadata": {},
   "outputs": [],
   "source": [
    "# Find matching communities NEW\n",
    "def enumerate_simmilarity(enum, min_courses, max_courses):\n",
    "    scores = []\n",
    "    simmilarity = lambda x, y: len(set(x) & set(y))**2 /(1 + len(set(x) - set(y)) + len(set(y) - set(x)))\n",
    "    for comm1 in min_courses:\n",
    "        scores.append([simmilarity(comm1,comm2) for comm2 in max_courses])\n",
    "        \n",
    "    scores = np.array(scores,dtype=float)\n",
    "    best = np.full(len(min_courses),-1)\n",
    "        \n",
    "    for i in range(len(min_courses)):\n",
    "        index = np.unravel_index(scores.argmax(),scores.shape)\n",
    "        best[index[0]] = index[1]\n",
    "        scores[index[0]] = -1e6\n",
    "        scores[:,index[1]] = -1e6\n",
    "     \n",
    "    return list(zip(best,enum))"
   ]
  },
  {
   "cell_type": "code",
   "execution_count": 295,
   "id": "18187b7d-ab4b-4835-9e19-f5b61503d74c",
   "metadata": {},
   "outputs": [
    {
     "data": {
      "image/png": "[encoded data removed]",
      "text/plain": [
       "<Figure size 504.567x297.638 with 6 Axes>"
      ]
     },
     "metadata": {
      "needs_background": "light"
     },
     "output_type": "display_data"
    }
   ],
   "source": [
    "colors = ['#BBBBBB', '#EE7732', '#33BBEE', '#CC3311', '#009988', '#EE3377',  '#0077BB','#DDAA33', '#999933']\n",
    "areas  = ['Educação', 'Artes e Arquitetura',\n",
    "          'Humanidades', 'Direito, Ciências Sociais e do Comportamento', 'Ciências Empresariais', \n",
    "          'Ciências da Vida', 'Ciências Exatas', 'Serviços Sociais e Pessoais', 'Saúde']\n",
    "areas_en  = ['Education', 'Arts and Architecture',\n",
    "          'Human Sciences', 'Social and Behavioral Sciences; Law', 'Business Sciences', \n",
    "          'Life Sciences', 'Exact Sciences', 'Social and Personal Services', 'Health']\n",
    "areas_en=dict(zip(areas,areas_en))\n",
    "area_colors = dict(zip(areas,colors))\n",
    "# plt.rcparams()\n",
    "plt.rcParams.update({'font.size': 9})\n",
    "\n",
    "\n",
    "x0 = 0\n",
    "\n",
    "cm = 1/2.54\n",
    "# fig,axes = plt.subplots(nrows=5, figsize=(17.8*cm,5*4*cm))\n",
    "\n",
    "mosaic = \"\"\"\n",
    "EEEAAABBB\n",
    "CCCCFFFFF\n",
    "DDDDDDDDD\n",
    "\"\"\"\n",
    "fig = plt.figure(constrained_layout=False, figsize=(17.8*cm,3*3.5*cm))\n",
    "ax_dict = fig.subplot_mosaic(mosaic)\n",
    "\n",
    "# resolution_index = 9\n",
    "for ax,resolution_index in zip(ax_dict.values(),[-300,0,0,0,0,202]):\n",
    "    areas_in_comm = {}\n",
    "    for G in networks:\n",
    "        comm = [[G.nodes[y][\"area\"] for y in x] for x in communities_by_resolution[G.graph[\"year\"]][resolution_index]]\n",
    "        areas_in_comm[G.graph[\"year\"]] = [{area: a.count(area) for area in list(set(a))} for a in comm]\n",
    "\n",
    "\n",
    "    max_idx = max(areas_in_comm, key = lambda x: len(areas_in_comm.get(x)))\n",
    "    max_comms_enum = list(enumerate(areas_in_comm[max_idx]))\n",
    "\n",
    "    max_comms = communities_by_resolution[max_idx][resolution_index]\n",
    "    \n",
    "    for (year, count), courses in zip(areas_in_comm.items(),list(communities_by_resolution.values())):\n",
    "        if year == max_idx: \n",
    "            areas_in_comm[year] = max_comms_enum\n",
    "            continue\n",
    "        areas_in_comm[year] = enumerate_simmilarity(areas_in_comm[year], courses[resolution_index], max_comms)\n",
    "\n",
    "    for n, (G,areas_year) in enumerate(zip(networks,areas_in_comm.values())):\n",
    "        y_offset = 0\n",
    "        for i,area in areas_year:\n",
    "            y_offset = 0\n",
    "            parts = list(area.items())\n",
    "            parts.sort(reverse=True,key = lambda x: x[1])\n",
    "            for j,(a,count) in enumerate(parts):\n",
    "                ax.bar(x0 + i*5+n,count,bottom=y_offset,color=area_colors[a],label=areas_en[a])\n",
    "                y_offset += count\n",
    "\n",
    "    years = list(range(18,22))*len(max_comms)\n",
    "    idx = [x0 + i*5 + j for i in range(len(max_comms)) for j in range(4)]        \n",
    "    idx_minor = [x0 + i*5 + 4 for i in range(len(max_comms)-1) for j in range(4)]        \n",
    "\n",
    "    ax.set_xticks(idx_minor,minor=True)\n",
    "    ax.set_xticks(idx,minor=False)\n",
    "    ax.tick_params(which=\"minor\",axis=\"x\",direction=\"in\")\n",
    "    ax.set_xticklabels(years, rotation=70, fontdict={\"fontsize\":6})\n",
    "\n",
    "    ax.set(xlim=(-1,idx[-1]+1))\n",
    "    ax.spines['right'].set_visible(False)\n",
    "    ax.spines['top'].set_visible(False)\n",
    "\n",
    "\n",
    "    ax.set_title(f\"Resolution parameter = {resolution_index:.1f}\", fontdict={\"fontsize\":8})\n",
    "\n",
    "# axes[1].set_ylabel(f\"Number of elements\", fontdict={\"fontsize\":8})\n",
    "fig.text(0.0, 0.50, 'Number of elements', va='center',ha='left',rotation=90)\n",
    "handles, labels = plt.gca().get_legend_handles_labels()\n",
    "handles, labels = zip(*sorted(list(zip(handles,labels)),key=lambda x: x[1],reverse = True))\n",
    "by_label = dict(zip(labels, handles))\n",
    "\n",
    "fig.legend(by_label.values(), by_label.keys(), ncol = 5,loc=\"upper left\", #bbox_to_anchor=(0,1.1), \n",
    "            fontsize=7, markerfirst=True, frameon=False,  borderaxespad=0,mode=\"expand\")\n",
    "\n",
    "plt.tight_layout()\n",
    "plt.subplots_adjust(top=0.87)\n",
    "plt.savefig(\"images/arenas_communities_by_field.pdf\")\n",
    "# plt.savefig(\"comm.jpeg\",dpi=200)\n"
   ]
  },
  {
   "cell_type": "code",
   "execution_count": 54,
   "id": "e2f9c9ba-4b64-456a-9cbb-6e22b3811755",
   "metadata": {},
   "outputs": [
    {
     "ename": "TypeError",
     "evalue": "enumerate_simmilarity() missing 1 required positional argument: 'max_courses'",
     "output_type": "error",
     "traceback": [
      "\u001b[0;31m---------------------------------------------------------------------------\u001b[0m",
      "\u001b[0;31mTypeError\u001b[0m                                 Traceback (most recent call last)",
      "\u001b[0;32m/tmp/ipykernel_2826/400348438.py\u001b[0m in \u001b[0;36m<module>\u001b[0;34m\u001b[0m\n\u001b[1;32m     31\u001b[0m         \u001b[0mareas_in_comm\u001b[0m\u001b[0;34m[\u001b[0m\u001b[0mi\u001b[0m\u001b[0;34m]\u001b[0m \u001b[0;34m=\u001b[0m \u001b[0mmax_comms_enum\u001b[0m\u001b[0;34m\u001b[0m\u001b[0;34m\u001b[0m\u001b[0m\n\u001b[1;32m     32\u001b[0m         \u001b[0;32mcontinue\u001b[0m\u001b[0;34m\u001b[0m\u001b[0;34m\u001b[0m\u001b[0m\n\u001b[0;32m---> 33\u001b[0;31m     \u001b[0mareas_in_comm\u001b[0m\u001b[0;34m[\u001b[0m\u001b[0mi\u001b[0m\u001b[0;34m]\u001b[0m \u001b[0;34m=\u001b[0m \u001b[0menumerate_simmilarity\u001b[0m\u001b[0;34m(\u001b[0m\u001b[0mareas_in_comm\u001b[0m\u001b[0;34m[\u001b[0m\u001b[0mi\u001b[0m\u001b[0;34m]\u001b[0m\u001b[0;34m,\u001b[0m \u001b[0mmax_comms\u001b[0m\u001b[0;34m)\u001b[0m\u001b[0;34m\u001b[0m\u001b[0;34m\u001b[0m\u001b[0m\n\u001b[0m\u001b[1;32m     34\u001b[0m \u001b[0;34m\u001b[0m\u001b[0m\n\u001b[1;32m     35\u001b[0m \u001b[0;32mfor\u001b[0m \u001b[0mn\u001b[0m\u001b[0;34m,\u001b[0m \u001b[0;34m(\u001b[0m\u001b[0mG\u001b[0m\u001b[0;34m,\u001b[0m\u001b[0mareas_year\u001b[0m\u001b[0;34m)\u001b[0m \u001b[0;32min\u001b[0m \u001b[0menumerate\u001b[0m\u001b[0;34m(\u001b[0m\u001b[0mzip\u001b[0m\u001b[0;34m(\u001b[0m\u001b[0mnetworks\u001b[0m\u001b[0;34m,\u001b[0m\u001b[0mareas_in_comm\u001b[0m\u001b[0;34m)\u001b[0m\u001b[0;34m)\u001b[0m\u001b[0;34m:\u001b[0m\u001b[0;34m\u001b[0m\u001b[0;34m\u001b[0m\u001b[0m\n",
      "\u001b[0;31mTypeError\u001b[0m: enumerate_simmilarity() missing 1 required positional argument: 'max_courses'"
     ]
    },
    {
     "data": {
      "image/png": "[encoded data removed]",
      "text/plain": [
       "<Figure size 504.567x198.425 with 1 Axes>"
      ]
     },
     "metadata": {
      "needs_background": "light"
     },
     "output_type": "display_data"
    }
   ],
   "source": [
    "colors = ['#BBBBBB', '#EE7732', '#33BBEE', '#CC3311', '#009988', '#EE3377',  '#0077BB','#DDAA33', '#999933']\n",
    "# areas  = ['Educação', 'Artes e Arquitetura',\n",
    "          # 'Humanidades', 'Direito, Ciências Sociais e do Comportamento', 'Ciências Empresariais', \n",
    "          # 'Ciências da Vida', 'Ciências Exatas', 'Serviços Sociais e Pessoais', 'Saúde']\n",
    "# areas_en  = ['Education', 'Arts and Architecture',\n",
    "          # 'Human Sciences', 'Social and Behavioral Sciences; Law', 'Business Sciences', \n",
    "          # 'Life Sciences', 'Exact Sciences', 'Social and Personal Services', 'Health']\n",
    "# areas_en=dict(zip(areas,areas_en))\n",
    "# area_colors = dict(zip(areas,colors))\n",
    "# plt.rcparams()\n",
    "plt.rcParams.update({'font.size': 9})\n",
    "\n",
    "\n",
    "x0 = 0\n",
    "\n",
    "cm = 1/2.54\n",
    "fig,ax = plt.subplots(figsize=(17.8*cm,7*cm))\n",
    "\n",
    "resolution_index = 5\n",
    "areas_in_comm = []\n",
    "for n, G in enumerate(networks):\n",
    "    comm = [[G.nodes[y][\"faculty_name\"] for y in x] for x in communities_by_resolution[str(G.graph[\"year\"])][resolution_index]]\n",
    "    areas_in_comm.append([{area: a.count(area) for area in list(set(a))} for a in comm])\n",
    "    \n",
    "max_idx = areas_in_comm.index(max(areas_in_comm, key = len))\n",
    "max_comms = max(areas_in_comm, key = len)\n",
    "max_comms_enum = list(enumerate(max_comms))\n",
    "\n",
    "for i in range(0,4):\n",
    "    if i == max_idx: \n",
    "        areas_in_comm[i] = max_comms_enum\n",
    "        continue\n",
    "    areas_in_comm[i] = enumerate_simmilarity(areas_in_comm[i], max_comms)\n",
    "    \n",
    "for n, (G,areas_year) in enumerate(zip(networks,areas_in_comm)):\n",
    "    y_offset = 0\n",
    "    for i,area in areas_year:\n",
    "        y_offset = 0\n",
    "        parts = list(area.items())\n",
    "        parts.sort(reverse=True,key = lambda x: x[1])\n",
    "        for j,(a,count) in enumerate(parts):\n",
    "            ax.bar(x0 + i*5+n,count,bottom=y_offset)\n",
    "            y_offset += count\n",
    "\n",
    "years = list(range(2018,2022))*len(max_comms)\n",
    "idx = [x0 + i*5 + j for i in range(len(max_comms)) for j in range(4)]        \n",
    "            \n",
    "ax.set_xticks(idx)\n",
    "ax.set_xticklabels(years, rotation=65, fontdict={\"fontsize\":6})\n",
    "\n",
    "ax.set(xlim=(-1,ax.get_xlim()[1]-1))\n",
    "\n",
    "ax.set_title(f\"Resolution parameter = {resolutions[resolution_index]}\", fontdict={\"fontsize\":8})\n",
    "\n",
    "ax.set_ylabel(f\"Number of elements\", fontdict={\"fontsize\":8})\n",
    "handles, labels = plt.gca().get_legend_handles_labels()\n",
    "by_label = dict(zip(labels, handles))\n",
    "ax.legend(by_label.values(), by_label.keys(),bbox_to_anchor=(1,1), loc=\"upper right\",\n",
    "            fontsize=7, markerfirst=False, frameon=False)\n",
    "\n",
    "plt.tight_layout()\n",
    "plt.savefig(\"comm.pdf\")\n",
    "# plt.savefig(\"comm.jpeg\",dpi=200)\n"
   ]
  },
  {
   "cell_type": "code",
   "execution_count": null,
   "id": "2fca3d69-c4a8-4bd0-8666-ccaa50432835",
   "metadata": {},
   "outputs": [],
   "source": []
  }
 ],
 "metadata": {
  "kernelspec": {
   "display_name": "Python 3 (ipykernel)",
   "language": "python",
   "name": "python3"
  },
  "language_info": {
   "codemirror_mode": {
    "name": "ipython",
    "version": 3
   },
   "file_extension": ".py",
   "mimetype": "text/x-python",
   "name": "python",
   "nbconvert_exporter": "python",
   "pygments_lexer": "ipython3",
   "version": "3.9.7"
  }
 },
 "nbformat": 4,
 "nbformat_minor": 5
}
