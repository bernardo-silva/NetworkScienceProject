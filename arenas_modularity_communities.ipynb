{
 "cells": [
  {
   "cell_type": "code",
   "execution_count": 86,
   "id": "febfa498-0b4a-4e07-bc4a-6dee7b74e71e",
   "metadata": {},
   "outputs": [],
   "source": [
    "import networkx as nx\n",
    "import networkx.algorithms.community as nx_comm\n",
    "\n",
    "from utilities import import_networks\n",
    "from community import community_louvain\n",
    "from networkx.algorithms.community import greedy_modularity_communities\n",
    "\n",
    "# from networkx.algorithms.community.centrality import girvan_newman\n",
    "# from networkx.algorithms.community import lukes_partitioning\n",
    "\n",
    "import matplotlib.pyplot as plt\n",
    "import numpy as np\n",
    "\n",
    "from tqdm.notebook import tqdm"
   ]
  },
  {
   "cell_type": "code",
   "execution_count": 44,
   "id": "5ab84891-0e86-4387-bc52-c9b9614b7f17",
   "metadata": {},
   "outputs": [
    {
     "name": "stdout",
     "output_type": "stream",
     "text": [
      "Graph with 1001 nodes and 75862 edges\n",
      "Graph with 999 nodes and 75415 edges\n",
      "Graph with 1025 nodes and 80306 edges\n",
      "Graph with 1018 nodes and 80077 edges\n"
     ]
    }
   ],
   "source": [
    "networks = import_networks()\n",
    "\n",
    "print(\"\\n\".join([str(x) for x in networks]))"
   ]
  },
  {
   "cell_type": "markdown",
   "id": "bbed3577-9640-4713-be10-23a39b286bef",
   "metadata": {},
   "source": [
    "## Finding Communities\n",
    "---"
   ]
  },
  {
   "cell_type": "code",
   "execution_count": 46,
   "id": "b7db984b-76b3-4d5d-bf5d-ce6095e63f2d",
   "metadata": {},
   "outputs": [],
   "source": [
    "# Adding self nodes\n",
    "def add_self_loop(G,r: int):\n",
    "    for node in G.nodes():\n",
    "        G.add_edge(node,node,weight=r)\n",
    "\n",
    "def get_communities(G,resolution):\n",
    "    add_self_loop(G,resolution)\n",
    "    comms = greedy_modularity_communities(G,resolution=1, weight=\"weight\")\n",
    "    return comms"
   ]
  },
  {
   "cell_type": "markdown",
   "id": "d8caea19-cc40-4d22-bc83-047fd8aae288",
   "metadata": {},
   "source": [
    "## Test resolution parameter"
   ]
  },
  {
   "cell_type": "code",
   "execution_count": 57,
   "id": "8e435ce2-2a6d-4a24-b5e3-9479030d3b47",
   "metadata": {},
   "outputs": [
    {
     "name": "stdout",
     "output_type": "stream",
     "text": [
      "[-506, -507, -628, -648]\n"
     ]
    }
   ],
   "source": [
    "# list(networks[0].edges(data=True))\n",
    "for g in networks:\n",
    "    add_self_loop(g,0)\n",
    "total_degrees = [sum(dict(g.degree(weight=\"weight\")).values()) for g in networks]\n",
    "total_degrees = [sum([edge[2][\"weight\"] for edge in g.edges(data=True)]) for g in networks]\n",
    "\n",
    "rmin = [int(-w/g.number_of_nodes()) for w,g in zip(total_degrees,networks)]\n",
    "print(rmin)"
   ]
  },
  {
   "cell_type": "code",
   "execution_count": 29,
   "id": "0f92855b-4de9-4157-b394-17e813e9678e",
   "metadata": {},
   "outputs": [
    {
     "name": "stdout",
     "output_type": "stream",
     "text": [
      "CPU times: user 33.1 s, sys: 33.1 ms, total: 33.1 s\n",
      "Wall time: 33.2 s\n"
     ]
    }
   ],
   "source": [
    "%%time\n",
    "comms = [get_communities(G,r) for G,r in zip(networks,rmin)]"
   ]
  },
  {
   "cell_type": "code",
   "execution_count": 39,
   "id": "fa5e848c-c5d5-49cd-8496-a24d628d4b52",
   "metadata": {},
   "outputs": [
    {
     "name": "stdout",
     "output_type": "stream",
     "text": [
      "{2018: {}, 2019: {}, 2020: {}, 2021: {}}\n"
     ]
    }
   ],
   "source": [
    "communities_by_resolution =  dict(zip(range(2018,2022),[{},{},{},{}]))\n",
    "print(communities_by_resolution)"
   ]
  },
  {
   "cell_type": "code",
   "execution_count": 169,
   "id": "9f88293d-a1e7-454f-9fdd-c5cc6e9f5248",
   "metadata": {},
   "outputs": [
    {
     "data": {
      "application/vnd.jupyter.widget-view+json": {
       "model_id": "e11d81d3a49948f99e64bc2a369d8e8d",
       "version_major": 2,
       "version_minor": 0
      },
      "text/plain": [
       "  0%|          | 0/1 [00:00<?, ?it/s]"
      ]
     },
     "metadata": {},
     "output_type": "display_data"
    },
    {
     "name": "stdout",
     "output_type": "stream",
     "text": [
      "CPU times: user 32.1 s, sys: 6.64 ms, total: 32.1 s\n",
      "Wall time: 32.2 s\n"
     ]
    }
   ],
   "source": [
    "%%time\n",
    "# resolutions = np.unique(np.linspace(-620,100,200, dtype=int))\n",
    "resolutions = [0]\n",
    "# print(resolutions.size)\n",
    "for resolution in tqdm(resolutions):\n",
    "    for g,year in zip(networks,range(2018,2022)):\n",
    "        communities_by_resolution[year][resolution] = [list(y) for y in get_communities(g,resolution=resolution)]"
   ]
  },
  {
   "cell_type": "code",
   "execution_count": 176,
   "id": "5b80c32f-1171-44f9-a218-6d32a4edb8c1",
   "metadata": {
    "scrolled": true,
    "tags": []
   },
   "outputs": [
    {
     "data": {
      "text/plain": [
       "8"
      ]
     },
     "execution_count": 176,
     "metadata": {},
     "output_type": "execute_result"
    }
   ],
   "source": [
    "len(communities_by_resolution[2020][0])"
   ]
  },
  {
   "cell_type": "code",
   "execution_count": 165,
   "id": "d4fb0584-b8ed-42a2-a0e2-779132143964",
   "metadata": {},
   "outputs": [
    {
     "data": {
      "image/png": "[encoded data removed]",
      "text/plain": [
       "<Figure size 246.614x172.63 with 1 Axes>"
      ]
     },
     "metadata": {
      "needs_background": "light"
     },
     "output_type": "display_data"
    }
   ],
   "source": [
    "#Visualize statistics\n",
    "colors = ['#EE7732', '#33BBEE',  '#EE3377',  '#0077BB']\n",
    "colors = dict(zip(range(2018,2022),colors))\n",
    "\n",
    "plt.rcParams.update({'font.size': 6})\n",
    "plt.rc('xtick', labelsize=6)    # fontsize of the tick labels\n",
    "plt.rc('ytick', labelsize=6)    \n",
    "plt.rc('axes', titlesize=6)    \n",
    "\n",
    "cm = 1/2.54\n",
    "fig,ax = plt.subplots(figsize=(8.7*cm,0.7*8.7*cm))\n",
    "\n",
    "ax.set(xscale=\"linear\", yscale=\"log\",xlim=(-700,5_000),ylim=(0.9,300),\n",
    "       xlabel=\"Resolution parameter\", ylabel=\"Number of communities\")\n",
    "for year, r in zip(range(2018,2022),rmin):\n",
    "    n_comms = [len(y) for x,y in communities_by_resolution[year].items() if x > r]\n",
    "    resolutions = [int(x) for x,y in communities_by_resolution[year].items() if x > r]\n",
    "    \n",
    "    resolutions,n_comms = list(zip(*sorted(list(zip(resolutions,n_comms)), key=lambda x: x[0])))\n",
    "\n",
    "    ax.plot(resolutions,n_comms,marker=\"o\",ls=\"-\",markersize=1, label=year, c=colors[year],alpha=0.8)\n",
    "    \n",
    "ax.grid()\n",
    "ax.legend(ncol=4,bbox_to_anchor=(0.5,1),loc=\"lower center\",frameon=False)\n",
    "plt.tight_layout()\n",
    "plt.savefig(\"images/arenas_community_N.pdf\")\n",
    "# ax.legend()"
   ]
  },
  {
   "cell_type": "code",
   "execution_count": 178,
   "id": "dde65067-f26f-4433-ac1e-c24e279407dc",
   "metadata": {},
   "outputs": [],
   "source": [
    "# Export Data\n",
    "import json\n",
    "for year in range(2018,2022):\n",
    "    keys = [int(x) for x in communities_by_resolution[year].keys()]\n",
    "    communities_by_resolution[year] = dict(zip(keys, communities_by_resolution[year].values()))\n",
    "with open(\"data/arenas_communities.json\", \"w\") as f:\n",
    "    json.dump(communities_by_resolution,f)\n"
   ]
  },
  {
   "cell_type": "code",
   "execution_count": 36,
   "id": "a5cb55fe-3722-4847-ba7c-0a7dddf57276",
   "metadata": {},
   "outputs": [],
   "source": [
    "#Import data\n",
    "import json\n",
    "def keystoint(x):\n",
    "    return {int(k): v for k, v in x.items()}\n",
    "with open(\"data/arenas_communities.json\", \"r\") as f:\n",
    "    communities_by_resolution = json.load(f, object_hook=keystoint)\n"
   ]
  },
  {
   "cell_type": "code",
   "execution_count": 34,
   "id": "bb9b5080-d7fc-4549-a027-bb39e4cfd721",
   "metadata": {
    "scrolled": true,
    "tags": []
   },
   "outputs": [],
   "source": [
    "#Classify Communities\n",
    "communities_statistics = {}\n",
    "for (year,comms),g,r in  zip(communities_by_resolution.items(),networks,resolutions):\n",
    "    communities_statistics[year] = {\"N_communities\":    [len(x) for x in comms],\n",
    "                                    \"Avg_comm_size\":    [np.average([len(y) for y in x]) for x in comms],\n",
    "                                    \"Sigma_comm_size\":  [np.std([len(y) for y in x]) for x in comms],\n",
    "                                    \"Median_comm_size\": [np.median([len(y) for y in x]) for x in comms],\n",
    "                                    \"Modularity_score\": [nx_comm.modularity(g,c,resolution=r,weight='weight') for c in comms]}"
   ]
  },
  {
   "cell_type": "markdown",
   "id": "b390e4fd-dc0c-4182-a42d-11ba8f758394",
   "metadata": {},
   "source": [
    "## Visualize Data\n",
    "---"
   ]
  },
  {
   "cell_type": "code",
   "execution_count": 6,
   "id": "4e41bb72-0c20-4b62-914b-6033c15c91ff",
   "metadata": {},
   "outputs": [],
   "source": [
    "#Import data\n",
    "import json\n",
    "with open(\"data/modularity_communities_statistics.json\", \"r\") as f:\n",
    "    communities_statistics = json.load(f)\n",
    "with open(\"data/modularity_communities.json\", \"r\") as f:\n",
    "    communities_by_resolution = json.load(f)\n",
    "\n",
    "resolutions = np.append(np.arange(0,1,0.2),np.arange(1,25,0.5))"
   ]
  },
  {
   "cell_type": "code",
   "execution_count": 5,
   "id": "88651203-d7e7-4326-99b7-fc060a8067da",
   "metadata": {},
   "outputs": [
    {
     "name": "stderr",
     "output_type": "stream",
     "text": [
      "/tmp/ipykernel_3223/1572019614.py:30: UserWarning: Attempted to set non-positive bottom ylim on a log-scaled axis.\n",
      "Invalid limit will be ignored.\n",
      "  a.set(xlim=(0,20),ylim=(0,a.get_ylim()[1]))\n"
     ]
    },
    {
     "data": {
      "image/png": "[encoded data removed]",
      "text/plain": [
       "<Figure size 246.614x493.228 with 4 Axes>"
      ]
     },
     "metadata": {
      "needs_background": "light"
     },
     "output_type": "display_data"
    }
   ],
   "source": [
    "#Visualize statistics\n",
    "colors = ['#EE7732', '#33BBEE',  '#EE3377',  '#0077BB']\n",
    "colors = dict(zip(range(2018,2022),colors))\n",
    "\n",
    "plt.rcParams.update({'font.size': 6})\n",
    "plt.rc('xtick', labelsize=6)    # fontsize of the tick labels\n",
    "plt.rc('ytick', labelsize=6)    \n",
    "plt.rc('axes', titlesize=6)    \n",
    "\n",
    "\n",
    "cm = 1/2.54\n",
    "fig,ax = plt.subplots(ncols=1,nrows=4,figsize=(8.7*cm,2*8.7*cm),sharex=True)\n",
    "fig.text(0.5, 0.00, 'Resolution Parameter', ha='center')\n",
    "\n",
    "ax[0].set(ylabel=\"Modularity score\",yscale=\"linear\")\n",
    "ax[1].set(ylabel=\"Number of communities\")\n",
    "# # ax[0,1].set(xlabel=\"Resolution parameter\", ylabel=\"Median community size\")\n",
    "ax[2].set( ylabel=\"Average community size\",yscale=\"log\")\n",
    "ax[3].set( ylabel=\"Std community size\",yscale=\"linear\")\n",
    "for year, data in communities_statistics.items():\n",
    "    ax[0].plot(resolutions[1:],data[\"Modularity_score\"][1:],label=year, marker='o', ms=1.5, color = colors[int(year)])\n",
    "    ax[1].plot(resolutions[1:],data[\"N_communities\"][1:],label=year, marker='o', ms=1.5,alpha=0.8, color = colors[int(year)])\n",
    "    # ax[0,1].plot(resolutions,data[\"Median_comm_size\"],label=year, marker='o', ms=3, color = colors[int(year)])\n",
    "    ax[2].plot(resolutions[1:],data[\"Avg_comm_size\"][1:],label=year, marker='o', ms=1.5, color = colors[int(year)])\n",
    "    ax[3].plot(resolutions[1:],data[\"Sigma_comm_size\"][1:],label=year, marker='o', ms=1.5, color = colors[int(year)])\n",
    "             \n",
    "\n",
    "for a in ax.flatten():\n",
    "    a.grid()\n",
    "    a.set(xlim=(0,20),ylim=(0,a.get_ylim()[1]))\n",
    "    # a.set_xticks(a.get_xticks())\n",
    "    # a.set_xticklabels(a.get_xticklabels(),fontdict={\"fontsize\":6})\n",
    "    # a.legend()\n",
    "# ax[0,0].grid()\n",
    "# ax[0,1].grid()\n",
    "ax[0].legend(ncol=4,bbox_to_anchor=(0.5,1),loc=\"lower center\",frameon=False)\n",
    "# ax[0,1].legend()\n",
    "plt.tight_layout()\n",
    "plt.savefig(\"modularity_community_statistics.pdf\")\n",
    "# plt.savefig(\"modularity_community_statistics.png\",dpi=200)"
   ]
  },
  {
   "cell_type": "code",
   "execution_count": null,
   "id": "b7f3973b-b7e4-4d11-9480-222ac2922be8",
   "metadata": {},
   "outputs": [],
   "source": [
    "from scipy.stats import linregress\n",
    "\n",
    "fits = []\n",
    "for year, data in communities_statistics.items():\n",
    "    fits.append(linregress(resolutions, data[\"N_communities\"]))\n",
    "    print(fits[-1])\n",
    "    # print(f\"\\\\SI{{{fits[-1].slope}({fits[-1].stderr})}}{{}} & \\\\SI{{{fits[-1].intercept}({fits[-1].intercept_stderr})}}{{}} & {fits[-1].rvalue}\\\\\\\\\")#, str(fits[-1].intercept),str(fits[-1].pvalue)]))"
   ]
  },
  {
   "cell_type": "code",
   "execution_count": null,
   "id": "c907ae5b-d734-4e65-88c6-89bb5cca82ff",
   "metadata": {},
   "outputs": [],
   "source": [
    "from scipy.stats import norm"
   ]
  },
  {
   "cell_type": "code",
   "execution_count": null,
   "id": "7f187f0d-8c85-4809-adf8-8b9bd020094b",
   "metadata": {},
   "outputs": [],
   "source": [
    "fig,ax = plt.subplots(figsize=(10,5))\n",
    "ax.set(xlabel=\"Community size\", ylabel=\"p\")\n",
    "\n",
    "x = np.linspace(0,150,200)\n",
    "for average,std in zip(communities_statistics[2018][\"Avg_comm_size\"],communities_statistics[2018][\"Sigma_comm_size\"]):\n",
    "    ax.plot(x,norm(loc=average,scale=std).pdf(x),label=year, marker='',ls='-', ms=3)\n",
    "             \n",
    "ax.grid()\n",
    "# ax.legend()"
   ]
  },
  {
   "cell_type": "code",
   "execution_count": 55,
   "id": "5a2951a1-23a0-47d9-92fb-7ba4f516ab28",
   "metadata": {},
   "outputs": [],
   "source": [
    "# Find matching communities OLD\n",
    "_ =\"\"\"\n",
    "def enumerate_simmilarity(d1,d2):\n",
    "    scores = []\n",
    "    simmilarity = lambda d,d1: len(d1.keys() & d.keys()) * sum([d1[c]*d[c]/(1+abs(d1[c]-d[c])) for c in (d1.keys() & d.keys())])\n",
    "    for d in d1:\n",
    "        scores.append([simmilarity(d,dd) for dd in d2])\n",
    "        \n",
    "    scores = np.array(scores,dtype=float)\n",
    "    best = np.full(len(d1),-1)\n",
    "        \n",
    "    for i in range(len(d1)):\n",
    "        index = np.unravel_index(scores.argmax(),scores.shape)\n",
    "        best[index[0]] = index[1]\n",
    "        scores[index[0]] = -1\n",
    "        scores[:,index[1]] = -1\n",
    "     \n",
    "    return list(zip(best,d1))\n",
    "\"\"\""
   ]
  },
  {
   "cell_type": "code",
   "execution_count": 14,
   "id": "6883df12-ac86-41a7-8bef-7dd36ff4691f",
   "metadata": {},
   "outputs": [],
   "source": [
    "# Find matching communities NEW\n",
    "def enumerate_simmilarity(enum, min_courses, max_courses):\n",
    "    scores = []\n",
    "    simmilarity = lambda x, y: len(set(x) & set(y))**2 /(1 + len(set(x) - set(y)) + len(set(y) - set(x)))\n",
    "    for comm1 in min_courses:\n",
    "        scores.append([simmilarity(comm1,comm2) for comm2 in max_courses])\n",
    "        \n",
    "    scores = np.array(scores,dtype=float)\n",
    "    best = np.full(len(min_courses),-1)\n",
    "        \n",
    "    for i in range(len(min_courses)):\n",
    "        index = np.unravel_index(scores.argmax(),scores.shape)\n",
    "        best[index[0]] = index[1]\n",
    "        scores[index[0]] = -1e6\n",
    "        scores[:,index[1]] = -1e6\n",
    "     \n",
    "    return list(zip(best,enum))"
   ]
  },
  {
   "cell_type": "code",
   "execution_count": 8,
   "id": "fcfefd14-8e14-4249-a798-5822b940f6eb",
   "metadata": {
    "jupyter": {
     "source_hidden": true
    },
    "tags": []
   },
   "outputs": [
    {
     "name": "stdout",
     "output_type": "stream",
     "text": [
      "[(0, {'Ciências da Vida': 6, 'Ciências Exatas': 14, 'Educação': 26, 'Humanidades': 82, 'Ciências Empresariais': 156, 'Artes e Arquitetura': 99, 'Direito, Ciências Sociais e do Comportamento': 98, 'Serviços Sociais e Pessoais': 93}), (1, {'Ciências da Vida': 83, 'Ciências Exatas': 237, 'Educação': 1, 'Ciências Empresariais': 2, 'Artes e Arquitetura': 2, 'Saúde': 102})]\n",
      "574\n",
      "427\n"
     ]
    },
    {
     "data": {
      "image/png": "[encoded data removed]",
      "text/plain": [
       "<Figure size 1513.7x198.425 with 1 Axes>"
      ]
     },
     "metadata": {
      "needs_background": "light"
     },
     "output_type": "display_data"
    }
   ],
   "source": [
    "colors = ['#BBBBBB', '#EE7732', '#33BBEE', '#CC3311', '#009988', '#EE3377',  '#0077BB','#DDAA33', '#999933']\n",
    "areas  = ['Educação', 'Artes e Arquitetura',\n",
    "          'Humanidades', 'Direito, Ciências Sociais e do Comportamento', 'Ciências Empresariais', \n",
    "          'Ciências da Vida', 'Ciências Exatas', 'Serviços Sociais e Pessoais', 'Saúde']\n",
    "areas_en  = ['Education', 'Arts and Architecture',\n",
    "          'Human Sciences', 'Social and Behavioral Sciences; Law', 'Business Sciences', \n",
    "          'Life Sciences', 'Exact Sciences', 'Social and Personal Services', 'Health']\n",
    "areas_en=dict(zip(areas,areas_en))\n",
    "area_colors = dict(zip(areas,colors))\n",
    "plt.rcParams.update({'font.size': 9})\n",
    "\n",
    "\n",
    "x0 = 0\n",
    "\n",
    "cm = 1/2.54\n",
    "fig,ax = plt.subplots(figsize=(3*17.8*cm,7*cm))\n",
    "\n",
    "resolution_index = 1\n",
    "areas_in_comm = {}\n",
    "for G in networks:\n",
    "    comm = [[G.nodes[y][\"area\"] for y in x] for x in communities_by_resolution[str(G.graph[\"year\"])][resolution_index]]\n",
    "    areas_in_comm[G.graph[\"year\"]] = [{area: a.count(area) for area in list(set(a))} for a in comm]\n",
    "    \n",
    "max_idx = max(areas_in_comm, key = lambda x: len(areas_in_comm.get(x)))\n",
    "max_comms_enum = list(enumerate(areas_in_comm[max_idx]))\n",
    "\n",
    "max_comms = communities_by_resolution[str(max_idx)][resolution_index]\n",
    "\n",
    "for (year, count), courses in zip(areas_in_comm.items(),list(communities_by_resolution.values())):\n",
    "    if year == max_idx: \n",
    "        areas_in_comm[year] = max_comms_enum\n",
    "        continue\n",
    "    areas_in_comm[year] = enumerate_simmilarity(areas_in_comm[year], courses[resolution_index], max_comms)\n",
    "    \n",
    "for n, (G,areas_year) in enumerate(zip(networks,areas_in_comm.values())):\n",
    "    y_offset = 0\n",
    "    for i,area in areas_year:\n",
    "        y_offset = 0\n",
    "        parts = list(area.items())\n",
    "        parts.sort(reverse=True,key = lambda x: x[1])\n",
    "        for j,(a,count) in enumerate(parts):\n",
    "            ax.bar(x0 + i*5+n,count,bottom=y_offset,color=area_colors[a],label=areas_en[a])\n",
    "            y_offset += count\n",
    "\n",
    "years = list(range(2018,2022))*len(max_comms)\n",
    "idx = [x0 + i*5 + j for i in range(len(max_comms)) for j in range(4)]        \n",
    "            \n",
    "ax.set_xticks(idx)\n",
    "ax.set_xticklabels(years, rotation=65, fontdict={\"fontsize\":6})\n",
    "\n",
    "ax.set(xlim=(-1,ax.get_xlim()[1]-1))\n",
    "\n",
    "ax.set_title(f\"Resolution parameter = {resolutions[resolution_index]}\", fontdict={\"fontsize\":8})\n",
    "\n",
    "ax.set_ylabel(f\"Number of elements\", fontdict={\"fontsize\":8})\n",
    "handles, labels = plt.gca().get_legend_handles_labels()\n",
    "by_label = dict(zip(labels, handles))\n",
    "ax.legend(by_label.values(), by_label.keys(),bbox_to_anchor=(1,1), loc=\"upper right\",\n",
    "            fontsize=7, markerfirst=False, frameon=False)\n",
    "\n",
    "plt.tight_layout()\n",
    "plt.savefig(\"comm.pdf\")\n",
    "# plt.savefig(\"comm.jpeg\",dpi=200)\n",
    "\n",
    "print(areas_in_comm[2018])\n",
    "print(sum(areas_in_comm[2018][0][1].values()))\n",
    "print(sum(areas_in_comm[2018][1][1].values()))"
   ]
  },
  {
   "cell_type": "code",
   "execution_count": 12,
   "id": "d006757d-1d5c-41b0-a9f2-2177f3b3f9aa",
   "metadata": {
    "collapsed": true,
    "jupyter": {
     "outputs_hidden": true,
     "source_hidden": true
    },
    "tags": []
   },
   "outputs": [
    {
     "ename": "TypeError",
     "evalue": "enumerate_simmilarity() missing 1 required positional argument: 'max_courses'",
     "output_type": "error",
     "traceback": [
      "\u001b[0;31m---------------------------------------------------------------------------\u001b[0m",
      "\u001b[0;31mTypeError\u001b[0m                                 Traceback (most recent call last)",
      "\u001b[0;32m/tmp/ipykernel_2830/3971787177.py\u001b[0m in \u001b[0;36m<module>\u001b[0;34m\u001b[0m\n\u001b[1;32m     31\u001b[0m         \u001b[0mareas_in_comm\u001b[0m\u001b[0;34m[\u001b[0m\u001b[0mi\u001b[0m\u001b[0;34m]\u001b[0m \u001b[0;34m=\u001b[0m \u001b[0mmax_comms_enum\u001b[0m\u001b[0;34m\u001b[0m\u001b[0;34m\u001b[0m\u001b[0m\n\u001b[1;32m     32\u001b[0m         \u001b[0;32mcontinue\u001b[0m\u001b[0;34m\u001b[0m\u001b[0;34m\u001b[0m\u001b[0m\n\u001b[0;32m---> 33\u001b[0;31m     \u001b[0mareas_in_comm\u001b[0m\u001b[0;34m[\u001b[0m\u001b[0mi\u001b[0m\u001b[0;34m]\u001b[0m \u001b[0;34m=\u001b[0m \u001b[0menumerate_simmilarity\u001b[0m\u001b[0;34m(\u001b[0m\u001b[0mareas_in_comm\u001b[0m\u001b[0;34m[\u001b[0m\u001b[0mi\u001b[0m\u001b[0;34m]\u001b[0m\u001b[0;34m,\u001b[0m \u001b[0mmax_comms\u001b[0m\u001b[0;34m)\u001b[0m\u001b[0;34m\u001b[0m\u001b[0;34m\u001b[0m\u001b[0m\n\u001b[0m\u001b[1;32m     34\u001b[0m \u001b[0;34m\u001b[0m\u001b[0m\n\u001b[1;32m     35\u001b[0m \u001b[0;32mfor\u001b[0m \u001b[0mn\u001b[0m\u001b[0;34m,\u001b[0m \u001b[0;34m(\u001b[0m\u001b[0mG\u001b[0m\u001b[0;34m,\u001b[0m\u001b[0mareas_year\u001b[0m\u001b[0;34m)\u001b[0m \u001b[0;32min\u001b[0m \u001b[0menumerate\u001b[0m\u001b[0;34m(\u001b[0m\u001b[0mzip\u001b[0m\u001b[0;34m(\u001b[0m\u001b[0mnetworks\u001b[0m\u001b[0;34m,\u001b[0m\u001b[0mareas_in_comm\u001b[0m\u001b[0;34m)\u001b[0m\u001b[0;34m)\u001b[0m\u001b[0;34m:\u001b[0m\u001b[0;34m\u001b[0m\u001b[0;34m\u001b[0m\u001b[0m\n",
      "\u001b[0;31mTypeError\u001b[0m: enumerate_simmilarity() missing 1 required positional argument: 'max_courses'"
     ]
    },
    {
     "data": {
      "image/png": "[encoded data removed]",
      "text/plain": [
       "<Figure size 1513.7x198.425 with 1 Axes>"
      ]
     },
     "metadata": {
      "needs_background": "light"
     },
     "output_type": "display_data"
    }
   ],
   "source": [
    "colors = ['#BBBBBB', '#EE7732', '#33BBEE', '#CC3311', '#009988', '#EE3377',  '#0077BB','#DDAA33', '#999933']\n",
    "areas  = ['Educação', 'Artes e Arquitetura',\n",
    "          'Humanidades', 'Direito, Ciências Sociais e do Comportamento', 'Ciências Empresariais', \n",
    "          'Ciências da Vida', 'Ciências Exatas', 'Serviços Sociais e Pessoais', 'Saúde']\n",
    "areas_en  = ['Education', 'Arts and Architecture',\n",
    "          'Human Sciences', 'Social and Behavioral Sciences; Law', 'Business Sciences', \n",
    "          'Life Sciences', 'Exact Sciences', 'Social and Personal Services', 'Health']\n",
    "areas_en=dict(zip(areas,areas_en))\n",
    "area_colors = dict(zip(areas,colors))\n",
    "# plt.rcparams()\n",
    "plt.rcParams.update({'font.size': 9})\n",
    "\n",
    "\n",
    "x0 = 0\n",
    "\n",
    "cm = 1/2.54\n",
    "fig,ax = plt.subplots(figsize=(3*17.8*cm,7*cm))\n",
    "\n",
    "resolution_index = -1\n",
    "areas_in_comm = []\n",
    "for G in networks:\n",
    "    comm = [[G.nodes[y][\"area\"] for y in x] for x in communities_by_resolution[str(G.graph[\"year\"])][resolution_index]]\n",
    "    areas_in_comm.append([{area: a.count(area) for area in list(set(a))} for a in comm])\n",
    "    \n",
    "max_idx = areas_in_comm.index(max(areas_in_comm, key = len))\n",
    "max_comms = max(areas_in_comm, key = len)\n",
    "max_comms_enum = list(enumerate(max_comms))\n",
    "\n",
    "for i in range(0,4):\n",
    "    if i == max_idx: \n",
    "        areas_in_comm[i] = max_comms_enum\n",
    "        continue\n",
    "    areas_in_comm[i] = enumerate_simmilarity(areas_in_comm[i], max_comms)\n",
    "    \n",
    "for n, (G,areas_year) in enumerate(zip(networks,areas_in_comm)):\n",
    "    y_offset = 0\n",
    "    for i,area in areas_year:\n",
    "        y_offset = 0\n",
    "        parts = list(area.items())\n",
    "        parts.sort(reverse=True,key = lambda x: x[1])\n",
    "        for j,(a,count) in enumerate(parts):\n",
    "            ax.bar(x0 + i*5+n,count,bottom=y_offset,color=area_colors[a],label=areas_en[a])\n",
    "            y_offset += count\n",
    "\n",
    "years = list(range(2018,2022))*len(max_comms)\n",
    "idx = [x0 + i*5 + j for i in range(len(max_comms)) for j in range(4)]        \n",
    "            \n",
    "ax.set_xticks(idx)\n",
    "ax.set_xticklabels(years, rotation=65, fontdict={\"fontsize\":6})\n",
    "\n",
    "ax.set(xlim=(-1,ax.get_xlim()[1]-1))\n",
    "\n",
    "ax.set_title(f\"Resolution parameter = {resolutions[resolution_index]}\", fontdict={\"fontsize\":8})\n",
    "\n",
    "ax.set_ylabel(f\"Number of elements\", fontdict={\"fontsize\":8})\n",
    "handles, labels = plt.gca().get_legend_handles_labels()\n",
    "by_label = dict(zip(labels, handles))\n",
    "ax.legend(by_label.values(), by_label.keys(),bbox_to_anchor=(1,1), loc=\"upper right\",\n",
    "            fontsize=7, markerfirst=False, frameon=False)\n",
    "\n",
    "plt.tight_layout()\n",
    "plt.savefig(\"comm.pdf\")\n",
    "# plt.savefig(\"comm.jpeg\",dpi=200)"
   ]
  },
  {
   "cell_type": "code",
   "execution_count": 17,
   "id": "18187b7d-ab4b-4835-9e19-f5b61503d74c",
   "metadata": {},
   "outputs": [
    {
     "data": {
      "image/png": "[encoded data removed]",
      "text/plain": [
       "<Figure size 504.567x297.638 with 6 Axes>"
      ]
     },
     "metadata": {
      "needs_background": "light"
     },
     "output_type": "display_data"
    }
   ],
   "source": [
    "colors = ['#BBBBBB', '#EE7732', '#33BBEE', '#CC3311', '#009988', '#EE3377',  '#0077BB','#DDAA33', '#999933']\n",
    "areas  = ['Educação', 'Artes e Arquitetura',\n",
    "          'Humanidades', 'Direito, Ciências Sociais e do Comportamento', 'Ciências Empresariais', \n",
    "          'Ciências da Vida', 'Ciências Exatas', 'Serviços Sociais e Pessoais', 'Saúde']\n",
    "areas_en  = ['Education', 'Arts and Architecture',\n",
    "          'Human Sciences', 'Social and Behavioral Sciences; Law', 'Business Sciences', \n",
    "          'Life Sciences', 'Exact Sciences', 'Social and Personal Services', 'Health']\n",
    "areas_en=dict(zip(areas,areas_en))\n",
    "area_colors = dict(zip(areas,colors))\n",
    "# plt.rcparams()\n",
    "plt.rcParams.update({'font.size': 9})\n",
    "\n",
    "\n",
    "x0 = 0\n",
    "\n",
    "cm = 1/2.54\n",
    "# fig,axes = plt.subplots(nrows=5, figsize=(17.8*cm,5*4*cm))\n",
    "\n",
    "mosaic = \"\"\"\n",
    "EEEAAABBB\n",
    "CCCCFFFFF\n",
    "DDDDDDDDD\n",
    "\"\"\"\n",
    "fig = plt.figure(constrained_layout=False, figsize=(17.8*cm,3*3.5*cm))\n",
    "ax_dict = fig.subplot_mosaic(mosaic)\n",
    "\n",
    "# resolution_index = 9\n",
    "for ax,resolution_index in zip(ax_dict.values(),[0,1,3,5,6,7]):\n",
    "    areas_in_comm = {}\n",
    "    for G in networks:\n",
    "        comm = [[G.nodes[y][\"area\"] for y in x] for x in communities_by_resolution[str(G.graph[\"year\"])][resolution_index]]\n",
    "        areas_in_comm[G.graph[\"year\"]] = [{area: a.count(area) for area in list(set(a))} for a in comm]\n",
    "\n",
    "\n",
    "    max_idx = max(areas_in_comm, key = lambda x: len(areas_in_comm.get(x)))\n",
    "    max_comms_enum = list(enumerate(areas_in_comm[max_idx]))\n",
    "\n",
    "    max_comms = communities_by_resolution[str(max_idx)][resolution_index]\n",
    "    \n",
    "    for (year, count), courses in zip(areas_in_comm.items(),list(communities_by_resolution.values())):\n",
    "        if year == max_idx: \n",
    "            areas_in_comm[year] = max_comms_enum\n",
    "            continue\n",
    "        areas_in_comm[year] = enumerate_simmilarity(areas_in_comm[year], courses[resolution_index], max_comms)\n",
    "\n",
    "    for n, (G,areas_year) in enumerate(zip(networks,areas_in_comm.values())):\n",
    "        y_offset = 0\n",
    "        for i,area in areas_year:\n",
    "            y_offset = 0\n",
    "            parts = list(area.items())\n",
    "            parts.sort(reverse=True,key = lambda x: x[1])\n",
    "            for j,(a,count) in enumerate(parts):\n",
    "                ax.bar(x0 + i*5+n,count,bottom=y_offset,color=area_colors[a],label=areas_en[a])\n",
    "                y_offset += count\n",
    "\n",
    "    years = list(range(18,22))*len(max_comms)\n",
    "    idx = [x0 + i*5 + j for i in range(len(max_comms)) for j in range(4)]        \n",
    "    idx_minor = [x0 + i*5 + 4 for i in range(len(max_comms)-1) for j in range(4)]        \n",
    "\n",
    "    ax.set_xticks(idx_minor,minor=True)\n",
    "    ax.set_xticks(idx,minor=False)\n",
    "    ax.tick_params(which=\"minor\",axis=\"x\",direction=\"in\")\n",
    "    ax.set_xticklabels(years, rotation=70, fontdict={\"fontsize\":6})\n",
    "\n",
    "    ax.set(xlim=(-1,idx[-1]+1))\n",
    "    ax.spines['right'].set_visible(False)\n",
    "    ax.spines['top'].set_visible(False)\n",
    "\n",
    "\n",
    "    ax.set_title(f\"Resolution parameter = {resolutions[resolution_index]:.1f}\", fontdict={\"fontsize\":8})\n",
    "\n",
    "# axes[1].set_ylabel(f\"Number of elements\", fontdict={\"fontsize\":8})\n",
    "fig.text(0.0, 0.50, 'Number of elements', va='center',ha='left',rotation=90)\n",
    "handles, labels = plt.gca().get_legend_handles_labels()\n",
    "handles, labels = zip(*sorted(list(zip(handles,labels)),key=lambda x: x[1],reverse = True))\n",
    "by_label = dict(zip(labels, handles))\n",
    "\n",
    "fig.legend(by_label.values(), by_label.keys(), ncol = 5,loc=\"upper left\", #bbox_to_anchor=(0,1.1), \n",
    "            fontsize=7, markerfirst=True, frameon=False,  borderaxespad=0,mode=\"expand\")\n",
    "\n",
    "plt.tight_layout()\n",
    "plt.subplots_adjust(top=0.87)\n",
    "plt.savefig(\"images/modularity_communities_by_field.pdf\")\n",
    "# plt.savefig(\"comm.jpeg\",dpi=200)\n"
   ]
  },
  {
   "cell_type": "code",
   "execution_count": 28,
   "id": "4021c1be-261a-4fa5-9278-ec1708f39f81",
   "metadata": {},
   "outputs": [
    {
     "data": {
      "text/plain": [
       "{2018: [(3,\n",
       "   {'Artes e Arquitetura': 1,\n",
       "    'Saúde': 29,\n",
       "    'Ciências Empresariais': 1,\n",
       "    'Ciências da Vida': 71,\n",
       "    'Educação': 1,\n",
       "    'Ciências Exatas': 41}),\n",
       "  (1,\n",
       "   {'Humanidades': 12,\n",
       "    'Ciências Empresariais': 88,\n",
       "    'Direito, Ciências Sociais e do Comportamento': 16,\n",
       "    'Serviços Sociais e Pessoais': 21,\n",
       "    'Ciências da Vida': 2,\n",
       "    'Ciências Exatas': 2}),\n",
       "  (0,\n",
       "   {'Ciências Empresariais': 1,\n",
       "    'Ciências da Vida': 4,\n",
       "    'Ciências Exatas': 122}),\n",
       "  (2,\n",
       "   {'Artes e Arquitetura': 4,\n",
       "    'Humanidades': 43,\n",
       "    'Ciências Empresariais': 11,\n",
       "    'Direito, Ciências Sociais e do Comportamento': 41,\n",
       "    'Serviços Sociais e Pessoais': 5,\n",
       "    'Educação': 1,\n",
       "    'Ciências Exatas': 1}),\n",
       "  (4, {'Artes e Arquitetura': 91, 'Ciências Exatas': 2, 'Humanidades': 1}),\n",
       "  (8,\n",
       "   {'Artes e Arquitetura': 4,\n",
       "    'Humanidades': 18,\n",
       "    'Ciências Empresariais': 2,\n",
       "    'Direito, Ciências Sociais e do Comportamento': 23,\n",
       "    'Serviços Sociais e Pessoais': 22,\n",
       "    'Ciências da Vida': 1,\n",
       "    'Educação': 22,\n",
       "    'Ciências Exatas': 1}),\n",
       "  (6, {'Ciências da Vida': 8, 'Ciências Exatas': 70}),\n",
       "  (7, {'Ciências da Vida': 1, 'Saúde': 61}),\n",
       "  (13,\n",
       "   {'Educação': 1,\n",
       "    'Artes e Arquitetura': 1,\n",
       "    'Humanidades': 7,\n",
       "    'Ciências Empresariais': 24,\n",
       "    'Direito, Ciências Sociais e do Comportamento': 3,\n",
       "    'Serviços Sociais e Pessoais': 17,\n",
       "    'Ciências da Vida': 1,\n",
       "    'Ciências Exatas': 3}),\n",
       "  (5,\n",
       "   {'Ciências Empresariais': 30,\n",
       "    'Direito, Ciências Sociais e do Comportamento': 12,\n",
       "    'Ciências Exatas': 4,\n",
       "    'Serviços Sociais e Pessoais': 2}),\n",
       "  (10,\n",
       "   {'Humanidades': 1,\n",
       "    'Ciências Empresariais': 1,\n",
       "    'Direito, Ciências Sociais e do Comportamento': 3,\n",
       "    'Serviços Sociais e Pessoais': 26,\n",
       "    'Educação': 2}),\n",
       "  (12, {'Ciências da Vida': 1, 'Ciências Exatas': 5, 'Saúde': 12})],\n",
       " 2019: [(1,\n",
       "   {'Artes e Arquitetura': 1,\n",
       "    'Humanidades': 23,\n",
       "    'Ciências Empresariais': 98,\n",
       "    'Direito, Ciências Sociais e do Comportamento': 11,\n",
       "    'Serviços Sociais e Pessoais': 8,\n",
       "    'Ciências da Vida': 1,\n",
       "    'Educação': 1,\n",
       "    'Ciências Exatas': 4}),\n",
       "  (3, {'Ciências da Vida': 72, 'Ciências Exatas': 48, 'Saúde': 18}),\n",
       "  (0,\n",
       "   {'Ciências Empresariais': 1,\n",
       "    'Ciências da Vida': 1,\n",
       "    'Ciências Exatas': 112}),\n",
       "  (4,\n",
       "   {'Direito, Ciências Sociais e do Comportamento': 1,\n",
       "    'Artes e Arquitetura': 93,\n",
       "    'Ciências Exatas': 1,\n",
       "    'Humanidades': 1}),\n",
       "  (8,\n",
       "   {'Artes e Arquitetura': 1,\n",
       "    'Humanidades': 8,\n",
       "    'Ciências Empresariais': 2,\n",
       "    'Direito, Ciências Sociais e do Comportamento': 29,\n",
       "    'Serviços Sociais e Pessoais': 28,\n",
       "    'Educação': 25,\n",
       "    'Ciências Exatas': 2}),\n",
       "  (2,\n",
       "   {'Artes e Arquitetura': 5,\n",
       "    'Humanidades': 43,\n",
       "    'Ciências Empresariais': 9,\n",
       "    'Direito, Ciências Sociais e do Comportamento': 34,\n",
       "    'Serviços Sociais e Pessoais': 1,\n",
       "    'Ciências Exatas': 1}),\n",
       "  (7, {'Ciências da Vida': 3, 'Ciências Exatas': 1, 'Saúde': 68}),\n",
       "  (6, {'Ciências da Vida': 5, 'Ciências Exatas': 67}),\n",
       "  (13,\n",
       "   {'Humanidades': 7,\n",
       "    'Ciências Empresariais': 11,\n",
       "    'Direito, Ciências Sociais e do Comportamento': 9,\n",
       "    'Serviços Sociais e Pessoais': 31,\n",
       "    'Ciências da Vida': 1,\n",
       "    'Educação': 2,\n",
       "    'Ciências Exatas': 2}),\n",
       "  (5,\n",
       "   {'Ciências Empresariais': 31,\n",
       "    'Direito, Ciências Sociais e do Comportamento': 13,\n",
       "    'Ciências Exatas': 6,\n",
       "    'Serviços Sociais e Pessoais': 2}),\n",
       "  (10, {'Serviços Sociais e Pessoais': 24}),\n",
       "  (12, {'Ciências da Vida': 2, 'Ciências Exatas': 7, 'Saúde': 14}),\n",
       "  (9,\n",
       "   {'Ciências Empresariais': 7,\n",
       "    'Direito, Ciências Sociais e do Comportamento': 1,\n",
       "    'Ciências Exatas': 2})],\n",
       " 2020: [(1,\n",
       "   {'Artes e Arquitetura': 1,\n",
       "    'Humanidades': 7,\n",
       "    'Ciências Empresariais': 94,\n",
       "    'Direito, Ciências Sociais e do Comportamento': 17,\n",
       "    'Serviços Sociais e Pessoais': 8,\n",
       "    'Ciências da Vida': 2,\n",
       "    'Ciências Exatas': 3}),\n",
       "  (0,\n",
       "   {'Ciências Empresariais': 1,\n",
       "    'Ciências da Vida': 2,\n",
       "    'Ciências Exatas': 125}),\n",
       "  (2,\n",
       "   {'Artes e Arquitetura': 3,\n",
       "    'Humanidades': 51,\n",
       "    'Ciências Empresariais': 9,\n",
       "    'Direito, Ciências Sociais e do Comportamento': 41,\n",
       "    'Serviços Sociais e Pessoais': 5,\n",
       "    'Educação': 1,\n",
       "    'Ciências Exatas': 1}),\n",
       "  (3, {'Ciências da Vida': 68, 'Ciências Exatas': 37}),\n",
       "  (4, {'Artes e Arquitetura': 94, 'Ciências Exatas': 1, 'Humanidades': 1}),\n",
       "  (8,\n",
       "   {'Humanidades': 17,\n",
       "    'Ciências Empresariais': 4,\n",
       "    'Direito, Ciências Sociais e do Comportamento': 21,\n",
       "    'Serviços Sociais e Pessoais': 24,\n",
       "    'Ciências da Vida': 1,\n",
       "    'Educação': 26,\n",
       "    'Ciências Exatas': 2}),\n",
       "  (7, {'Ciências da Vida': 4, 'Saúde': 81}),\n",
       "  (6,\n",
       "   {'Ciências Empresariais': 1, 'Ciências da Vida': 4, 'Ciências Exatas': 74}),\n",
       "  (5,\n",
       "   {'Ciências Empresariais': 40,\n",
       "    'Direito, Ciências Sociais e do Comportamento': 13,\n",
       "    'Ciências Exatas': 4,\n",
       "    'Serviços Sociais e Pessoais': 2}),\n",
       "  (12, {'Ciências da Vida': 14, 'Ciências Exatas': 18, 'Saúde': 22}),\n",
       "  (9,\n",
       "   {'Educação': 1,\n",
       "    'Humanidades': 4,\n",
       "    'Ciências Empresariais': 10,\n",
       "    'Direito, Ciências Sociais e do Comportamento': 3,\n",
       "    'Serviços Sociais e Pessoais': 30,\n",
       "    'Ciências da Vida': 1,\n",
       "    'Ciências Exatas': 1}),\n",
       "  (10,\n",
       "   {'Artes e Arquitetura': 1,\n",
       "    'Humanidades': 1,\n",
       "    'Direito, Ciências Sociais e do Comportamento': 2,\n",
       "    'Serviços Sociais e Pessoais': 24,\n",
       "    'Educação': 3})],\n",
       " 2021: [(0,\n",
       "   {'Ciências Empresariais': 1,\n",
       "    'Ciências da Vida': 3,\n",
       "    'Ciências Exatas': 138}),\n",
       "  (1,\n",
       "   {'Humanidades': 7,\n",
       "    'Ciências Empresariais': 90,\n",
       "    'Direito, Ciências Sociais e do Comportamento': 13,\n",
       "    'Serviços Sociais e Pessoais': 25,\n",
       "    'Ciências da Vida': 2,\n",
       "    'Educação': 1,\n",
       "    'Ciências Exatas': 1}),\n",
       "  (2,\n",
       "   {'Artes e Arquitetura': 4,\n",
       "    'Humanidades': 64,\n",
       "    'Ciências Empresariais': 12,\n",
       "    'Direito, Ciências Sociais e do Comportamento': 39,\n",
       "    'Serviços Sociais e Pessoais': 6,\n",
       "    'Educação': 1}),\n",
       "  (3,\n",
       "   {'Ciências Empresariais': 1,\n",
       "    'Ciências da Vida': 56,\n",
       "    'Ciências Exatas': 30,\n",
       "    'Saúde': 9}),\n",
       "  (4, {'Artes e Arquitetura': 94, 'Ciências Exatas': 1, 'Humanidades': 1}),\n",
       "  (5,\n",
       "   {'Serviços Sociais e Pessoais': 9,\n",
       "    'Direito, Ciências Sociais e do Comportamento': 15,\n",
       "    'Ciências Exatas': 6,\n",
       "    'Ciências Empresariais': 54}),\n",
       "  (6, {'Ciências da Vida': 8, 'Ciências Exatas': 71}),\n",
       "  (7, {'Ciências da Vida': 10, 'Saúde': 66}),\n",
       "  (8,\n",
       "   {'Humanidades': 9,\n",
       "    'Ciências Empresariais': 1,\n",
       "    'Direito, Ciências Sociais e do Comportamento': 22,\n",
       "    'Serviços Sociais e Pessoais': 30,\n",
       "    'Ciências da Vida': 1,\n",
       "    'Educação': 7,\n",
       "    'Ciências Exatas': 1}),\n",
       "  (9, {'Ciências da Vida': 7, 'Ciências Exatas': 11, 'Saúde': 16}),\n",
       "  (10,\n",
       "   {'Serviços Sociais e Pessoais': 25,\n",
       "    'Educação': 2,\n",
       "    'Direito, Ciências Sociais e do Comportamento': 2,\n",
       "    'Humanidades': 1}),\n",
       "  (11, {'Educação': 19}),\n",
       "  (12, {'Ciências da Vida': 6, 'Saúde': 12}),\n",
       "  (13,\n",
       "   {'Direito, Ciências Sociais e do Comportamento': 6, 'Ciências Exatas': 2})]}"
      ]
     },
     "execution_count": 28,
     "metadata": {},
     "output_type": "execute_result"
    }
   ],
   "source": [
    "areas_in_comm"
   ]
  },
  {
   "cell_type": "code",
   "execution_count": 73,
   "id": "d1ba8850-ea8a-4fd9-a5c4-5cc0bb928288",
   "metadata": {},
   "outputs": [
    {
     "data": {
      "image/png": "[encoded data removed]",
      "text/plain": [
       "<Figure size 666.142x504.567 with 7 Axes>"
      ]
     },
     "metadata": {
      "needs_background": "light"
     },
     "output_type": "display_data"
    }
   ],
   "source": [
    "colors = ['#BBBBBB', '#EE7732', '#33BBEE', '#CC3311', '#009988', '#EE3377',  '#0077BB','#DDAA33', '#999933']\n",
    "areas  = ['Educação', 'Artes e Arquitetura',\n",
    "          'Humanidades', 'Direito, Ciências Sociais e do Comportamento', 'Ciências Empresariais', \n",
    "          'Ciências da Vida', 'Ciências Exatas', 'Serviços Sociais e Pessoais', 'Saúde']\n",
    "areas_en  = ['Education', 'Arts and Architecture',\n",
    "          'Human Sciences', 'Social and Behavioral Sciences; Law', 'Business Sciences', \n",
    "          'Life Sciences', 'Exact Sciences', 'Social and Personal Services', 'Health']\n",
    "areas_en=dict(zip(areas,areas_en))\n",
    "area_colors = dict(zip(areas,colors))\n",
    "\n",
    "plt.rcParams.update({'font.size': 9})\n",
    "\n",
    "x0 = 0\n",
    "\n",
    "\n",
    "mosaic = \"\"\"\n",
    "ABC\n",
    "DDD\n",
    "EEE\n",
    "FFF\n",
    "GGG\n",
    "\"\"\"\n",
    "cm = 1/2.54\n",
    "fig = plt.figure(constrained_layout=False, figsize=(23.5*cm,17.8*cm))\n",
    "ax_dict = fig.subplot_mosaic(mosaic)\n",
    "\n",
    "for ax,resolution_index in zip(ax_dict.values(),[4,7,9,23,33,43,52]):\n",
    "    areas_in_comm = []\n",
    "    for n, G in enumerate(networks):\n",
    "        comm = [[G.nodes[y][\"area\"] for y in x] for x in communities_by_resolution[str(G.graph[\"year\"])][resolution_index]]\n",
    "        areas_in_comm.append([{area: a.count(area) for area in list(set(a))} for a in comm])\n",
    "\n",
    "    max_idx = areas_in_comm.index(max(areas_in_comm, key = len))\n",
    "    max_comms = max(areas_in_comm, key = len)\n",
    "    max_comms_enum = list(enumerate(max_comms))\n",
    "\n",
    "    for i in range(0,4):\n",
    "        if i == max_idx: \n",
    "            areas_in_comm[i] = max_comms_enum\n",
    "            continue\n",
    "        areas_in_comm[i] = enumerate_simmilarity(areas_in_comm[i], max_comms)\n",
    "\n",
    "    for n, (G,areas_year) in enumerate(zip(networks,areas_in_comm)):\n",
    "        y_offset = 0\n",
    "        for i,area in areas_year:\n",
    "            y_offset = 0\n",
    "            parts = list(area.items())\n",
    "            parts.sort(reverse=True,key = lambda x: x[1])\n",
    "            for j,(a,count) in enumerate(parts):\n",
    "                ax.bar(x0 + i*5+n,count,bottom=y_offset,color=area_colors[a],label=areas_en[a])\n",
    "                y_offset += count\n",
    "\n",
    "    if resolution_index < 10:\n",
    "        years = list(range(18,22))*len(max_comms)\n",
    "        idx = [x0 + i*5 + j for i in range(len(max_comms)) for j in range(4)]        \n",
    "        idx_minor = [x0 + i*5 + 4 for i in range(len(max_comms)-1) for j in range(4)]        \n",
    "        ax.set_xticks(idx_minor,minor=True)\n",
    "        ax.set_xticks(idx,minor=False)\n",
    "        ax.tick_params(which=\"minor\",axis=\"x\",direction=\"in\")\n",
    "        ax.set_xticklabels([\"\"]*len(idx), rotation=65, fontdict={\"fontsize\":6})\n",
    "    else:\n",
    "        years = list(range(18,22))*len(max_comms)\n",
    "        idx = [x0 + i*5 + j for i in range(len(max_comms)) for j in range(4)]        \n",
    "        idx_minor = [x0 + i*5 + 4 for i in range(len(max_comms)-1) for j in range(4)]        \n",
    "        ax.set_xticks([],minor=False)\n",
    "        ax.set_xticklabels([], rotation=65, fontdict={\"fontsize\":6})\n",
    "\n",
    "\n",
    "    ax.set(xlim=(-1,idx[-1]+1))\n",
    "    ax.spines['right'].set_visible(False)\n",
    "    ax.spines['top'].set_visible(False)\n",
    "\n",
    "\n",
    "    ax.text(0.5,1,f\"Resolution parameter = {resolutions[resolution_index]:.1f}\", fontsize=8,transform=ax.transAxes,va=\"top\",ha=\"center\")\n",
    "\n",
    "# axes[1].set_ylabel(f\"Number of elements\", fontdict={\"fontsize\":8})\n",
    "fig.text(0.0, 0.50, 'Number of elements', va='center',ha='left',rotation=90)\n",
    "handles, labels = plt.gca().get_legend_handles_labels()\n",
    "by_label = dict(zip(labels, handles))\n",
    "\n",
    "fig.legend(by_label.values(), by_label.keys(), ncol = 5,loc=\"upper left\", #bbox_to_anchor=(0,1.1), \n",
    "            fontsize=7, markerfirst=True, frameon=False,  borderaxespad=0,mode=\"expand\")\n",
    "\n",
    "plt.tight_layout()\n",
    "plt.subplots_adjust(top=0.87)\n",
    "plt.savefig(\"images/modularity_communities_by_field_extra.pdf\",orientation='landscape')\n",
    "# plt.savefig(\"comm.jpeg\",dpi=200)\n"
   ]
  },
  {
   "cell_type": "code",
   "execution_count": 55,
   "id": "44582150-340d-497e-b32f-98c079b51b3e",
   "metadata": {},
   "outputs": [
    {
     "data": {
      "text/plain": [
       "array([1.])"
      ]
     },
     "execution_count": 55,
     "metadata": {},
     "output_type": "execute_result"
    }
   ],
   "source": [
    "np,where(resolutions[resolutions==1]"
   ]
  },
  {
   "cell_type": "markdown",
   "id": "7b4ad198-2a00-4df6-9599-6c4fac1093cd",
   "metadata": {},
   "source": [
    "**Dimensoes TeX: 17.8 x 23.5**"
   ]
  },
  {
   "cell_type": "code",
   "execution_count": 44,
   "id": "0dbda321-215e-421b-b5d6-164254032833",
   "metadata": {},
   "outputs": [],
   "source": [
    "def simmilarity(x,y,z,w):\n",
    "    return len(set(x) & set(y) & set(z) & set(w)) #/ (1 + sum([len(set(max([i,j],key=len)) - set(min([i,j],key=len))) for i in [x,y,z,w] for j in [x,y,z,w]])) \n",
    "    \n",
    "# Find matching communities\n",
    "def enumerate_simmilarity(enum, communities): #communities: list of 4 lists of communities\n",
    "    max_n_communities = max([len(x) for x in communities])\n",
    "        \n",
    "    #Add fake empty communities so all years have the same\n",
    "    for c in communities:\n",
    "        c += [[]] * (max_n_communities - len(c))\n",
    "        \n",
    "    scores = np.full((max_n_communities,max_n_communities,max_n_communities,max_n_communities),-1)\n",
    "    \n",
    "    \n",
    "    for i in range(max_n_communities):\n",
    "        for j in range(max_n_communities):\n",
    "            for k in range(max_n_communities):\n",
    "                for l in range(max_n_communities):\n",
    "                    scores[i,j,k,l] = simmilarity(communities[0][i],communities[1][j],communities[2][k],communities[3][l])\n",
    "    print(\"Scores calculated\")\n",
    "    result = {}\n",
    "    for n in range(max_n_communities):\n",
    "        i,j,k,l = np.unravel_index(scores.argmax(),scores.shape)\n",
    "        result[n] = [enum[2018][i],enum[2019][j],enum[2020][k],enum[2021][l]]\n",
    "        scores[i,:,:,:] = -1e6\n",
    "        scores[:,j,:,:] = -1e6\n",
    "        scores[:,:,k,:] = -1e6\n",
    "        scores[:,:,:,l] = -1e6\n",
    "     \n",
    "    return result"
   ]
  },
  {
   "cell_type": "code",
   "execution_count": 38,
   "id": "55d2af9f-ed80-4b2f-9046-71d1aeb0f594",
   "metadata": {},
   "outputs": [
    {
     "name": "stdout",
     "output_type": "stream",
     "text": [
      "Scores calculated\n"
     ]
    },
    {
     "ename": "IndexError",
     "evalue": "list index out of range",
     "output_type": "error",
     "traceback": [
      "\u001b[0;31m---------------------------------------------------------------------------\u001b[0m",
      "\u001b[0;31mIndexError\u001b[0m                                Traceback (most recent call last)",
      "\u001b[0;32m/tmp/ipykernel_2826/3891385367.py\u001b[0m in \u001b[0;36m<module>\u001b[0;34m\u001b[0m\n\u001b[1;32m     27\u001b[0m \u001b[0mmax_comms\u001b[0m \u001b[0;34m=\u001b[0m \u001b[0mcommunities_by_resolution\u001b[0m\u001b[0;34m[\u001b[0m\u001b[0mstr\u001b[0m\u001b[0;34m(\u001b[0m\u001b[0mmax_idx\u001b[0m\u001b[0;34m)\u001b[0m\u001b[0;34m]\u001b[0m\u001b[0;34m[\u001b[0m\u001b[0mresolution_index\u001b[0m\u001b[0;34m]\u001b[0m\u001b[0;34m\u001b[0m\u001b[0;34m\u001b[0m\u001b[0m\n\u001b[1;32m     28\u001b[0m \u001b[0;34m\u001b[0m\u001b[0m\n\u001b[0;32m---> 29\u001b[0;31m \u001b[0mareas_in_comm\u001b[0m \u001b[0;34m=\u001b[0m \u001b[0menumerate_simmilarity\u001b[0m\u001b[0;34m(\u001b[0m\u001b[0mareas_in_comm\u001b[0m\u001b[0;34m,\u001b[0m \u001b[0;34m[\u001b[0m\u001b[0mcomm\u001b[0m\u001b[0;34m[\u001b[0m\u001b[0mresolution_index\u001b[0m\u001b[0;34m]\u001b[0m \u001b[0;32mfor\u001b[0m \u001b[0mcomm\u001b[0m \u001b[0;32min\u001b[0m \u001b[0mcommunities_by_resolution\u001b[0m\u001b[0;34m.\u001b[0m\u001b[0mvalues\u001b[0m\u001b[0;34m(\u001b[0m\u001b[0;34m)\u001b[0m\u001b[0;34m]\u001b[0m\u001b[0;34m)\u001b[0m\u001b[0;34m\u001b[0m\u001b[0;34m\u001b[0m\u001b[0m\n\u001b[0m\u001b[1;32m     30\u001b[0m \u001b[0mprint\u001b[0m\u001b[0;34m(\u001b[0m\u001b[0mareas_in_comm\u001b[0m\u001b[0;34m[\u001b[0m\u001b[0;36m1\u001b[0m\u001b[0;34m]\u001b[0m\u001b[0;34m)\u001b[0m\u001b[0;34m\u001b[0m\u001b[0;34m\u001b[0m\u001b[0m\n\u001b[1;32m     31\u001b[0m \u001b[0;31m# for (year, count), courses in zip(areas_in_comm.items(),list(communities_by_resolution.values())):\u001b[0m\u001b[0;34m\u001b[0m\u001b[0;34m\u001b[0m\u001b[0m\n",
      "\u001b[0;32m/tmp/ipykernel_2826/2905214349.py\u001b[0m in \u001b[0;36menumerate_simmilarity\u001b[0;34m(enum, communities)\u001b[0m\n\u001b[1;32m     22\u001b[0m     \u001b[0;32mfor\u001b[0m \u001b[0mn\u001b[0m \u001b[0;32min\u001b[0m \u001b[0mrange\u001b[0m\u001b[0;34m(\u001b[0m\u001b[0mmax_n_communities\u001b[0m\u001b[0;34m)\u001b[0m\u001b[0;34m:\u001b[0m\u001b[0;34m\u001b[0m\u001b[0;34m\u001b[0m\u001b[0m\n\u001b[1;32m     23\u001b[0m         \u001b[0mi\u001b[0m\u001b[0;34m,\u001b[0m\u001b[0mj\u001b[0m\u001b[0;34m,\u001b[0m\u001b[0mk\u001b[0m\u001b[0;34m,\u001b[0m\u001b[0ml\u001b[0m \u001b[0;34m=\u001b[0m \u001b[0mnp\u001b[0m\u001b[0;34m.\u001b[0m\u001b[0munravel_index\u001b[0m\u001b[0;34m(\u001b[0m\u001b[0mscores\u001b[0m\u001b[0;34m.\u001b[0m\u001b[0margmax\u001b[0m\u001b[0;34m(\u001b[0m\u001b[0;34m)\u001b[0m\u001b[0;34m,\u001b[0m\u001b[0mscores\u001b[0m\u001b[0;34m.\u001b[0m\u001b[0mshape\u001b[0m\u001b[0;34m)\u001b[0m\u001b[0;34m\u001b[0m\u001b[0;34m\u001b[0m\u001b[0m\n\u001b[0;32m---> 24\u001b[0;31m         \u001b[0mresult\u001b[0m\u001b[0;34m[\u001b[0m\u001b[0mn\u001b[0m\u001b[0;34m]\u001b[0m \u001b[0;34m=\u001b[0m \u001b[0;34m[\u001b[0m\u001b[0menum\u001b[0m\u001b[0;34m[\u001b[0m\u001b[0;36m2018\u001b[0m\u001b[0;34m]\u001b[0m\u001b[0;34m[\u001b[0m\u001b[0mi\u001b[0m\u001b[0;34m]\u001b[0m\u001b[0;34m,\u001b[0m\u001b[0menum\u001b[0m\u001b[0;34m[\u001b[0m\u001b[0;36m2019\u001b[0m\u001b[0;34m]\u001b[0m\u001b[0;34m[\u001b[0m\u001b[0mj\u001b[0m\u001b[0;34m]\u001b[0m\u001b[0;34m,\u001b[0m\u001b[0menum\u001b[0m\u001b[0;34m[\u001b[0m\u001b[0;36m2020\u001b[0m\u001b[0;34m]\u001b[0m\u001b[0;34m[\u001b[0m\u001b[0mk\u001b[0m\u001b[0;34m]\u001b[0m\u001b[0;34m,\u001b[0m\u001b[0menum\u001b[0m\u001b[0;34m[\u001b[0m\u001b[0;36m2021\u001b[0m\u001b[0;34m]\u001b[0m\u001b[0;34m[\u001b[0m\u001b[0ml\u001b[0m\u001b[0;34m]\u001b[0m\u001b[0;34m]\u001b[0m\u001b[0;34m\u001b[0m\u001b[0;34m\u001b[0m\u001b[0m\n\u001b[0m\u001b[1;32m     25\u001b[0m         \u001b[0mscores\u001b[0m\u001b[0;34m[\u001b[0m\u001b[0mi\u001b[0m\u001b[0;34m,\u001b[0m\u001b[0;34m:\u001b[0m\u001b[0;34m,\u001b[0m\u001b[0;34m:\u001b[0m\u001b[0;34m,\u001b[0m\u001b[0;34m:\u001b[0m\u001b[0;34m]\u001b[0m \u001b[0;34m=\u001b[0m \u001b[0;34m-\u001b[0m\u001b[0;36m1e6\u001b[0m\u001b[0;34m\u001b[0m\u001b[0;34m\u001b[0m\u001b[0m\n\u001b[1;32m     26\u001b[0m         \u001b[0mscores\u001b[0m\u001b[0;34m[\u001b[0m\u001b[0;34m:\u001b[0m\u001b[0;34m,\u001b[0m\u001b[0mj\u001b[0m\u001b[0;34m,\u001b[0m\u001b[0;34m:\u001b[0m\u001b[0;34m,\u001b[0m\u001b[0;34m:\u001b[0m\u001b[0;34m]\u001b[0m \u001b[0;34m=\u001b[0m \u001b[0;34m-\u001b[0m\u001b[0;36m1e6\u001b[0m\u001b[0;34m\u001b[0m\u001b[0;34m\u001b[0m\u001b[0m\n",
      "\u001b[0;31mIndexError\u001b[0m: list index out of range"
     ]
    },
    {
     "data": {
      "image/png": "[encoded data removed]",
      "text/plain": [
       "<Figure size 1513.7x198.425 with 1 Axes>"
      ]
     },
     "metadata": {
      "needs_background": "light"
     },
     "output_type": "display_data"
    }
   ],
   "source": [
    "colors = ['#BBBBBB', '#EE7732', '#33BBEE', '#CC3311', '#009988', '#EE3377',  '#0077BB','#DDAA33', '#999933']\n",
    "areas  = ['Educação', 'Artes e Arquitetura',\n",
    "          'Humanidades', 'Direito, Ciências Sociais e do Comportamento', 'Ciências Empresariais', \n",
    "          'Ciências da Vida', 'Ciências Exatas', 'Serviços Sociais e Pessoais', 'Saúde']\n",
    "areas_en  = ['Education', 'Arts and Architecture',\n",
    "          'Human Sciences', 'Social and Behavioral Sciences; Law', 'Business Sciences', \n",
    "          'Life Sciences', 'Exact Sciences', 'Social and Personal Services', 'Health']\n",
    "areas_en=dict(zip(areas,areas_en))\n",
    "area_colors = dict(zip(areas,colors))\n",
    "plt.rcParams.update({'font.size': 9})\n",
    "\n",
    "\n",
    "x0 = 0\n",
    "\n",
    "cm = 1/2.54\n",
    "fig,ax = plt.subplots(figsize=(3*17.8*cm,7*cm))\n",
    "\n",
    "resolution_index = 7\n",
    "areas_in_comm = {}\n",
    "for G in networks:\n",
    "    comm = [[G.nodes[y][\"area\"] for y in x] for x in communities_by_resolution[str(G.graph[\"year\"])][resolution_index]]\n",
    "    areas_in_comm[G.graph[\"year\"]] = [{area: a.count(area) for area in list(set(a))} for a in comm]\n",
    "    \n",
    "max_idx = max(areas_in_comm, key = lambda x: len(areas_in_comm.get(x)))\n",
    "max_comms_enum = list(enumerate(areas_in_comm[max_idx]))\n",
    "\n",
    "max_comms = communities_by_resolution[str(max_idx)][resolution_index]\n",
    "\n",
    "areas_in_comm = enumerate_simmilarity(areas_in_comm, [comm[resolution_index] for comm in communities_by_resolution.values()])\n",
    "print(areas_in_comm[1])\n",
    "# for (year, count), courses in zip(areas_in_comm.items(),list(communities_by_resolution.values())):\n",
    "#     if year == max_idx: \n",
    "#         areas_in_comm[year] = max_comms_enum\n",
    "#         continue\n",
    "#     areas_in_comm[year] = enumerate_simmilarity(areas_in_comm[year], courses[resolution_index], max_comms)\n",
    "    \n",
    "for n, areas_year in enumerate(areas_in_comm.values()):\n",
    "    y_offset = 0\n",
    "    for i,area in enumerate(areas_year):\n",
    "        y_offset = 0\n",
    "        parts = list(area.items())\n",
    "        parts.sort(reverse=True,key = lambda x: x[1])\n",
    "        for j,(a,count) in enumerate(parts):\n",
    "            ax.bar(x0 + n*5+i,count,bottom=y_offset,color=area_colors[a],label=areas_en[a])\n",
    "            y_offset += count\n",
    "\n",
    "years = list(range(2018,2022))*len(max_comms)\n",
    "idx = [x0 + i*5 + j for i in range(len(max_comms)) for j in range(4)]        \n",
    "            \n",
    "ax.set_xticks(idx)\n",
    "ax.set_xticklabels(years, rotation=65, fontdict={\"fontsize\":6})\n",
    "\n",
    "ax.set(xlim=(-1,ax.get_xlim()[1]-1))\n",
    "\n",
    "ax.set_title(f\"Resolution parameter = {resolutions[resolution_index]}\", fontdict={\"fontsize\":8})\n",
    "\n",
    "ax.set_ylabel(f\"Number of elements\", fontdict={\"fontsize\":8})\n",
    "handles, labels = plt.gca().get_legend_handles_labels()\n",
    "by_label = dict(zip(labels, handles))\n",
    "ax.legend(by_label.values(), by_label.keys(),bbox_to_anchor=(1,1), loc=\"upper right\",\n",
    "            fontsize=7, markerfirst=False, frameon=False)\n",
    "\n",
    "plt.tight_layout()\n",
    "plt.savefig(\"comm.pdf\")\n",
    "# plt.savefig(\"comm.jpeg\",dpi=200)\n"
   ]
  },
  {
   "cell_type": "markdown",
   "id": "aa6f3ca5-e3df-46c0-8efc-bc85b15545df",
   "metadata": {},
   "source": [
    "# Cities"
   ]
  },
  {
   "cell_type": "code",
   "execution_count": 54,
   "id": "e2f9c9ba-4b64-456a-9cbb-6e22b3811755",
   "metadata": {},
   "outputs": [
    {
     "ename": "TypeError",
     "evalue": "enumerate_simmilarity() missing 1 required positional argument: 'max_courses'",
     "output_type": "error",
     "traceback": [
      "\u001b[0;31m---------------------------------------------------------------------------\u001b[0m",
      "\u001b[0;31mTypeError\u001b[0m                                 Traceback (most recent call last)",
      "\u001b[0;32m/tmp/ipykernel_2826/400348438.py\u001b[0m in \u001b[0;36m<module>\u001b[0;34m\u001b[0m\n\u001b[1;32m     31\u001b[0m         \u001b[0mareas_in_comm\u001b[0m\u001b[0;34m[\u001b[0m\u001b[0mi\u001b[0m\u001b[0;34m]\u001b[0m \u001b[0;34m=\u001b[0m \u001b[0mmax_comms_enum\u001b[0m\u001b[0;34m\u001b[0m\u001b[0;34m\u001b[0m\u001b[0m\n\u001b[1;32m     32\u001b[0m         \u001b[0;32mcontinue\u001b[0m\u001b[0;34m\u001b[0m\u001b[0;34m\u001b[0m\u001b[0m\n\u001b[0;32m---> 33\u001b[0;31m     \u001b[0mareas_in_comm\u001b[0m\u001b[0;34m[\u001b[0m\u001b[0mi\u001b[0m\u001b[0;34m]\u001b[0m \u001b[0;34m=\u001b[0m \u001b[0menumerate_simmilarity\u001b[0m\u001b[0;34m(\u001b[0m\u001b[0mareas_in_comm\u001b[0m\u001b[0;34m[\u001b[0m\u001b[0mi\u001b[0m\u001b[0;34m]\u001b[0m\u001b[0;34m,\u001b[0m \u001b[0mmax_comms\u001b[0m\u001b[0;34m)\u001b[0m\u001b[0;34m\u001b[0m\u001b[0;34m\u001b[0m\u001b[0m\n\u001b[0m\u001b[1;32m     34\u001b[0m \u001b[0;34m\u001b[0m\u001b[0m\n\u001b[1;32m     35\u001b[0m \u001b[0;32mfor\u001b[0m \u001b[0mn\u001b[0m\u001b[0;34m,\u001b[0m \u001b[0;34m(\u001b[0m\u001b[0mG\u001b[0m\u001b[0;34m,\u001b[0m\u001b[0mareas_year\u001b[0m\u001b[0;34m)\u001b[0m \u001b[0;32min\u001b[0m \u001b[0menumerate\u001b[0m\u001b[0;34m(\u001b[0m\u001b[0mzip\u001b[0m\u001b[0;34m(\u001b[0m\u001b[0mnetworks\u001b[0m\u001b[0;34m,\u001b[0m\u001b[0mareas_in_comm\u001b[0m\u001b[0;34m)\u001b[0m\u001b[0;34m)\u001b[0m\u001b[0;34m:\u001b[0m\u001b[0;34m\u001b[0m\u001b[0;34m\u001b[0m\u001b[0m\n",
      "\u001b[0;31mTypeError\u001b[0m: enumerate_simmilarity() missing 1 required positional argument: 'max_courses'"
     ]
    },
    {
     "data": {
      "image/png": "[encoded data removed]",
      "text/plain": [
       "<Figure size 504.567x198.425 with 1 Axes>"
      ]
     },
     "metadata": {
      "needs_background": "light"
     },
     "output_type": "display_data"
    }
   ],
   "source": [
    "colors = ['#BBBBBB', '#EE7732', '#33BBEE', '#CC3311', '#009988', '#EE3377',  '#0077BB','#DDAA33', '#999933']\n",
    "# areas  = ['Educação', 'Artes e Arquitetura',\n",
    "          # 'Humanidades', 'Direito, Ciências Sociais e do Comportamento', 'Ciências Empresariais', \n",
    "          # 'Ciências da Vida', 'Ciências Exatas', 'Serviços Sociais e Pessoais', 'Saúde']\n",
    "# areas_en  = ['Education', 'Arts and Architecture',\n",
    "          # 'Human Sciences', 'Social and Behavioral Sciences; Law', 'Business Sciences', \n",
    "          # 'Life Sciences', 'Exact Sciences', 'Social and Personal Services', 'Health']\n",
    "# areas_en=dict(zip(areas,areas_en))\n",
    "# area_colors = dict(zip(areas,colors))\n",
    "# plt.rcparams()\n",
    "plt.rcParams.update({'font.size': 9})\n",
    "\n",
    "\n",
    "x0 = 0\n",
    "\n",
    "cm = 1/2.54\n",
    "fig,ax = plt.subplots(figsize=(17.8*cm,7*cm))\n",
    "\n",
    "resolution_index = 5\n",
    "areas_in_comm = []\n",
    "for n, G in enumerate(networks):\n",
    "    comm = [[G.nodes[y][\"faculty_name\"] for y in x] for x in communities_by_resolution[str(G.graph[\"year\"])][resolution_index]]\n",
    "    areas_in_comm.append([{area: a.count(area) for area in list(set(a))} for a in comm])\n",
    "    \n",
    "max_idx = areas_in_comm.index(max(areas_in_comm, key = len))\n",
    "max_comms = max(areas_in_comm, key = len)\n",
    "max_comms_enum = list(enumerate(max_comms))\n",
    "\n",
    "for i in range(0,4):\n",
    "    if i == max_idx: \n",
    "        areas_in_comm[i] = max_comms_enum\n",
    "        continue\n",
    "    areas_in_comm[i] = enumerate_simmilarity(areas_in_comm[i], max_comms)\n",
    "    \n",
    "for n, (G,areas_year) in enumerate(zip(networks,areas_in_comm)):\n",
    "    y_offset = 0\n",
    "    for i,area in areas_year:\n",
    "        y_offset = 0\n",
    "        parts = list(area.items())\n",
    "        parts.sort(reverse=True,key = lambda x: x[1])\n",
    "        for j,(a,count) in enumerate(parts):\n",
    "            ax.bar(x0 + i*5+n,count,bottom=y_offset)\n",
    "            y_offset += count\n",
    "\n",
    "years = list(range(2018,2022))*len(max_comms)\n",
    "idx = [x0 + i*5 + j for i in range(len(max_comms)) for j in range(4)]        \n",
    "            \n",
    "ax.set_xticks(idx)\n",
    "ax.set_xticklabels(years, rotation=65, fontdict={\"fontsize\":6})\n",
    "\n",
    "ax.set(xlim=(-1,ax.get_xlim()[1]-1))\n",
    "\n",
    "ax.set_title(f\"Resolution parameter = {resolutions[resolution_index]}\", fontdict={\"fontsize\":8})\n",
    "\n",
    "ax.set_ylabel(f\"Number of elements\", fontdict={\"fontsize\":8})\n",
    "handles, labels = plt.gca().get_legend_handles_labels()\n",
    "by_label = dict(zip(labels, handles))\n",
    "ax.legend(by_label.values(), by_label.keys(),bbox_to_anchor=(1,1), loc=\"upper right\",\n",
    "            fontsize=7, markerfirst=False, frameon=False)\n",
    "\n",
    "plt.tight_layout()\n",
    "plt.savefig(\"comm.pdf\")\n",
    "# plt.savefig(\"comm.jpeg\",dpi=200)\n"
   ]
  },
  {
   "cell_type": "code",
   "execution_count": null,
   "id": "2fca3d69-c4a8-4bd0-8666-ccaa50432835",
   "metadata": {},
   "outputs": [],
   "source": []
  }
 ],
 "metadata": {
  "kernelspec": {
   "display_name": "Python 3 (ipykernel)",
   "language": "python",
   "name": "python3"
  },
  "language_info": {
   "codemirror_mode": {
    "name": "ipython",
    "version": 3
   },
   "file_extension": ".py",
   "mimetype": "text/x-python",
   "name": "python",
   "nbconvert_exporter": "python",
   "pygments_lexer": "ipython3",
   "version": "3.9.7"
  }
 },
 "nbformat": 4,
 "nbformat_minor": 5
}
