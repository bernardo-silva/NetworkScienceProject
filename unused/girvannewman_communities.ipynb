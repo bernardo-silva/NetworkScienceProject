{
 "cells": [
  {
   "cell_type": "code",
   "execution_count": 1,
   "id": "febfa498-0b4a-4e07-bc4a-6dee7b74e71e",
   "metadata": {},
   "outputs": [],
   "source": [
    "import networkx as nx\n",
    "import networkx.algorithms.community as nx_comm\n",
    "\n",
    "from utilities import import_networks\n",
    "from networkx.algorithms.community.centrality import girvan_newman\n",
    "\n",
    "import matplotlib.pyplot as plt\n",
    "import numpy as np\n",
    "\n",
    "import itertools\n",
    "from tqdm.notebook import tqdm"
   ]
  },
  {
   "cell_type": "code",
   "execution_count": 2,
   "id": "5ab84891-0e86-4387-bc52-c9b9614b7f17",
   "metadata": {},
   "outputs": [
    {
     "name": "stdout",
     "output_type": "stream",
     "text": [
      "Graph with 1001 nodes and 75862 edges\n",
      "Graph with 999 nodes and 75415 edges\n",
      "Graph with 1025 nodes and 80306 edges\n",
      "Graph with 1018 nodes and 80077 edges\n"
     ]
    }
   ],
   "source": [
    "networks = import_networks()\n",
    "\n",
    "print(\"\\n\".join([str(x) for x in networks]))"
   ]
  },
  {
   "cell_type": "code",
   "execution_count": 3,
   "id": "af7b23bc-f8b6-448b-965b-6850467268fb",
   "metadata": {},
   "outputs": [
    {
     "name": "stdout",
     "output_type": "stream",
     "text": [
      "Graph with 362 nodes and 674 edges\n",
      "Graph with 347 nodes and 655 edges\n",
      "Graph with 435 nodes and 1017 edges\n",
      "Graph with 444 nodes and 1094 edges\n"
     ]
    }
   ],
   "source": [
    "#Remove edges\n",
    "for g in networks:\n",
    "    g.remove_edges_from([v for v in g.edges(data=True) if v[2][\"weight\"] < 90])\n",
    "\n",
    "for g in networks:\n",
    "    g.remove_nodes_from(list(nx.isolates(g)))\n",
    "print(\"\\n\".join([str(x) for x in networks]))"
   ]
  },
  {
   "cell_type": "markdown",
   "id": "bbed3577-9640-4713-be10-23a39b286bef",
   "metadata": {},
   "source": [
    "## Finding Communities\n",
    "---"
   ]
  },
  {
   "cell_type": "code",
   "execution_count": 4,
   "id": "b1c61eb8-ee2a-414c-949a-d364a4244fbc",
   "metadata": {},
   "outputs": [],
   "source": [
    "from multiprocessing import Pool\n",
    "import itertools\n",
    "\n",
    "def chunks(l, n):\n",
    "    \"\"\"Divide a list of nodes `l` in `n` chunks\"\"\"\n",
    "    l_c = iter(l)\n",
    "    while 1:\n",
    "        x = tuple(itertools.islice(l_c, n))\n",
    "        if not x:\n",
    "            return\n",
    "        yield x\n",
    "\n",
    "\n",
    "def betweenness_centrality_parallel(G, processes=None):\n",
    "    \"\"\"Parallel betweenness centrality  function\"\"\"\n",
    "    p = Pool(processes=processes)\n",
    "    node_divisor = len(p._pool) * 4\n",
    "    node_chunks = list(chunks(G.nodes(), int(G.order() / node_divisor)))\n",
    "    num_chunks = len(node_chunks)\n",
    "    bt_sc = p.starmap(\n",
    "        nx.edge_betweenness_centrality_subset,\n",
    "        zip(\n",
    "            [G] * num_chunks,\n",
    "            node_chunks,\n",
    "            [list(G)] * num_chunks,\n",
    "            [True] * num_chunks,\n",
    "            [\"weight\"] * num_chunks,\n",
    "        ),\n",
    "    )\n",
    "\n",
    "    # Reduce the partial solutions\n",
    "    bt_c = bt_sc[0]\n",
    "    for bt in bt_sc[1:]:\n",
    "        for n in bt:\n",
    "            bt_c[n] += bt[n]\n",
    "    return bt_c\n"
   ]
  },
  {
   "cell_type": "code",
   "execution_count": 5,
   "id": "f95265f2-611f-4444-9609-8face369ce20",
   "metadata": {},
   "outputs": [],
   "source": [
    "def most_valuable(G):\n",
    "    centrality = nx.edge_betweenness_centrality(G, weight='weight_1')\n",
    "    return max(centrality,key=centrality.get)\n",
    "def most_valuable_parallel(G):\n",
    "    centrality = betweenness_centrality_parallel(G)\n",
    "    return max(centrality,key=centrality.get)"
   ]
  },
  {
   "cell_type": "code",
   "execution_count": 9,
   "id": "60ea705e-9f7b-43c8-bbb3-1e685ed66b29",
   "metadata": {
    "scrolled": true,
    "tags": []
   },
   "outputs": [
    {
     "name": "stdout",
     "output_type": "stream",
     "text": [
      "27: [163, 68, 2, 48, 2, 3, 3, 2, 6, 18, 2, 2, 2, 8, 2, 3, 2, 2, 4, 3, 3, 2, 4, 2, 2, 2, 2]\n",
      "CPU times: user 137 ms, sys: 86.8 ms, total: 224 ms\n",
      "Wall time: 319 ms\n"
     ]
    }
   ],
   "source": [
    "%%time\n",
    "k = 4\n",
    "gn_iterator = [girvan_newman(g,most_valuable_parallel) for g in networks[0:1]]\n",
    "limited = [itertools.takewhile(lambda c: len(c) >= 0, comp) for comp in gn_iterator]\n",
    "for communities in limited[0]:\n",
    "    # gn_comms = [tuple(c for c in comm) for comm in communities]\n",
    "    com = tuple(list(c) for c in communities)\n",
    "    print(f\"{len(com)}: {[len(x) for x in com]}\")\n",
    "    break"
   ]
  },
  {
   "cell_type": "code",
   "execution_count": 10,
   "id": "c533da7c-69af-4c35-bd96-7b3d2c68ca49",
   "metadata": {
    "scrolled": true,
    "tags": []
   },
   "outputs": [],
   "source": [
    "import json\n",
    "with open(\"comm.json\",\"w\") as f:\n",
    "    json.dump(com,f)"
   ]
  },
  {
   "cell_type": "code",
   "execution_count": 75,
   "id": "c0f68cda-292c-4645-a688-2a8902ff650b",
   "metadata": {
    "scrolled": true,
    "tags": []
   },
   "outputs": [
    {
     "ename": "KeyboardInterrupt",
     "evalue": "",
     "output_type": "error",
     "traceback": [
      "\u001b[0;31m---------------------------------------------------------------------------\u001b[0m",
      "\u001b[0;31mKeyboardInterrupt\u001b[0m                         Traceback (most recent call last)",
      "\u001b[0;32m<timed exec>\u001b[0m in \u001b[0;36m<module>\u001b[0;34m\u001b[0m\n",
      "\u001b[0;32m/usr/lib/python3.9/multiprocessing/pool.py\u001b[0m in \u001b[0;36mmap\u001b[0;34m(self, func, iterable, chunksize)\u001b[0m\n\u001b[1;32m    362\u001b[0m         \u001b[0;32min\u001b[0m \u001b[0ma\u001b[0m \u001b[0mlist\u001b[0m \u001b[0mthat\u001b[0m \u001b[0;32mis\u001b[0m \u001b[0mreturned\u001b[0m\u001b[0;34m.\u001b[0m\u001b[0;34m\u001b[0m\u001b[0;34m\u001b[0m\u001b[0m\n\u001b[1;32m    363\u001b[0m         '''\n\u001b[0;32m--> 364\u001b[0;31m         \u001b[0;32mreturn\u001b[0m \u001b[0mself\u001b[0m\u001b[0;34m.\u001b[0m\u001b[0m_map_async\u001b[0m\u001b[0;34m(\u001b[0m\u001b[0mfunc\u001b[0m\u001b[0;34m,\u001b[0m \u001b[0miterable\u001b[0m\u001b[0;34m,\u001b[0m \u001b[0mmapstar\u001b[0m\u001b[0;34m,\u001b[0m \u001b[0mchunksize\u001b[0m\u001b[0;34m)\u001b[0m\u001b[0;34m.\u001b[0m\u001b[0mget\u001b[0m\u001b[0;34m(\u001b[0m\u001b[0;34m)\u001b[0m\u001b[0;34m\u001b[0m\u001b[0;34m\u001b[0m\u001b[0m\n\u001b[0m\u001b[1;32m    365\u001b[0m \u001b[0;34m\u001b[0m\u001b[0m\n\u001b[1;32m    366\u001b[0m     \u001b[0;32mdef\u001b[0m \u001b[0mstarmap\u001b[0m\u001b[0;34m(\u001b[0m\u001b[0mself\u001b[0m\u001b[0;34m,\u001b[0m \u001b[0mfunc\u001b[0m\u001b[0;34m,\u001b[0m \u001b[0miterable\u001b[0m\u001b[0;34m,\u001b[0m \u001b[0mchunksize\u001b[0m\u001b[0;34m=\u001b[0m\u001b[0;32mNone\u001b[0m\u001b[0;34m)\u001b[0m\u001b[0;34m:\u001b[0m\u001b[0;34m\u001b[0m\u001b[0;34m\u001b[0m\u001b[0m\n",
      "\u001b[0;32m/usr/lib/python3.9/multiprocessing/pool.py\u001b[0m in \u001b[0;36mget\u001b[0;34m(self, timeout)\u001b[0m\n\u001b[1;32m    763\u001b[0m \u001b[0;34m\u001b[0m\u001b[0m\n\u001b[1;32m    764\u001b[0m     \u001b[0;32mdef\u001b[0m \u001b[0mget\u001b[0m\u001b[0;34m(\u001b[0m\u001b[0mself\u001b[0m\u001b[0;34m,\u001b[0m \u001b[0mtimeout\u001b[0m\u001b[0;34m=\u001b[0m\u001b[0;32mNone\u001b[0m\u001b[0;34m)\u001b[0m\u001b[0;34m:\u001b[0m\u001b[0;34m\u001b[0m\u001b[0;34m\u001b[0m\u001b[0m\n\u001b[0;32m--> 765\u001b[0;31m         \u001b[0mself\u001b[0m\u001b[0;34m.\u001b[0m\u001b[0mwait\u001b[0m\u001b[0;34m(\u001b[0m\u001b[0mtimeout\u001b[0m\u001b[0;34m)\u001b[0m\u001b[0;34m\u001b[0m\u001b[0;34m\u001b[0m\u001b[0m\n\u001b[0m\u001b[1;32m    766\u001b[0m         \u001b[0;32mif\u001b[0m \u001b[0;32mnot\u001b[0m \u001b[0mself\u001b[0m\u001b[0;34m.\u001b[0m\u001b[0mready\u001b[0m\u001b[0;34m(\u001b[0m\u001b[0;34m)\u001b[0m\u001b[0;34m:\u001b[0m\u001b[0;34m\u001b[0m\u001b[0;34m\u001b[0m\u001b[0m\n\u001b[1;32m    767\u001b[0m             \u001b[0;32mraise\u001b[0m \u001b[0mTimeoutError\u001b[0m\u001b[0;34m\u001b[0m\u001b[0;34m\u001b[0m\u001b[0m\n",
      "\u001b[0;32m/usr/lib/python3.9/multiprocessing/pool.py\u001b[0m in \u001b[0;36mwait\u001b[0;34m(self, timeout)\u001b[0m\n\u001b[1;32m    760\u001b[0m \u001b[0;34m\u001b[0m\u001b[0m\n\u001b[1;32m    761\u001b[0m     \u001b[0;32mdef\u001b[0m \u001b[0mwait\u001b[0m\u001b[0;34m(\u001b[0m\u001b[0mself\u001b[0m\u001b[0;34m,\u001b[0m \u001b[0mtimeout\u001b[0m\u001b[0;34m=\u001b[0m\u001b[0;32mNone\u001b[0m\u001b[0;34m)\u001b[0m\u001b[0;34m:\u001b[0m\u001b[0;34m\u001b[0m\u001b[0;34m\u001b[0m\u001b[0m\n\u001b[0;32m--> 762\u001b[0;31m         \u001b[0mself\u001b[0m\u001b[0;34m.\u001b[0m\u001b[0m_event\u001b[0m\u001b[0;34m.\u001b[0m\u001b[0mwait\u001b[0m\u001b[0;34m(\u001b[0m\u001b[0mtimeout\u001b[0m\u001b[0;34m)\u001b[0m\u001b[0;34m\u001b[0m\u001b[0;34m\u001b[0m\u001b[0m\n\u001b[0m\u001b[1;32m    763\u001b[0m \u001b[0;34m\u001b[0m\u001b[0m\n\u001b[1;32m    764\u001b[0m     \u001b[0;32mdef\u001b[0m \u001b[0mget\u001b[0m\u001b[0;34m(\u001b[0m\u001b[0mself\u001b[0m\u001b[0;34m,\u001b[0m \u001b[0mtimeout\u001b[0m\u001b[0;34m=\u001b[0m\u001b[0;32mNone\u001b[0m\u001b[0;34m)\u001b[0m\u001b[0;34m:\u001b[0m\u001b[0;34m\u001b[0m\u001b[0;34m\u001b[0m\u001b[0m\n",
      "\u001b[0;32m/usr/lib/python3.9/threading.py\u001b[0m in \u001b[0;36mwait\u001b[0;34m(self, timeout)\u001b[0m\n\u001b[1;32m    572\u001b[0m             \u001b[0msignaled\u001b[0m \u001b[0;34m=\u001b[0m \u001b[0mself\u001b[0m\u001b[0;34m.\u001b[0m\u001b[0m_flag\u001b[0m\u001b[0;34m\u001b[0m\u001b[0;34m\u001b[0m\u001b[0m\n\u001b[1;32m    573\u001b[0m             \u001b[0;32mif\u001b[0m \u001b[0;32mnot\u001b[0m \u001b[0msignaled\u001b[0m\u001b[0;34m:\u001b[0m\u001b[0;34m\u001b[0m\u001b[0;34m\u001b[0m\u001b[0m\n\u001b[0;32m--> 574\u001b[0;31m                 \u001b[0msignaled\u001b[0m \u001b[0;34m=\u001b[0m \u001b[0mself\u001b[0m\u001b[0;34m.\u001b[0m\u001b[0m_cond\u001b[0m\u001b[0;34m.\u001b[0m\u001b[0mwait\u001b[0m\u001b[0;34m(\u001b[0m\u001b[0mtimeout\u001b[0m\u001b[0;34m)\u001b[0m\u001b[0;34m\u001b[0m\u001b[0;34m\u001b[0m\u001b[0m\n\u001b[0m\u001b[1;32m    575\u001b[0m             \u001b[0;32mreturn\u001b[0m \u001b[0msignaled\u001b[0m\u001b[0;34m\u001b[0m\u001b[0;34m\u001b[0m\u001b[0m\n\u001b[1;32m    576\u001b[0m \u001b[0;34m\u001b[0m\u001b[0m\n",
      "\u001b[0;32m/usr/lib/python3.9/threading.py\u001b[0m in \u001b[0;36mwait\u001b[0;34m(self, timeout)\u001b[0m\n\u001b[1;32m    310\u001b[0m         \u001b[0;32mtry\u001b[0m\u001b[0;34m:\u001b[0m    \u001b[0;31m# restore state no matter what (e.g., KeyboardInterrupt)\u001b[0m\u001b[0;34m\u001b[0m\u001b[0;34m\u001b[0m\u001b[0m\n\u001b[1;32m    311\u001b[0m             \u001b[0;32mif\u001b[0m \u001b[0mtimeout\u001b[0m \u001b[0;32mis\u001b[0m \u001b[0;32mNone\u001b[0m\u001b[0;34m:\u001b[0m\u001b[0;34m\u001b[0m\u001b[0;34m\u001b[0m\u001b[0m\n\u001b[0;32m--> 312\u001b[0;31m                 \u001b[0mwaiter\u001b[0m\u001b[0;34m.\u001b[0m\u001b[0macquire\u001b[0m\u001b[0;34m(\u001b[0m\u001b[0;34m)\u001b[0m\u001b[0;34m\u001b[0m\u001b[0;34m\u001b[0m\u001b[0m\n\u001b[0m\u001b[1;32m    313\u001b[0m                 \u001b[0mgotit\u001b[0m \u001b[0;34m=\u001b[0m \u001b[0;32mTrue\u001b[0m\u001b[0;34m\u001b[0m\u001b[0;34m\u001b[0m\u001b[0m\n\u001b[1;32m    314\u001b[0m             \u001b[0;32melse\u001b[0m\u001b[0;34m:\u001b[0m\u001b[0;34m\u001b[0m\u001b[0;34m\u001b[0m\u001b[0m\n",
      "\u001b[0;31mKeyboardInterrupt\u001b[0m: "
     ]
    }
   ],
   "source": [
    "%%time\n",
    "from multiprocessing.pool import ThreadPool as Pool\n",
    "\n",
    "def unpack(it):\n",
    "    r = tuple(c for c in it) \n",
    "    print(\"Unpacked\")\n",
    "    return r\n",
    "\n",
    "gn_iterator = [girvan_newman(g,most_valuable_parallel) for g in networks]\n",
    "\n",
    "with Pool() as p:\n",
    "    p.map(unpack,gn_iterator)\n",
    "    # for each_item in p.imap(unpack,gn_iterator):\n",
    "    #     pass\n",
    "    # p.close()\n",
    "    # p.join()\n",
    "# threads = [Process(target=unpack,args=it) for it in gn_iterator]\n",
    "\n",
    "# for thread in threads:\n",
    "#     thread.start()\n",
    "# for thread in threads:\n",
    "#     thread.join()"
   ]
  },
  {
   "cell_type": "code",
   "execution_count": 74,
   "id": "e83e4f75-8af2-4194-8174-575b62db4347",
   "metadata": {},
   "outputs": [
    {
     "ename": "TypeError",
     "evalue": "'int' object is not iterable",
     "output_type": "error",
     "traceback": [
      "\u001b[0;31m---------------------------------------------------------------------------\u001b[0m",
      "\u001b[0;31mTypeError\u001b[0m                                 Traceback (most recent call last)",
      "\u001b[0;32m/tmp/ipykernel_17340/2641979923.py\u001b[0m in \u001b[0;36m<module>\u001b[0;34m\u001b[0m\n\u001b[1;32m      9\u001b[0m \u001b[0;34m\u001b[0m\u001b[0m\n\u001b[1;32m     10\u001b[0m \u001b[0mlist_of_generators\u001b[0m \u001b[0;34m=\u001b[0m \u001b[0;34m[\u001b[0m\u001b[0mgenerator\u001b[0m\u001b[0;34m(\u001b[0m\u001b[0mn\u001b[0m\u001b[0;34m)\u001b[0m \u001b[0;32mfor\u001b[0m \u001b[0mn\u001b[0m \u001b[0;32min\u001b[0m \u001b[0mrange\u001b[0m\u001b[0;34m(\u001b[0m\u001b[0;36m2\u001b[0m\u001b[0;34m,\u001b[0m\u001b[0;36m7\u001b[0m\u001b[0;34m)\u001b[0m\u001b[0;34m]\u001b[0m\u001b[0;34m\u001b[0m\u001b[0;34m\u001b[0m\u001b[0m\n\u001b[0;32m---> 11\u001b[0;31m \u001b[0mgenerator_results\u001b[0m \u001b[0;34m=\u001b[0m  \u001b[0;34m[\u001b[0m\u001b[0munpack\u001b[0m\u001b[0;34m(\u001b[0m\u001b[0mgen\u001b[0m\u001b[0;34m)\u001b[0m \u001b[0;32mfor\u001b[0m \u001b[0mgen\u001b[0m \u001b[0;32min\u001b[0m \u001b[0mlist_of_generators\u001b[0m\u001b[0;34m]\u001b[0m\u001b[0;34m\u001b[0m\u001b[0;34m\u001b[0m\u001b[0m\n\u001b[0m",
      "\u001b[0;32m/tmp/ipykernel_17340/2641979923.py\u001b[0m in \u001b[0;36m<listcomp>\u001b[0;34m(.0)\u001b[0m\n\u001b[1;32m      9\u001b[0m \u001b[0;34m\u001b[0m\u001b[0m\n\u001b[1;32m     10\u001b[0m \u001b[0mlist_of_generators\u001b[0m \u001b[0;34m=\u001b[0m \u001b[0;34m[\u001b[0m\u001b[0mgenerator\u001b[0m\u001b[0;34m(\u001b[0m\u001b[0mn\u001b[0m\u001b[0;34m)\u001b[0m \u001b[0;32mfor\u001b[0m \u001b[0mn\u001b[0m \u001b[0;32min\u001b[0m \u001b[0mrange\u001b[0m\u001b[0;34m(\u001b[0m\u001b[0;36m2\u001b[0m\u001b[0;34m,\u001b[0m\u001b[0;36m7\u001b[0m\u001b[0;34m)\u001b[0m\u001b[0;34m]\u001b[0m\u001b[0;34m\u001b[0m\u001b[0;34m\u001b[0m\u001b[0m\n\u001b[0;32m---> 11\u001b[0;31m \u001b[0mgenerator_results\u001b[0m \u001b[0;34m=\u001b[0m  \u001b[0;34m[\u001b[0m\u001b[0munpack\u001b[0m\u001b[0;34m(\u001b[0m\u001b[0mgen\u001b[0m\u001b[0;34m)\u001b[0m \u001b[0;32mfor\u001b[0m \u001b[0mgen\u001b[0m \u001b[0;32min\u001b[0m \u001b[0mlist_of_generators\u001b[0m\u001b[0;34m]\u001b[0m\u001b[0;34m\u001b[0m\u001b[0;34m\u001b[0m\u001b[0m\n\u001b[0m",
      "\u001b[0;32m/tmp/ipykernel_17340/2641979923.py\u001b[0m in \u001b[0;36munpack\u001b[0;34m(gen)\u001b[0m\n\u001b[1;32m      6\u001b[0m \u001b[0;34m\u001b[0m\u001b[0m\n\u001b[1;32m      7\u001b[0m \u001b[0;32mdef\u001b[0m \u001b[0munpack\u001b[0m\u001b[0;34m(\u001b[0m\u001b[0mgen\u001b[0m\u001b[0;34m)\u001b[0m\u001b[0;34m:\u001b[0m\u001b[0;34m\u001b[0m\u001b[0;34m\u001b[0m\u001b[0m\n\u001b[0;32m----> 8\u001b[0;31m     \u001b[0;32mreturn\u001b[0m \u001b[0;34m[\u001b[0m\u001b[0mx\u001b[0m \u001b[0;32mfor\u001b[0m \u001b[0mx\u001b[0m \u001b[0;32min\u001b[0m \u001b[0mnext\u001b[0m\u001b[0;34m(\u001b[0m\u001b[0mgen\u001b[0m\u001b[0;34m)\u001b[0m\u001b[0;34m]\u001b[0m\u001b[0;34m\u001b[0m\u001b[0;34m\u001b[0m\u001b[0m\n\u001b[0m\u001b[1;32m      9\u001b[0m \u001b[0;34m\u001b[0m\u001b[0m\n\u001b[1;32m     10\u001b[0m \u001b[0mlist_of_generators\u001b[0m \u001b[0;34m=\u001b[0m \u001b[0;34m[\u001b[0m\u001b[0mgenerator\u001b[0m\u001b[0;34m(\u001b[0m\u001b[0mn\u001b[0m\u001b[0;34m)\u001b[0m \u001b[0;32mfor\u001b[0m \u001b[0mn\u001b[0m \u001b[0;32min\u001b[0m \u001b[0mrange\u001b[0m\u001b[0;34m(\u001b[0m\u001b[0;36m2\u001b[0m\u001b[0;34m,\u001b[0m\u001b[0;36m7\u001b[0m\u001b[0;34m)\u001b[0m\u001b[0;34m]\u001b[0m\u001b[0;34m\u001b[0m\u001b[0;34m\u001b[0m\u001b[0m\n",
      "\u001b[0;31mTypeError\u001b[0m: 'int' object is not iterable"
     ]
    }
   ],
   "source": [
    "def generator(n):\n",
    "    i = 0\n",
    "    while i<1e2*n:\n",
    "        yield i\n",
    "        i += 1\n",
    "\n",
    "def unpack(gen):\n",
    "    return [x for x in next(gen)]\n",
    "\n",
    "list_of_generators = [generator(n) for n in range(2,7)]\n",
    "generator_results =  [unpack(gen) for gen in list_of_generators]"
   ]
  },
  {
   "cell_type": "code",
   "execution_count": 54,
   "id": "c40e6ce3-2caf-46c1-81b6-4c763c0245b2",
   "metadata": {},
   "outputs": [
    {
     "name": "stdout",
     "output_type": "stream",
     "text": [
      "\n",
      "Computing betweenness centrality for:\n",
      "Graph with 1001 nodes and 823 edges\n",
      "\tParallel version\n",
      "\t\tBetweenness centrality for node 0:('7002_9500', '1511_9555')\n",
      "\t\tTime: 0.6211 seconds\n",
      "\tNon-Parallel version\n",
      "\t\tBetweenness centrality for node 0: ('7002_9500', '1511_9555')\n",
      "\t\tTime: 1.5517 seconds\n"
     ]
    }
   ],
   "source": [
    "from multiprocessing import Pool\n",
    "import time\n",
    "import itertools\n",
    "\n",
    "import matplotlib.pyplot as plt\n",
    "import networkx as nx\n",
    "\n",
    "\n",
    "def chunks(l, n):\n",
    "    \"\"\"Divide a list of nodes `l` in `n` chunks\"\"\"\n",
    "    l_c = iter(l)\n",
    "    while 1:\n",
    "        x = tuple(itertools.islice(l_c, n))\n",
    "        if not x:\n",
    "            return\n",
    "        yield x\n",
    "\n",
    "\n",
    "def betweenness_centrality_parallel(G, processes=None):\n",
    "    \"\"\"Parallel betweenness centrality  function\"\"\"\n",
    "    p = Pool(processes=processes)\n",
    "    node_divisor = len(p._pool) * 4\n",
    "    node_chunks = list(chunks(G.nodes(), int(G.order() / node_divisor)))\n",
    "    num_chunks = len(node_chunks)\n",
    "    bt_sc = p.starmap(\n",
    "        nx.edge_betweenness_centrality_subset,\n",
    "        zip(\n",
    "            [G] * num_chunks,\n",
    "            node_chunks,\n",
    "            [list(G)] * num_chunks,\n",
    "            [True] * num_chunks,\n",
    "            [\"weight_1\"] * num_chunks,\n",
    "        ),\n",
    "    )\n",
    "\n",
    "    # Reduce the partial solutions\n",
    "    bt_c = bt_sc[0]\n",
    "    for bt in bt_sc[1:]:\n",
    "        for n in bt:\n",
    "            bt_c[n] += bt[n]\n",
    "    return bt_c\n",
    "\n",
    "\n",
    "# _ = \"\"\"\n",
    "for G in [networks[0]]:\n",
    "    print(\"\")\n",
    "    print(\"Computing betweenness centrality for:\")\n",
    "    print(nx.info(G))\n",
    "    print(\"\\tParallel version\")\n",
    "    start = time.time()\n",
    "    bt = betweenness_centrality_parallel(G)\n",
    "    print(f\"\\t\\tBetweenness centrality for node 0:{max(bt,key=bt.get)}\")\n",
    "    print(f\"\\t\\tTime: {(time.time() - start):.4F} seconds\")\n",
    "    print(\"\\tNon-Parallel version\")\n",
    "    start = time.time()\n",
    "    bt = nx.edge_betweenness_centrality(G,weight=\"weight_1\")\n",
    "    print(f\"\\t\\tBetweenness centrality for node 0: {max(bt,key=bt.get)}\")\n",
    "    print(f\"\\t\\tTime: {(time.time() - start):.4F} seconds\")\n",
    "# \"\"\""
   ]
  },
  {
   "cell_type": "code",
   "execution_count": 162,
   "id": "87a906c5-9018-44e1-85f9-0b3d9b1c84ae",
   "metadata": {},
   "outputs": [
    {
     "name": "stdout",
     "output_type": "stream",
     "text": [
      "[0.5853419848395155, 0.5744591553335524, 0.6081425839562082, 0.6073114146403099]\n",
      "[(0.5304632095120086, 0.8026113886113886), (0.5176025989524631, 0.800806818842891), (0.4992155007097851, 0.8085194359756097), (0.4758295140926858, 0.8176133433014008)]\n"
     ]
    }
   ],
   "source": [
    "#Modularity scores:\n",
    "modularity_scores = [nx_comm.modularity(g,comm,weight=\"weight\") for g,comm in zip(networks,modularity_communities)]\n",
    "print(modularity_scores)\n",
    "\n",
    "partition_quality = [nx_comm.partition_quality(g,comm) for g,comm in zip(networks,modularity_communities)]\n",
    "print(partition_quality)"
   ]
  },
  {
   "cell_type": "markdown",
   "id": "d8caea19-cc40-4d22-bc83-047fd8aae288",
   "metadata": {},
   "source": [
    "## Test resolution parameter"
   ]
  },
  {
   "cell_type": "code",
   "execution_count": null,
   "id": "b7db984b-76b3-4d5d-bf5d-ce6095e63f2d",
   "metadata": {},
   "outputs": [],
   "source": [
    "# Obtain modularity communities\n",
    "def get_modullarity_communities(G:nx.Graph,resolution=1,result = None,year = None):\n",
    "    modularity_communities = [list(greedy_modularity_communities(g,weight='weight',resolution = r)) for r in resolution] \n",
    "    if result is not None:\n",
    "        result[year] = modularity_communities\n",
    "    return(modularity_communities)"
   ]
  },
  {
   "cell_type": "code",
   "execution_count": null,
   "id": "9f88293d-a1e7-454f-9fdd-c5cc6e9f5248",
   "metadata": {},
   "outputs": [],
   "source": [
    "%%time\n",
    "communities_by_resolution =  {}\n",
    "resulutions = np.arange(0,1,0.1)\n",
    "resolutions = np.append(np.arange(0,1,0.2),np.arange(1,25,0.5))\n",
    "print(resolutions)\n",
    "for g,year in zip(networks,range(2018,2022)):\n",
    "    communities_by_resolution[year] = [[list(x) for x in y] for y in get_modullarity_communities(g,resolution=resolutions)]"
   ]
  },
  {
   "cell_type": "code",
   "execution_count": 140,
   "id": "bb9b5080-d7fc-4549-a027-bb39e4cfd721",
   "metadata": {
    "scrolled": true,
    "tags": []
   },
   "outputs": [],
   "source": [
    "#Classify Communities\n",
    "communities_statistics = {}\n",
    "for (year,comms),g,r in  zip(communities_by_resolution.items(),networks,resolutions):\n",
    "    communities_statistics[year] = {\"N_communities\": [len(x) for x in comms ],\n",
    "                                    \"Avg_comm_size\": [np.average([len(y) for y in x]) for x in comms],\n",
    "                                    \"Sigma_comm_size\": [np.std([len(y) for y in x]) for x in comms],\n",
    "                                    \"Median_comm_size\": [np.median([len(y) for y in x]) for x in comms],\n",
    "                                    \"Modularity_score\": [nx_comm.modularity(g,c,resolution=r,weight='weight') for c in comms]}"
   ]
  },
  {
   "cell_type": "code",
   "execution_count": null,
   "id": "dde65067-f26f-4433-ac1e-c24e279407dc",
   "metadata": {},
   "outputs": [],
   "source": [
    "# Export Data\n",
    "import json\n",
    "with open(\"data/modularity_communities.json\", \"w\") as f:\n",
    "    json.dump(communities_by_resolution,f)\n",
    "with open(\"data/modularity_communities_statistics.json\", \"w\") as f:\n",
    "    json.dump(communities_statistics,f)"
   ]
  },
  {
   "cell_type": "markdown",
   "id": "b390e4fd-dc0c-4182-a42d-11ba8f758394",
   "metadata": {},
   "source": [
    "## Visualize Data\n",
    "---"
   ]
  },
  {
   "cell_type": "code",
   "execution_count": 3,
   "id": "4e41bb72-0c20-4b62-914b-6033c15c91ff",
   "metadata": {},
   "outputs": [],
   "source": [
    "#Import data\n",
    "import json\n",
    "with open(\"data/modularity_communities_statistics.json\", \"r\") as f:\n",
    "    communities_statistics = json.load(f)\n",
    "with open(\"data/modularity_communities.json\", \"r\") as f:\n",
    "    communities_by_resolution = json.load(f)\n",
    "\n",
    "resolutions = np.append(np.arange(0,1,0.2),np.arange(1,25,0.5))"
   ]
  },
  {
   "cell_type": "code",
   "execution_count": 141,
   "id": "88651203-d7e7-4326-99b7-fc060a8067da",
   "metadata": {},
   "outputs": [
    {
     "data": {
      "image/png": "[encoded data removed]",
      "text/plain": [
       "<Figure size 493.228x493.228 with 4 Axes>"
      ]
     },
     "metadata": {
      "needs_background": "light"
     },
     "output_type": "display_data"
    }
   ],
   "source": [
    "#Visualize statistics\n",
    "colors = ['#EE7732', '#33BBEE',  '#EE3377',  '#0077BB']\n",
    "colors = dict(zip(range(2018,2022),colors))\n",
    "\n",
    "plt.rcParams.update({'font.size': 6})\n",
    "plt.rc('xtick', labelsize=6)    # fontsize of the tick labels\n",
    "plt.rc('ytick', labelsize=6)    \n",
    "plt.rc('axes', titlesize=6)    \n",
    "\n",
    "\n",
    "cm = 1/2.54\n",
    "fig,ax = plt.subplots(ncols=2,nrows=2,figsize=(2*8.7*cm,2*8.7*cm),sharex=True)\n",
    "fig.text(0.5, 0.00, 'Resolution Parameter', ha='center')\n",
    "\n",
    "ax[0,0].set(ylabel=\"Number of communities\")\n",
    "# ax[0,1].set(xlabel=\"Resolution parameter\", ylabel=\"Median community size\")\n",
    "ax[0,1].set( ylabel=\"Modularity score\",yscale=\"linear\")\n",
    "ax[1,0].set( ylabel=\"Average community size\",yscale=\"linear\")\n",
    "ax[1,1].set( ylabel=\"Std community size\",yscale=\"linear\")\n",
    "for year, data in communities_statistics.items():\n",
    "    ax[0,0].plot(resolutions,data[\"N_communities\"],label=year, marker='o', ms=3,alpha=0.8, color = colors[int(year)])\n",
    "    # ax[0,1].plot(resolutions,data[\"Median_comm_size\"],label=year, marker='o', ms=3, color = colors[int(year)])\n",
    "    ax[0,1].plot(resolutions[1:],data[\"Modularity_score\"][1:],label=year, marker='o', ms=3, color = colors[int(year)])\n",
    "    ax[1,0].plot(resolutions,data[\"Avg_comm_size\"],label=year, marker='o', ms=3, color = colors[int(year)])\n",
    "    ax[1,1].plot(resolutions,data[\"Sigma_comm_size\"],label=year, marker='o', ms=3, color = colors[int(year)])\n",
    "             \n",
    "\n",
    "for a in ax.flatten():\n",
    "    a.grid()\n",
    "    # a.set_xticks(a.get_xticks())\n",
    "    # a.set_xticklabels(a.get_xticklabels(),fontdict={\"fontsize\":6})\n",
    "    # a.legend()\n",
    "# ax[0,0].grid()\n",
    "# ax[0,1].grid()\n",
    "# ax[0,0].legend()\n",
    "# ax[0,1].legend()\n",
    "plt.tight_layout()\n",
    "plt.savefig(\"modularity_community_statistics.pdf\",dpi=200)\n",
    "# plt.savefig(\"modularity_community_statistics.png\",dpi=200)"
   ]
  },
  {
   "cell_type": "code",
   "execution_count": null,
   "id": "c907ae5b-d734-4e65-88c6-89bb5cca82ff",
   "metadata": {},
   "outputs": [],
   "source": [
    "from scipy.stats import norm"
   ]
  },
  {
   "cell_type": "code",
   "execution_count": null,
   "id": "7f187f0d-8c85-4809-adf8-8b9bd020094b",
   "metadata": {},
   "outputs": [],
   "source": [
    "fig,ax = plt.subplots(figsize=(10,5))\n",
    "ax.set(xlabel=\"Community size\", ylabel=\"p\")\n",
    "\n",
    "x = np.linspace(0,150,200)\n",
    "for average,std in zip(communities_statistics[2018][\"Avg_comm_size\"],communities_statistics[2018][\"Sigma_comm_size\"]):\n",
    "    ax.plot(x,norm(loc=average,scale=std).pdf(x),label=year, marker='',ls='-', ms=3)\n",
    "             \n",
    "ax.grid()\n",
    "# ax.legend()"
   ]
  },
  {
   "cell_type": "code",
   "execution_count": null,
   "id": "57b188f1-ad1a-4c6f-a792-6395d9a97ab6",
   "metadata": {},
   "outputs": [],
   "source": [
    "resolutions"
   ]
  },
  {
   "cell_type": "code",
   "execution_count": null,
   "id": "f87ef39d-4f4a-4238-a944-317ea88eba51",
   "metadata": {
    "scrolled": true,
    "tags": []
   },
   "outputs": [],
   "source": [
    "g = networks[0]\n",
    "comm = [[g.nodes[y][\"name\"] for y in x] for x in communities_by_resolution[\"2018\"][6]]\n",
    "print(comm[2])\n",
    "print()\n",
    "print(comm[3])\n",
    "\n",
    "areas_in_comm = []\n",
    "for a in comm:\n",
    "    unique = list(set(a))\n",
    "    areas_in_comm.append({area: a.count(area) for area in unique})\n",
    "    # print(a)\n",
    "print(areas_in_comm)\n",
    "print()"
   ]
  },
  {
   "cell_type": "code",
   "execution_count": 5,
   "id": "5a2951a1-23a0-47d9-92fb-7ba4f516ab28",
   "metadata": {},
   "outputs": [],
   "source": [
    "# Find matching communities\n",
    "def enumerate_simmilarity(d1,d2):\n",
    "    scores = []\n",
    "    simmilarity = lambda d,d1: len(d1.keys() & d.keys()) * sum([d1[c]*d[c]/(1+abs(d1[c]-d[c])) for c in (d1.keys() & d.keys())])\n",
    "    for d in d1:\n",
    "        scores.append([simmilarity(d,dd) for dd in d2])\n",
    "        \n",
    "    scores = np.array(scores,dtype=float)\n",
    "    best = np.full(len(d1),-1)\n",
    "        \n",
    "    for i in range(len(d1)):\n",
    "        index = np.unravel_index(scores.argmax(),scores.shape)\n",
    "        best[index[0]] = index[1]\n",
    "        scores[index[0]] = -1\n",
    "        scores[:,index[1]] = -1\n",
    "     \n",
    "    return list(zip(best,d1))"
   ]
  },
  {
   "cell_type": "code",
   "execution_count": 8,
   "id": "d006757d-1d5c-41b0-a9f2-2177f3b3f9aa",
   "metadata": {},
   "outputs": [
    {
     "data": {
      "image/png": "[encoded data removed]",
      "text/plain": [
       "<Figure size 504.567x198.425 with 1 Axes>"
      ]
     },
     "metadata": {
      "needs_background": "light"
     },
     "output_type": "display_data"
    }
   ],
   "source": [
    "colors = ['#BBBBBB', '#EE7732', '#33BBEE', '#CC3311', '#009988', '#EE3377',  '#0077BB','#DDAA33', '#999933']\n",
    "areas  = ['Educação', 'Artes e Arquitetura',\n",
    "          'Humanidades', 'Direito, Ciências Sociais e do Comportamento', 'Ciências Empresariais', \n",
    "          'Ciências da Vida', 'Ciências Exatas', 'Serviços Sociais e Pessoais', 'Saúde']\n",
    "areas_en  = ['Education', 'Arts and Architecture',\n",
    "          'Human Sciences', 'Social and Behavioral Sciences; Law', 'Business Sciences', \n",
    "          'Life Sciences', 'Exact Sciences', 'Social and Personal Services', 'Health']\n",
    "areas_en=dict(zip(areas,areas_en))\n",
    "area_colors = dict(zip(areas,colors))\n",
    "# plt.rcparams()\n",
    "plt.rcParams.update({'font.size': 9})\n",
    "\n",
    "\n",
    "x0 = 0\n",
    "\n",
    "cm = 1/2.54\n",
    "fig,ax = plt.subplots(figsize=(17.8*cm,7*cm))\n",
    "\n",
    "resolution_index = 9\n",
    "areas_in_comm = []\n",
    "for n, G in enumerate(networks):\n",
    "    comm = [[G.nodes[y][\"area\"] for y in x] for x in communities_by_resolution[str(G.graph[\"year\"])][resolution_index]]\n",
    "    areas_in_comm.append([{area: a.count(area) for area in list(set(a))} for a in comm])\n",
    "    \n",
    "max_idx = areas_in_comm.index(max(areas_in_comm, key = len))\n",
    "max_comms = max(areas_in_comm, key = len)\n",
    "max_comms_enum = list(enumerate(max_comms))\n",
    "\n",
    "for i in range(0,4):\n",
    "    if i == max_idx: \n",
    "        areas_in_comm[i] = max_comms_enum\n",
    "        continue\n",
    "    areas_in_comm[i] = enumerate_simmilarity(areas_in_comm[i], max_comms)\n",
    "    \n",
    "for n, (G,areas_year) in enumerate(zip(networks,areas_in_comm)):\n",
    "    y_offset = 0\n",
    "    for i,area in areas_year:\n",
    "        y_offset = 0\n",
    "        parts = list(area.items())\n",
    "        parts.sort(reverse=True,key = lambda x: x[1])\n",
    "        for j,(a,count) in enumerate(parts):\n",
    "            ax.bar(x0 + i*5+n,count,bottom=y_offset,color=area_colors[a],label=areas_en[a])\n",
    "            y_offset += count\n",
    "\n",
    "years = list(range(2018,2022))*len(max_comms)\n",
    "idx = [x0 + i*5 + j for i in range(len(max_comms)) for j in range(4)]        \n",
    "            \n",
    "ax.set_xticks(idx)\n",
    "ax.set_xticklabels(years, rotation=65, fontdict={\"fontsize\":6})\n",
    "\n",
    "ax.set(xlim=(-1,ax.get_xlim()[1]-1))\n",
    "\n",
    "ax.set_title(f\"Resolution parameter = {resolutions[resolution_index]}\", fontdict={\"fontsize\":8})\n",
    "\n",
    "ax.set_ylabel(f\"Number of elements\", fontdict={\"fontsize\":8})\n",
    "handles, labels = plt.gca().get_legend_handles_labels()\n",
    "by_label = dict(zip(labels, handles))\n",
    "ax.legend(by_label.values(), by_label.keys(),bbox_to_anchor=(1,1), loc=\"upper right\",\n",
    "            fontsize=7, markerfirst=False, frameon=False)\n",
    "\n",
    "plt.tight_layout()\n",
    "plt.savefig(\"comm.pdf\")\n",
    "# plt.savefig(\"comm.jpeg\",dpi=200)"
   ]
  },
  {
   "cell_type": "markdown",
   "id": "473eea4c-ddfb-4e0e-96cc-d7238714733b",
   "metadata": {},
   "source": [
    "# Louvain\n",
    "---"
   ]
  },
  {
   "cell_type": "code",
   "execution_count": 3,
   "id": "0d932bdf-2565-4b7c-8a0f-7845d5d923bf",
   "metadata": {},
   "outputs": [],
   "source": [
    "import community as community_louvain"
   ]
  },
  {
   "cell_type": "code",
   "execution_count": 4,
   "id": "13fdf565-3c16-49ab-9294-5482dc94766e",
   "metadata": {},
   "outputs": [
    {
     "name": "stdout",
     "output_type": "stream",
     "text": [
      "CPU times: user 7.35 s, sys: 0 ns, total: 7.35 s\n",
      "Wall time: 7.36 s\n"
     ]
    }
   ],
   "source": [
    "%%time\n",
    "louvain_dicts = [community_louvain.best_partition(g) for g in networks]\n",
    "louvain_comms = {}\n",
    "for g,ldict in zip(networks, louvain_dicts):\n",
    "    louvain_comms[g.graph[\"year\"]] = sorted([[node for node,c in ldict.items() if c==n] for n in set(ldict.values())],key=len,reverse=True)"
   ]
  },
  {
   "cell_type": "code",
   "execution_count": 5,
   "id": "8ff8d644-814b-477d-a401-fbcd73bc339f",
   "metadata": {
    "scrolled": true,
    "tags": []
   },
   "outputs": [
    {
     "name": "stdout",
     "output_type": "stream",
     "text": [
      "[0.5872495667613756, 0.580970071562319, 0.6149370219414844, 0.6134974515449109]\n"
     ]
    }
   ],
   "source": [
    "modularity_scores = [nx_comm.modularity(g,comm,weight=\"weight\") for g,comm in zip(networks,louvain_comms.values())]\n",
    "print(modularity_scores)"
   ]
  },
  {
   "cell_type": "code",
   "execution_count": 7,
   "id": "fdce4df1-1bfc-4d7f-8332-488394ff3374",
   "metadata": {},
   "outputs": [],
   "source": [
    "# Find matching communities\n",
    "def enumerate_simmilarity(d1,d2):\n",
    "    scores = []\n",
    "    simmilarity = lambda d,d1: len(d1.keys() & d.keys()) * sum([d1[c]*d[c]/(1+abs(d1[c]-d[c])) for c in (d1.keys() & d.keys())])\n",
    "    for d in d1:\n",
    "        scores.append([simmilarity(d,dd) for dd in d2])\n",
    "        \n",
    "    scores = np.array(scores,dtype=float)\n",
    "    best = np.full(len(d1),-1)\n",
    "        \n",
    "    for i in range(len(d1)):\n",
    "        index = np.unravel_index(scores.argmax(),scores.shape)\n",
    "        best[index[0]] = index[1]\n",
    "        scores[index[0]] = -1\n",
    "        scores[:,index[1]] = -1\n",
    "     \n",
    "    return list(zip(best,d1))\n"
   ]
  },
  {
   "cell_type": "code",
   "execution_count": 9,
   "id": "97fe87f0-b904-4c78-9066-e543d5792196",
   "metadata": {
    "scrolled": true,
    "tags": []
   },
   "outputs": [
    {
     "data": {
      "image/png": "[encoded data removed]",
      "text/plain": [
       "<Figure size 504.567x198.425 with 1 Axes>"
      ]
     },
     "metadata": {
      "needs_background": "light"
     },
     "output_type": "display_data"
    }
   ],
   "source": [
    "colors = ['#BBBBBB', '#EE7732', '#33BBEE', '#CC3311', '#009988', '#EE3377',  '#0077BB','#DDAA33', '#999933']\n",
    "areas  = ['Educação', 'Artes e Arquitetura',\n",
    "          'Humanidades', 'Direito, Ciências Sociais e do Comportamento', 'Ciências Empresariais', \n",
    "          'Ciências da Vida', 'Ciências Exatas', 'Serviços Sociais e Pessoais', 'Saúde']\n",
    "areas_en  = ['Education', 'Arts and Architecture',\n",
    "          'Human Sciences', 'Social and Behavioral Sciences; Law', 'Business Sciences', \n",
    "          'Life Sciences', 'Exact Sciences', 'Social and Personal Services', 'Health']\n",
    "areas_en=dict(zip(areas,areas_en))\n",
    "area_colors = dict(zip(areas,colors))\n",
    "# plt.rcparams()\n",
    "plt.rcParams.update({'font.size': 9})\n",
    "\n",
    "\n",
    "x0 = 0\n",
    "\n",
    "cm = 1/2.54\n",
    "fig,ax = plt.subplots(figsize=(17.8*cm,7*cm))\n",
    "\n",
    "areas_in_comm = []\n",
    "for n, G in enumerate(networks):\n",
    "    comm = [[G.nodes[y][\"area\"] for y in x] for x in louvain_comms[G.graph[\"year\"]]]\n",
    "    areas_in_comm.append([{area: a.count(area) for area in list(set(a))} for a in comm])\n",
    "    \n",
    "max_idx = areas_in_comm.index(max(areas_in_comm, key = len))\n",
    "max_comms = max(areas_in_comm, key = len)\n",
    "max_comms_enum = list(enumerate(max_comms))\n",
    "\n",
    "for i in range(0,4):\n",
    "    if i == max_idx: \n",
    "        areas_in_comm[i] = max_comms_enum\n",
    "        continue\n",
    "    areas_in_comm[i] = enumerate_simmilarity(areas_in_comm[i], max_comms)\n",
    "    \n",
    "for n, (G,areas_year) in enumerate(zip(networks,areas_in_comm)):\n",
    "    y_offset = 0\n",
    "    for i,area in areas_year:\n",
    "        y_offset = 0\n",
    "        parts = list(area.items())\n",
    "        parts.sort(reverse=True,key = lambda x: x[1])\n",
    "        for j,(a,count) in enumerate(parts):\n",
    "            ax.bar(x0 + i*5+n,count,bottom=y_offset,color=area_colors[a],label=areas_en[a])\n",
    "            y_offset += count\n",
    "\n",
    "years = list(range(2018,2022))*len(max_comms)\n",
    "idx = [x0 + i*5 + j for i in range(len(max_comms)) for j in range(4)]        \n",
    "            \n",
    "ax.set_xticks(idx)\n",
    "ax.set_xticklabels(years, rotation=65, fontdict={\"fontsize\":6})\n",
    "\n",
    "ax.set(xlim=(-1,ax.get_xlim()[1]-1))\n",
    "\n",
    "# ax.set_title(f\"Resolution parameter = {resolutions[resolution_index]}\", fontdict={\"fontsize\":8})\n",
    "\n",
    "ax.set_ylabel(f\"Number of elements\", fontdict={\"fontsize\":8})\n",
    "handles, labels = plt.gca().get_legend_handles_labels()\n",
    "by_label = dict(zip(labels, handles))\n",
    "ax.legend(by_label.values(), by_label.keys(),bbox_to_anchor=(1,1), loc=\"upper right\",\n",
    "            fontsize=7, markerfirst=False, frameon=False)\n",
    "\n",
    "plt.tight_layout()\n",
    "plt.savefig(\"comm.pdf\")"
   ]
  },
  {
   "cell_type": "code",
   "execution_count": null,
   "id": "01ce415a-22e5-41db-b66d-2ebe523e3497",
   "metadata": {},
   "outputs": [],
   "source": []
  }
 ],
 "metadata": {
  "kernelspec": {
   "display_name": "Python 3 (ipykernel)",
   "language": "python",
   "name": "python3"
  },
  "language_info": {
   "codemirror_mode": {
    "name": "ipython",
    "version": 3
   },
   "file_extension": ".py",
   "mimetype": "text/x-python",
   "name": "python",
   "nbconvert_exporter": "python",
   "pygments_lexer": "ipython3",
   "version": "3.9.7"
  }
 },
 "nbformat": 4,
 "nbformat_minor": 5
}
