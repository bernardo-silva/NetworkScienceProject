{
 "cells": [
  {
   "cell_type": "code",
   "execution_count": 4,
   "id": "5e5e0ef9-460b-44fb-af71-e6726fc1fe2e",
   "metadata": {},
   "outputs": [],
   "source": [
    "import networkx as nx\n",
    "\n",
    "from utilities import import_networks\n",
    "import pandas as pd"
   ]
  },
  {
   "cell_type": "code",
   "execution_count": 5,
   "id": "cb85884d-2648-4bcf-8010-a97be3c036ff",
   "metadata": {},
   "outputs": [
    {
     "name": "stdout",
     "output_type": "stream",
     "text": [
      "Graph with 1001 nodes and 75862 edges\n",
      "Graph with 999 nodes and 75415 edges\n",
      "Graph with 1025 nodes and 80306 edges\n",
      "Graph with 1018 nodes and 80077 edges\n"
     ]
    }
   ],
   "source": [
    "networks = import_networks()\n",
    "\n",
    "print(\"\\n\".join([str(x) for x in networks]))"
   ]
  },
  {
   "cell_type": "code",
   "execution_count": 35,
   "id": "a436dcb9-c90b-47e6-9d3d-0d809e7c2855",
   "metadata": {},
   "outputs": [],
   "source": [
    "for g, year in zip(networks,range(2018,2022)):\n",
    "    nodes = dict(g.nodes(data=True))\n",
    "    bc = nx.algorithms.centrality.betweenness_centrality(g,weight=\"weight\")\n",
    "    for node in nodes.keys():\n",
    "        nodes[node][\"Degree\"] = nx.degree(g,node, weight=\"weight\")\n",
    "        nodes[node][\"Betweenness Centrality\"] = bc[node]\n",
    "        \n",
    "    data = pd.DataFrame.from_dict(nodes).transpose()\n",
    "    data = data.rename(columns=dict(zip(data.keys(),['Name', 'Faculty Name', 'Faculty Type', 'Number of Candidates', 'Number Accepted',\n",
    "           'Availabel placements', 'Minimum Grade', 'Area'])))\n",
    "    with open(f\"Networks Info/nodes{year}.md\",\"w\") as f:\n",
    "        f.write(f\"Use Ctrl+f to find a specific course\\n\")\n",
    "        f.write(data.to_markdown())"
   ]
  }
 ],
 "metadata": {
  "kernelspec": {
   "display_name": "Python 3 (ipykernel)",
   "language": "python",
   "name": "python3"
  },
  "language_info": {
   "codemirror_mode": {
    "name": "ipython",
    "version": 3
   },
   "file_extension": ".py",
   "mimetype": "text/x-python",
   "name": "python",
   "nbconvert_exporter": "python",
   "pygments_lexer": "ipython3",
   "version": "3.9.7"
  }
 },
 "nbformat": 4,
 "nbformat_minor": 5
}
