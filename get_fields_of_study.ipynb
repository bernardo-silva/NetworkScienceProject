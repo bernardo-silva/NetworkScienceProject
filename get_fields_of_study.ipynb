{
 "cells": [
  {
   "cell_type": "code",
   "execution_count": 16,
   "id": "14ba8cad-7d6f-4e43-81ad-66b1c1ed740b",
   "metadata": {},
   "outputs": [],
   "source": [
    "import requests as r\n",
    "from bs4 import BeautifulSoup\n",
    "from time import sleep"
   ]
  },
  {
   "cell_type": "code",
   "execution_count": 17,
   "id": "14b506b4-0637-4fad-bc34-ea08011f8d9b",
   "metadata": {},
   "outputs": [],
   "source": [
    "area_codes = [14,21,22,31,32,34,38,42,44,46,48,52,54,\n",
    "             58,62,64,72,76,81,84,85,86,99]\n",
    "url = \"https://www.dges.gov.pt/guias/indarea.asp?area=\""
   ]
  },
  {
   "cell_type": "code",
   "execution_count": 18,
   "id": "9fee5656-c730-4aa4-a959-a80e32aed5b3",
   "metadata": {},
   "outputs": [],
   "source": [
    "areas = []\n",
    "area_dict  = {}\n",
    "for code in area_codes:\n",
    "    result = r.get(url+str(code))\n",
    "    soup = BeautifulSoup(result.content,\"html5lib\")\n",
    "    p = soup.findAll(\"p\",attrs={\"class\":\"box10\"})\n",
    "    courses = soup.findAll(\"div\",attrs={\"class\":\"lin-area-c2\"})\n",
    "    area = str(p).split(\">\")[1].split(\"<\")[0]\n",
    "    \n",
    "    area_dict[area] = [str(x.findChildren(\"a\")).split(\">\")[1].split(\"<\")[0] for x in courses]\n",
    "    areas.append(area)\n",
    "    sleep(0.2)"
   ]
  },
  {
   "cell_type": "code",
   "execution_count": 19,
   "id": "3c8f78f7-2dc8-4102-b395-3f4978fa9e33",
   "metadata": {},
   "outputs": [
    {
     "name": "stdout",
     "output_type": "stream",
     "text": [
      "[(0, 'Formação de Professores/Formadores e Ciências da Educação'), (1, 'Artes'), (2, 'Humanidades'), (3, 'Ciências Sociais e do Comportamento'), (4, 'Informação e Jornalismo'), (5, 'Ciências Empresariais'), (6, 'Direito'), (7, 'Ciências da Vida'), (8, 'Ciências Físicas'), (9, 'Matemática e Estatística'), (10, 'Informática'), (11, 'Engenharia e Técnicas Afins'), (12, 'Indústrias Transformadoras'), (13, 'Arquitetura e Construção'), (14, 'Agricultura, Silvicultura e Pescas'), (15, 'Ciências Veterinárias'), (16, 'Saúde'), (17, 'Serviços Sociais'), (18, 'Serviços Pessoais'), (19, 'Serviços de Transporte'), (20, 'Proteção do Ambiente'), (21, 'Serviços de Segurança'), (22, 'Desconhecido ou não especificado')]\n"
     ]
    }
   ],
   "source": [
    "print(list(enumerate(areas)))"
   ]
  },
  {
   "cell_type": "code",
   "execution_count": 20,
   "id": "92dec0c2-404a-4ae4-bf9e-6ad6539909e5",
   "metadata": {},
   "outputs": [],
   "source": [
    "new_areas = {}\n",
    "new_areas[\"Educação\"] = area_dict[areas[0]]\n",
    "new_areas[\"Artes e Arquitetura\"] = area_dict[\"Artes\"] + [x for x in area_dict[\"Arquitetura e Construção\"] if \"Arquitetura\" in x]\n",
    "new_areas[\"Humanidades\"] = area_dict[\"Humanidades\"] + area_dict[areas[4]]\n",
    "new_areas[\"Direito, Ciências Sociais e do Comportamento\"] = area_dict[\"Direito\"] + area_dict[areas[3]] + area_dict[areas[22]]\n",
    "new_areas[\"Ciências Empresariais\"] = area_dict[areas[5]] + area_dict[areas[19]]\n",
    "new_areas[\"Ciências da Vida\"] = area_dict[areas[7]] + area_dict[areas[14]] + area_dict[areas[15]] + area_dict[areas[20]]  \n",
    "new_areas[\"Ciências Exatas\"] =  area_dict[areas[8]] + area_dict[areas[9]] + area_dict[areas[10]] + area_dict[areas[11]] + area_dict[areas[12]] + [x for x in area_dict[\"Arquitetura e Construção\"] if \"Arquitetura\" not in x]\n",
    "new_areas[\"Serviços Sociais e Pessoais\"] = area_dict[areas[18]] + area_dict[areas[17]]\n",
    "new_areas[\"Saúde\"] = area_dict[areas[16]]"
   ]
  },
  {
   "cell_type": "code",
   "execution_count": 21,
   "id": "db82b438-8ba0-46c0-9f41-b2ba36ccbbc5",
   "metadata": {},
   "outputs": [],
   "source": [
    "import json\n",
    "with open(\"data/areas.json\", \"w\") as f:\n",
    "    json.dump(new_areas,f)"
   ]
  },
  {
   "cell_type": "code",
   "execution_count": 14,
   "id": "005623bd-715b-4d27-8812-909729ef55f7",
   "metadata": {},
   "outputs": [
    {
     "name": "stdout",
     "output_type": "stream",
     "text": [
      "['Formação de Professores/Formadores e Ciências da Educação', 'Artes e Arquitetura', 'Humanidades', 'Direito, Ciências Sociais e do Comportamento', 'Ciências Empresariais', 'Ciências da Vida', 'Ciências Exatas', 'Serviços Sociais e Pessoais', 'Saúde']\n"
     ]
    }
   ],
   "source": [
    "print(list(new_areas.keys()))"
   ]
  }
 ],
 "metadata": {
  "kernelspec": {
   "display_name": "Python 3 (ipykernel)",
   "language": "python",
   "name": "python3"
  },
  "language_info": {
   "codemirror_mode": {
    "name": "ipython",
    "version": 3
   },
   "file_extension": ".py",
   "mimetype": "text/x-python",
   "name": "python",
   "nbconvert_exporter": "python",
   "pygments_lexer": "ipython3",
   "version": "3.9.7"
  }
 },
 "nbformat": 4,
 "nbformat_minor": 5
}
