{
 "cells": [
  {
   "cell_type": "code",
   "execution_count": 1,
   "id": "febfa498-0b4a-4e07-bc4a-6dee7b74e71e",
   "metadata": {},
   "outputs": [],
   "source": [
    "import networkx as nx\n",
    "import networkx.algorithms.community as nx_comm\n",
    "\n",
    "import community as community_louvain\n",
    "from utilities import import_networks\n",
    "\n",
    "import matplotlib.pyplot as plt\n",
    "import numpy as np\n",
    "\n",
    "from tqdm.notebook import tqdm"
   ]
  },
  {
   "cell_type": "code",
   "execution_count": 2,
   "id": "5ab84891-0e86-4387-bc52-c9b9614b7f17",
   "metadata": {},
   "outputs": [
    {
     "name": "stdout",
     "output_type": "stream",
     "text": [
      "Graph with 1001 nodes and 75862 edges\n",
      "Graph with 999 nodes and 75415 edges\n",
      "Graph with 1025 nodes and 80306 edges\n",
      "Graph with 1018 nodes and 80077 edges\n"
     ]
    }
   ],
   "source": [
    "networks = import_networks()\n",
    "\n",
    "print(\"\\n\".join([str(x) for x in networks]))"
   ]
  },
  {
   "cell_type": "code",
   "execution_count": 27,
   "id": "501adcf8-2342-4a62-8485-57ba70e3289c",
   "metadata": {},
   "outputs": [
    {
     "name": "stdout",
     "output_type": "stream",
     "text": [
      "{'name': 'Medicina', 'faculty_name': 'Universidade Nova de Lisboa: Faculdade de Ciências Médicas', 'faculty_type': 'universidade', 'candidates': 1379, 'accepted': 231, 'vagas': 231, 'grade': 177.2, 'area': 'Saúde'} {'name': 'Medicina', 'faculty_name': 'Universidade de Lisboa: Faculdade de Medicina', 'faculty_type': 'universidade', 'candidates': 1538, 'accepted': 295, 'vagas': 295, 'grade': 175.2, 'area': 'Saúde'}\n",
      "\n",
      "{'name': 'Direito', 'faculty_name': 'Universidade Nova de Lisboa: Faculdade de Direito', 'faculty_type': 'universidade', 'candidates': 1478, 'accepted': 93, 'vagas': 93, 'grade': 166.6, 'area': 'Direito, Ciências Sociais e do Comportamento'} {'name': 'Direito', 'faculty_name': 'Universidade de Lisboa: Faculdade de Direito', 'faculty_type': 'universidade', 'candidates': 1939, 'accepted': 447, 'vagas': 445, 'grade': 153.8, 'area': 'Direito, Ciências Sociais e do Comportamento'}\n",
      "\n",
      "{'name': 'Medicina', 'faculty_name': 'Universidade Nova de Lisboa: Faculdade de Ciências Médicas', 'faculty_type': 'universidade', 'candidates': 1897, 'accepted': 238, 'vagas': 231, 'grade': 184.5, 'area': 'Saúde'} {'name': 'Medicina', 'faculty_name': 'Universidade de Lisboa: Faculdade de Medicina', 'faculty_type': 'universidade', 'candidates': 2266, 'accepted': 301, 'vagas': 295, 'grade': 183.3, 'area': 'Saúde'}\n",
      "\n",
      "{'name': 'Medicina', 'faculty_name': 'Universidade Nova de Lisboa: Faculdade de Ciências Médicas', 'faculty_type': 'universidade', 'candidates': 1940, 'accepted': 233, 'vagas': 231, 'grade': 184.5, 'area': 'Saúde'} {'name': 'Medicina', 'faculty_name': 'Universidade de Lisboa: Faculdade de Medicina', 'faculty_type': 'universidade', 'candidates': 2394, 'accepted': 299, 'vagas': 295, 'grade': 183.5, 'area': 'Saúde'}\n",
      "\n"
     ]
    }
   ],
   "source": [
    "maxes = [max(list(g.edges(data=True)), key= lambda x: x[2][\"weight\"]) for g in networks]\n",
    "for m, g in zip(maxes, networks):\n",
    "    print(g.nodes[m[0]], g.nodes[m[1]])\n",
    "    print()"
   ]
  },
  {
   "cell_type": "markdown",
   "id": "473eea4c-ddfb-4e0e-96cc-d7238714733b",
   "metadata": {},
   "source": [
    "# Louvain\n",
    "---"
   ]
  },
  {
   "cell_type": "code",
   "execution_count": 10,
   "id": "13fdf565-3c16-49ab-9294-5482dc94766e",
   "metadata": {},
   "outputs": [
    {
     "name": "stdout",
     "output_type": "stream",
     "text": [
      "15 communities: [117, 115, 98, 97, 91, 76, 72, 69, 63, 55, 39, 38, 35, 23, 13]\n",
      "15 communities: [140, 120, 111, 93, 85, 83, 70, 64, 60, 39, 35, 30, 29, 27, 13]\n",
      "15 communities: [145, 115, 109, 88, 85, 84, 66, 66, 56, 51, 46, 37, 34, 31, 12]\n",
      "14 communities: [152, 145, 96, 86, 85, 75, 69, 66, 65, 64, 54, 25, 24, 12]\n",
      "CPU times: user 8.09 s, sys: 1.07 ms, total: 8.09 s\n",
      "Wall time: 8.1 s\n"
     ]
    }
   ],
   "source": [
    "%%time\n",
    "louvain_dicts = [community_louvain.best_partition(g,resolution=1/2) for g in networks]\n",
    "louvain_comms = {}\n",
    "for g,ldict in zip(networks, louvain_dicts):\n",
    "    louvain_comms[g.graph[\"year\"]] = sorted([[node for node,c in ldict.items() if c==n] for n in set(ldict.values())],key=len,reverse=True)\n",
    "for comm in louvain_comms.values():\n",
    "    print(f\"{len(comm)} communities: {[len(x) for x in comm]}\")"
   ]
  },
  {
   "cell_type": "code",
   "execution_count": 11,
   "id": "8ff8d644-814b-477d-a401-fbcd73bc339f",
   "metadata": {
    "scrolled": true,
    "tags": []
   },
   "outputs": [
    {
     "name": "stdout",
     "output_type": "stream",
     "text": [
      "[0.554386040943419, 0.5461838470317855, 0.575042503867166, 0.5751091612914017]\n"
     ]
    }
   ],
   "source": [
    "modularity_scores = [nx_comm.modularity(g,comm,weight=\"weight\") for g,comm in zip(networks,louvain_comms.values())]\n",
    "print(modularity_scores)"
   ]
  },
  {
   "cell_type": "code",
   "execution_count": 3,
   "id": "34a221c2-3b43-4391-9778-de3e86a1ba01",
   "metadata": {},
   "outputs": [],
   "source": [
    "def get_louvain_communities(G,resolution=1):\n",
    "    ldict = community_louvain.best_partition(G,resolution=1/(resolution+1e-9))\n",
    "    louvain_comms = sorted([[node for node,c in ldict.items() if c==n] for n in set(ldict.values())],key=len,reverse=True)\n",
    "    return louvain_comms"
   ]
  },
  {
   "cell_type": "code",
   "execution_count": 5,
   "id": "f547767c-e2d1-44c1-b614-a11a6f34931a",
   "metadata": {},
   "outputs": [
    {
     "name": "stdout",
     "output_type": "stream",
     "text": [
      "[ 0.   0.1  0.2  0.3  0.4  0.5  0.6  0.7  0.8  0.9  1.   1.5  2.   2.5\n",
      "  3.   3.5  4.   4.5  5.   5.5  6.   6.5  7.   7.5  8.   8.5  9.   9.5\n",
      " 10.  10.5 11.  11.5 12.  12.5 13.  13.5 14.  14.5 15.  15.5 16.  16.5\n",
      " 17.  17.5 18.  18.5 19.  19.5 20.  20.5 21.  21.5 22.  22.5 23.  23.5\n",
      " 24.  24.5 25.  25.5 26.  26.5 27.  27.5 28.  28.5 29.  29.5 30. ]\n"
     ]
    },
    {
     "data": {
      "application/vnd.jupyter.widget-view+json": {
       "model_id": "54b37f4e45a547229659fda145e676ee",
       "version_major": 2,
       "version_minor": 0
      },
      "text/plain": [
       "  0%|          | 0/69 [00:00<?, ?it/s]"
      ]
     },
     "metadata": {},
     "output_type": "display_data"
    },
    {
     "name": "stdout",
     "output_type": "stream",
     "text": [
      "CPU times: user 9min 44s, sys: 171 ms, total: 9min 44s\n",
      "Wall time: 9min 45s\n"
     ]
    }
   ],
   "source": [
    "%%time\n",
    "communities_by_resolution =  dict(zip(range(2018,2022),[{},{},{},{}]))\n",
    "resolutions = np.append(np.arange(0,1,0.1),np.arange(1,30.5,0.5))\n",
    "print(resolutions)\n",
    "for r in tqdm(resolutions):\n",
    "    for g,year in zip(networks,range(2018,2022)):\n",
    "        communities_by_resolution[year][r] = get_louvain_communities(g,resolution=r)"
   ]
  },
  {
   "cell_type": "code",
   "execution_count": 6,
   "id": "4b1216c6-2a57-4db5-bec5-4dba65714fad",
   "metadata": {},
   "outputs": [],
   "source": [
    "#Classify Communities\n",
    "communities_statistics = {}\n",
    "for (year,comms), g in  zip(communities_by_resolution.items(), networks):\n",
    "    communities_statistics[year] = {\"N_communities\":    [len(x) for x in comms.values()],\n",
    "                                    \"Avg_comm_size\":    [np.average([len(y) for y in x]) for x in comms.values()],\n",
    "                                    \"Sigma_comm_size\":  [np.std([len(y) for y in x]) for x in comms.values()],\n",
    "                                    \"Median_comm_size\": [np.median([len(y) for y in x]) for x in comms.values()],\n",
    "                                    \"Modularity_score\": [nx_comm.modularity(g,c,resolution=r, weight='weight') for r,c in list(comms.items())]}"
   ]
  },
  {
   "cell_type": "code",
   "execution_count": 9,
   "id": "5454339a-a632-488a-b019-20209617a1e7",
   "metadata": {},
   "outputs": [],
   "source": [
    "# Export Data\n",
    "import json\n",
    "with open(\"data/louvain_communities.json\", \"w\") as f:\n",
    "    json.dump(communities_by_resolution,f)\n",
    "with open(\"data/louvain_communities_statistics.json\", \"w\") as f:\n",
    "    json.dump(communities_statistics,f)"
   ]
  },
  {
   "cell_type": "markdown",
   "id": "df01afcb-5ef8-4a9a-9b64-1f92c8b9c296",
   "metadata": {},
   "source": [
    "## Visualize Data\n",
    "---"
   ]
  },
  {
   "cell_type": "code",
   "execution_count": 8,
   "id": "0221454b-4549-4fc2-8712-2887ea900c79",
   "metadata": {},
   "outputs": [],
   "source": [
    "#Import data\n",
    "import json\n",
    "def keystoint(x):\n",
    "    return {int(k): v for k, v in x.items()}\n",
    "with open(\"data/louvain_communities_statistics.json\", \"r\") as f:\n",
    "    communities_statistics = json.load(f,)\n",
    "with open(\"data/louvain_communities.json\", \"r\") as f:\n",
    "    communities_by_resolution = json.load(f)\n",
    "\n",
    "# resolutions = np.append(np.arange(0,1,0.1),np.arange(1,20,0.5))"
   ]
  },
  {
   "cell_type": "code",
   "execution_count": 8,
   "id": "457ce752-dbcc-482c-b96b-7b0a320e9a1f",
   "metadata": {},
   "outputs": [
    {
     "data": {
      "image/png": "[encoded data removed]",
      "text/plain": [
       "<Figure size 246.614x123.307 with 1 Axes>"
      ]
     },
     "metadata": {
      "needs_background": "light"
     },
     "output_type": "display_data"
    }
   ],
   "source": [
    "#Visualize statistics\n",
    "colors = ['#EE7732', '#33BBEE',  '#EE3377',  '#0077BB']\n",
    "colors = dict(zip(range(2018,2022),colors))\n",
    "\n",
    "plt.rcParams.update({'font.size': 6})\n",
    "plt.rc('xtick', labelsize=6)    # fontsize of the tick labels\n",
    "plt.rc('ytick', labelsize=6)    \n",
    "plt.rc('axes', titlesize=6)    \n",
    "\n",
    "\n",
    "cm = 1/2.54\n",
    "fig,ax = plt.subplots(ncols=1,nrows=1,figsize=(8.7*cm,0.5*8.7*cm),sharex=True)\n",
    "fig.text(0.5, 0.00, 'Resolution Parameter', ha='center')\n",
    "\n",
    "# ax[0].set(ylabel=\"Modularity score\",yscale=\"linear\")\n",
    "ax.set(ylabel=\"Number of communities\")\n",
    "# # ax[0,1].set(xlabel=\"Resolution parameter\", ylabel=\"Median community size\")\n",
    "# ax[2].set( ylabel=\"Average community size\",yscale=\"log\")\n",
    "# ax[3].set( ylabel=\"Std community size\",yscale=\"linear\")\n",
    "for year, data in communities_statistics.items():\n",
    "    # ax[0].plot(resolutions[1:],data[\"Modularity_score\"][1:],label=year, marker='o', ms=1.5, color = colors[int(year)])\n",
    "    # ax.plot(resolutions[1:],data[\"N_communities\"][1:],label=year, marker='o', ms=1.5,alpha=0.8, color = colors[int(year)])\n",
    "    # ax[0,1].plot(resolutions,data[\"Median_comm_size\"],label=year, marker='o', ms=3, color = colors[int(year)])\n",
    "    # ax[2].plot(resolutions[1:],data[\"Avg_comm_size\"][1:],label=year, marker='o', ms=1.5, color = colors[int(year)])\n",
    "    # ax[3].plot(resolutions[1:],data[\"Sigma_comm_size\"][1:],label=year, marker='o', ms=1.5, color = colors[int(year)])\n",
    "    x = list(communities_by_resolution[year].keys())\n",
    "    y = data[\"N_communities\"]\n",
    "    \n",
    "    x,y = list(zip(*sorted(list(zip(x,y)),key=lambda x: x[0])))\n",
    "    ax.plot(x,y,label=year, marker='o', ms=1.5,alpha=0.8, color = colors[int(year)])\n",
    "             \n",
    "\n",
    "# for a in ax.flatten():\n",
    "ax.grid()\n",
    "ax.set(xlim=(0,30),ylim=(0,ax.get_ylim()[1]))\n",
    "    # a.set_xticks(a.get_xticks())\n",
    "    # a.set_xticklabels(a.get_xticklabels(),fontdict={\"fontsize\":6})\n",
    "    # a.legend()\n",
    "# ax[0,0].grid()\n",
    "# ax[0,1].grid()\n",
    "ax.legend(ncol=4,bbox_to_anchor=(0.5,1),loc=\"lower center\",frameon=False)\n",
    "# ax[0,1].legend()\n",
    "plt.tight_layout()\n",
    "plt.savefig(\"images/louvain_community_N.pdf\")\n",
    "# plt.savefig(\"modularity_community_statistics.png\",dpi=200)\n"
   ]
  },
  {
   "cell_type": "code",
   "execution_count": 30,
   "id": "619ffd7f-09d5-499c-ae64-c29688a11b70",
   "metadata": {},
   "outputs": [
    {
     "name": "stdout",
     "output_type": "stream",
     "text": [
      "\\SI{8.499(0.069)}{} & \\SI{-4.157(1.128)}{} & 0.9978\\\\\n",
      "\\SI{8.665(0.078)}{} & \\SI{-5.556(1.274)}{} & 0.9973\\\\\n",
      "\\SI{8.114(0.069)}{} & \\SI{-3.722(1.127)}{} & 0.9976\\\\\n",
      "\\SI{7.898(0.063)}{} & \\SI{-2.166(1.028)}{} & 0.9979\\\\\n"
     ]
    }
   ],
   "source": [
    "from scipy.stats import linregress\n",
    "\n",
    "fits = []\n",
    "for year, data in communities_statistics.items():\n",
    "    fits.append(linregress(resolutions, data[\"N_communities\"]))\n",
    "    #print(fits[-1])\n",
    "    print(f\"\\\\SI{{{fits[-1].slope:.3f}({fits[-1].stderr:.3f})}}{{}} & \\\\SI{{{fits[-1].intercept:.3f}({fits[-1].intercept_stderr:.3f})}}{{}} & {fits[-1].rvalue:.4f}\\\\\\\\\")#, str(fits[-1].intercept),str(fits[-1].pvalue)]))"
   ]
  },
  {
   "cell_type": "code",
   "execution_count": 7,
   "id": "fdce4df1-1bfc-4d7f-8332-488394ff3374",
   "metadata": {
    "tags": []
   },
   "outputs": [],
   "source": [
    "# Find matching communities\n",
    "def enumerate_simmilarity(d1,d2):\n",
    "    scores = []\n",
    "    simmilarity = lambda d,d1: len(d1.keys() & d.keys()) * sum([d1[c]*d[c]/(1+abs(d1[c]-d[c])) for c in (d1.keys() & d.keys())])\n",
    "    for d in d1:\n",
    "        scores.append([simmilarity(d,dd) for dd in d2])\n",
    "        \n",
    "    scores = np.array(scores,dtype=float)\n",
    "    best = np.full(len(d1),-1)\n",
    "        \n",
    "    for i in range(len(d1)):\n",
    "        index = np.unravel_index(scores.argmax(),scores.shape)\n",
    "        best[index[0]] = index[1]\n",
    "        scores[index[0]] = -1\n",
    "        scores[:,index[1]] = -1\n",
    "     \n",
    "    return list(zip(best,d1))\n"
   ]
  },
  {
   "cell_type": "code",
   "execution_count": 9,
   "id": "97fe87f0-b904-4c78-9066-e543d5792196",
   "metadata": {
    "collapsed": true,
    "jupyter": {
     "outputs_hidden": true,
     "source_hidden": true
    },
    "scrolled": true,
    "tags": []
   },
   "outputs": [
    {
     "data": {
      "image/png": "[encoded data removed]",
      "text/plain": [
       "<Figure size 504.567x198.425 with 1 Axes>"
      ]
     },
     "metadata": {
      "needs_background": "light"
     },
     "output_type": "display_data"
    }
   ],
   "source": [
    "colors = ['#BBBBBB', '#EE7732', '#33BBEE', '#CC3311', '#009988', '#EE3377',  '#0077BB','#DDAA33', '#999933']\n",
    "areas  = ['Educação', 'Artes e Arquitetura',\n",
    "          'Humanidades', 'Direito, Ciências Sociais e do Comportamento', 'Ciências Empresariais', \n",
    "          'Ciências da Vida', 'Ciências Exatas', 'Serviços Sociais e Pessoais', 'Saúde']\n",
    "areas_en  = ['Education', 'Arts and Architecture',\n",
    "          'Human Sciences', 'Social and Behavioral Sciences; Law', 'Business Sciences', \n",
    "          'Life Sciences', 'Exact Sciences', 'Social and Personal Services', 'Health']\n",
    "areas_en=dict(zip(areas,areas_en))\n",
    "area_colors = dict(zip(areas,colors))\n",
    "# plt.rcparams()\n",
    "plt.rcParams.update({'font.size': 9})\n",
    "\n",
    "\n",
    "x0 = 0\n",
    "\n",
    "cm = 1/2.54\n",
    "fig,ax = plt.subplots(figsize=(17.8*cm,7*cm))\n",
    "\n",
    "areas_in_comm = []\n",
    "for n, G in enumerate(networks):\n",
    "    comm = [[G.nodes[y][\"area\"] for y in x] for x in louvain_comms[G.graph[\"year\"]]]\n",
    "    areas_in_comm.append([{area: a.count(area) for area in list(set(a))} for a in comm])\n",
    "    \n",
    "max_idx = areas_in_comm.index(max(areas_in_comm, key = len))\n",
    "max_comms = max(areas_in_comm, key = len)\n",
    "max_comms_enum = list(enumerate(max_comms))\n",
    "\n",
    "for i in range(0,4):\n",
    "    if i == max_idx: \n",
    "        areas_in_comm[i] = max_comms_enum\n",
    "        continue\n",
    "    areas_in_comm[i] = enumerate_simmilarity(areas_in_comm[i], max_comms)\n",
    "    \n",
    "for n, (G,areas_year) in enumerate(zip(networks,areas_in_comm)):\n",
    "    y_offset = 0\n",
    "    for i,area in areas_year:\n",
    "        y_offset = 0\n",
    "        parts = list(area.items())\n",
    "        parts.sort(reverse=True,key = lambda x: x[1])\n",
    "        for j,(a,count) in enumerate(parts):\n",
    "            ax.bar(x0 + i*5+n,count,bottom=y_offset,color=area_colors[a],label=areas_en[a])\n",
    "            y_offset += count\n",
    "\n",
    "years = list(range(2018,2022))*len(max_comms)\n",
    "idx = [x0 + i*5 + j for i in range(len(max_comms)) for j in range(4)]        \n",
    "            \n",
    "ax.set_xticks(idx)\n",
    "ax.set_xticklabels(years, rotation=65, fontdict={\"fontsize\":6})\n",
    "\n",
    "ax.set(xlim=(-1,ax.get_xlim()[1]-1))\n",
    "\n",
    "# ax.set_title(f\"Resolution parameter = {resolutions[resolution_index]}\", fontdict={\"fontsize\":8})\n",
    "\n",
    "ax.set_ylabel(f\"Number of elements\", fontdict={\"fontsize\":8})\n",
    "handles, labels = plt.gca().get_legend_handles_labels()\n",
    "by_label = dict(zip(labels, handles))\n",
    "ax.legend(by_label.values(), by_label.keys(),bbox_to_anchor=(1,1), loc=\"upper right\",\n",
    "            fontsize=7, markerfirst=False, frameon=False)\n",
    "\n",
    "plt.tight_layout()\n",
    "plt.savefig(\"comm.pdf\")"
   ]
  },
  {
   "cell_type": "code",
   "execution_count": 51,
   "id": "01ce415a-22e5-41db-b66d-2ebe523e3497",
   "metadata": {},
   "outputs": [],
   "source": [
    "# Find matching communities NEW\n",
    "def enumerate_simmilarity(enum, min_courses, max_courses):\n",
    "    scores = []\n",
    "    simmilarity = lambda x, y: len(set(x) & set(y))**2 /(1 + len(set(x) - set(y)) + len(set(y) - set(x)))\n",
    "    for comm1 in min_courses:\n",
    "        scores.append([simmilarity(comm1,comm2) for comm2 in max_courses])\n",
    "        \n",
    "    scores = np.array(scores,dtype=float)\n",
    "    best = np.full(len(min_courses),-1)\n",
    "        \n",
    "    for i in range(len(min_courses)):\n",
    "        index = np.unravel_index(scores.argmax(),scores.shape)\n",
    "        best[index[0]] = index[1]\n",
    "        scores[index[0]] = -1e6\n",
    "        scores[:,index[1]] = -1e6\n",
    "     \n",
    "    return list(zip(best,enum))"
   ]
  },
  {
   "cell_type": "code",
   "execution_count": 57,
   "id": "af85f48f-c429-4d03-9e34-fd8529c92fea",
   "metadata": {},
   "outputs": [
    {
     "data": {
      "image/png": "[encoded data removed]",
      "text/plain": [
       "<Figure size 504.567x297.638 with 6 Axes>"
      ]
     },
     "metadata": {
      "needs_background": "light"
     },
     "output_type": "display_data"
    }
   ],
   "source": [
    "colors = ['#BBBBBB', '#EE7732', '#33BBEE', '#CC3311', '#009988', '#EE3377',  '#0077BB','#DDAA33', '#999933']\n",
    "areas  = ['Educação', 'Artes e Arquitetura',\n",
    "          'Humanidades', 'Direito, Ciências Sociais e do Comportamento', 'Ciências Empresariais', \n",
    "          'Ciências da Vida', 'Ciências Exatas', 'Serviços Sociais e Pessoais', 'Saúde']\n",
    "areas_en  = ['Education', 'Arts and Architecture',\n",
    "          'Human Sciences', 'Social and Behavioral Sciences; Law', 'Business Sciences', \n",
    "          'Life Sciences', 'Exact Sciences', 'Social and Personal Services', 'Health']\n",
    "areas_en=dict(zip(areas,areas_en))\n",
    "area_colors = dict(zip(areas,colors))\n",
    "plt.rcParams.update({'font.size': 9})\n",
    "\n",
    "\n",
    "x0 = 0\n",
    "\n",
    "cm = 1/2.54\n",
    "\n",
    "mosaic = \"\"\"\n",
    "EEEAAABBB\n",
    "CCCCFFFFF\n",
    "DDDDDDDDD\n",
    "\"\"\"\n",
    "fig = plt.figure(constrained_layout=False, figsize=(17.8*cm,3*3.5*cm))\n",
    "ax_dict = fig.subplot_mosaic(mosaic)\n",
    "\n",
    "for ax,resolution_index in zip(ax_dict.values(),[0,2,6,10,11,12]):\n",
    "    areas_in_comm = {}\n",
    "    for G in networks:\n",
    "        comm = [[G.nodes[y][\"area\"] for y in x] for x in communities_by_resolution[G.graph[\"year\"]][resolution_index]]\n",
    "        areas_in_comm[G.graph[\"year\"]] = [{area: a.count(area) for area in list(set(a))} for a in comm]\n",
    "\n",
    "\n",
    "    max_idx = max(areas_in_comm, key = lambda x: len(areas_in_comm.get(x)))\n",
    "    max_comms_enum = list(enumerate(areas_in_comm[max_idx]))\n",
    "\n",
    "    max_comms = communities_by_resolution[max_idx][resolution_index]\n",
    "    \n",
    "    for (year, count), courses in zip(areas_in_comm.items(),list(communities_by_resolution.values())):\n",
    "        if year == max_idx: \n",
    "            areas_in_comm[year] = max_comms_enum\n",
    "            continue\n",
    "        areas_in_comm[year] = enumerate_simmilarity(areas_in_comm[year], courses[resolution_index], max_comms)\n",
    "\n",
    "    for n, (G,areas_year) in enumerate(zip(networks,areas_in_comm.values())):\n",
    "        y_offset = 0\n",
    "        for i,area in areas_year:\n",
    "            y_offset = 0\n",
    "            parts = list(area.items())\n",
    "            parts.sort(reverse=True,key = lambda x: x[1])\n",
    "            for j,(a,count) in enumerate(parts):\n",
    "                ax.bar(x0 + i*5+n,count,bottom=y_offset,color=area_colors[a],label=areas_en[a])\n",
    "                y_offset += count\n",
    "\n",
    "    years = list(range(18,22))*len(max_comms)\n",
    "    idx = [x0 + i*5 + j for i in range(len(max_comms)) for j in range(4)]        \n",
    "    idx_minor = [x0 + i*5 + 4 for i in range(len(max_comms)-1) for j in range(4)]        \n",
    "\n",
    "    ax.set_xticks(idx_minor,minor=True)\n",
    "    ax.set_xticks(idx,minor=False)\n",
    "    ax.tick_params(which=\"minor\",axis=\"x\",direction=\"in\")\n",
    "    ax.set_xticklabels(years, rotation=70, fontdict={\"fontsize\":6})\n",
    "\n",
    "    ax.set(xlim=(-1,idx[-1]+1))\n",
    "    ax.spines['right'].set_visible(False)\n",
    "    ax.spines['top'].set_visible(False)\n",
    "\n",
    "\n",
    "    ax.set_title(f\"Resolution parameter = {resolutions[resolution_index]:.1f}\", fontdict={\"fontsize\":8})\n",
    "\n",
    "# axes[1].set_ylabel(f\"Number of elements\", fontdict={\"fontsize\":8})\n",
    "fig.text(0.0, 0.50, 'Number of elements', va='center',ha='left',rotation=90)\n",
    "handles, labels = plt.gca().get_legend_handles_labels()\n",
    "handles, labels = zip(*sorted(list(zip(handles,labels)),key=lambda x: x[1],reverse = True))\n",
    "by_label = dict(zip(labels, handles))\n",
    "\n",
    "fig.legend(by_label.values(), by_label.keys(), ncol = 5,loc=\"upper left\", #bbox_to_anchor=(0,1.1), \n",
    "            fontsize=7, markerfirst=True, frameon=False,  borderaxespad=0,mode=\"expand\")\n",
    "\n",
    "plt.tight_layout()\n",
    "plt.subplots_adjust(top=0.87)\n",
    "plt.savefig(\"images/louvain_communities_by_field.pdf\")"
   ]
  },
  {
   "cell_type": "code",
   "execution_count": null,
   "id": "81d77f8d-e261-406f-8b60-95a6eccd1139",
   "metadata": {},
   "outputs": [],
   "source": []
  }
 ],
 "metadata": {
  "kernelspec": {
   "display_name": "Python 3 (ipykernel)",
   "language": "python",
   "name": "python3"
  },
  "language_info": {
   "codemirror_mode": {
    "name": "ipython",
    "version": 3
   },
   "file_extension": ".py",
   "mimetype": "text/x-python",
   "name": "python",
   "nbconvert_exporter": "python",
   "pygments_lexer": "ipython3",
   "version": "3.9.7"
  }
 },
 "nbformat": 4,
 "nbformat_minor": 5
}
