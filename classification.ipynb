{
 "cells": [
  {
   "cell_type": "code",
   "execution_count": 220,
   "id": "61f2e966-196a-408f-beb2-3d32824fa4ad",
   "metadata": {},
   "outputs": [],
   "source": [
    "import networkx as nx\n",
    "from networkx.readwrite.gml import write_gml, read_gml\n",
    "from networkx.readwrite.graphml import write_graphml, read_graphml\n",
    "from networkx.algorithms.community.centrality import girvan_newman\n",
    "from networkx.algorithms.community import lukes_partitioning\n",
    "from tabulate import tabulate\n",
    "import json\n",
    "import matplotlib.pyplot as plt\n",
    "import numpy as np\n",
    "import math\n",
    "import collections\n",
    "import powerlaw\n",
    "import sys"
   ]
  },
  {
   "cell_type": "code",
   "execution_count": 3,
   "id": "3ee2c4f9-4faf-4e31-974c-77126ac8afe8",
   "metadata": {},
   "outputs": [],
   "source": [
    "def create_network(year):\n",
    "    #Load data set\n",
    "    with open(f\"data/courses_{year}.json\",\"r\") as f:\n",
    "        courses = json.load(f)\n",
    "    #Build network    \n",
    "    \n",
    "    G = nx.Graph(year=year)\n",
    "    for c in courses:\n",
    "        if c[\"grade\"]>0:\n",
    "            G.add_node(f'{c[\"faculty\"][\"code\"]}_{c[\"code\"]}',name=c[\"name\"],\n",
    "                       faculty_name=c[\"faculty\"][\"name\"],faculty_type=c[\"faculty\"][\"type\"],\n",
    "                       candidates=c[\"candidates\"],accepted=c[\"Accepted\"],vagas=c[\"vagas\"],grade=c[\"grade\"])\n",
    "    #Drop isolates\n",
    "    G.remove_nodes_from(list(nx.isolates(G)))\n",
    "    for c in courses:\n",
    "        for code in c[\"edges\"].keys():\n",
    "            G.add_edge(f'{c[\"faculty\"][\"code\"]}_{c[\"code\"]}',code,weight = c[\"edges\"][code],weight_1 = 1/c[\"edges\"][code])\n",
    "    return G"
   ]
  },
  {
   "cell_type": "code",
   "execution_count": 4,
   "id": "1a8dee7c-d443-4779-94e0-2ecd6e522d0e",
   "metadata": {},
   "outputs": [],
   "source": [
    "def export_network(G):\n",
    "    if year := G.graph[\"year\"]:\n",
    "        write_graphml(G,f\"networks/graph_{year}.graphml\")"
   ]
  },
  {
   "cell_type": "code",
   "execution_count": 130,
   "id": "89d4ede5-c4da-4592-8eaf-896795c950b4",
   "metadata": {},
   "outputs": [],
   "source": [
    "G = create_network(2018)\n",
    "export_network(G)"
   ]
  },
  {
   "cell_type": "code",
   "execution_count": 131,
   "id": "a45500e0-ddb9-4eb7-93a4-d59ad3dd3765",
   "metadata": {},
   "outputs": [],
   "source": [
    "H = create_network(2019)\n",
    "export_network(H)"
   ]
  },
  {
   "cell_type": "code",
   "execution_count": 132,
   "id": "852daba0-4483-4a99-bce2-1f203d10ee8a",
   "metadata": {},
   "outputs": [],
   "source": [
    "I = create_network(2020)\n",
    "export_network(I)"
   ]
  },
  {
   "cell_type": "code",
   "execution_count": 133,
   "id": "16dee006-fa9b-441b-b742-2c0078509e6a",
   "metadata": {},
   "outputs": [],
   "source": [
    "J = create_network(2021)\n",
    "export_network(J)"
   ]
  },
  {
   "cell_type": "code",
   "execution_count": 12,
   "id": "26fcc8c6-17c1-41fc-a94a-7ec62db388f4",
   "metadata": {},
   "outputs": [],
   "source": [
    "def plot_degree_distribution(G):\n",
    "    degrees = [G.degree(n, weight='weight') for n in G.nodes()]\n",
    "    #print(len(degrees))\n",
    "    plt.hist(degrees, bins=int(1+3.322*math.log(len(G.nodes())))) #Sturge's rule for number of bins\n",
    "    plt.xlabel('Degree')\n",
    "    plt.ylabel('Probability')\n",
    "    plt.show()"
   ]
  },
  {
   "cell_type": "code",
   "execution_count": 135,
   "id": "6fcd4f98-6b2a-41f1-9dc8-d53fa8bf8ddc",
   "metadata": {},
   "outputs": [
    {
     "data": {
      "image/png": "[encoded data removed]",
      "text/plain": [
       "<Figure size 432x288 with 1 Axes>"
      ]
     },
     "metadata": {
      "needs_background": "light"
     },
     "output_type": "display_data"
    }
   ],
   "source": [
    "plot_degree_distribution(G)"
   ]
  },
  {
   "cell_type": "code",
   "execution_count": 259,
   "id": "877c63ad-c7ca-4067-9cc3-347380b7fd80",
   "metadata": {},
   "outputs": [],
   "source": [
    "\n",
    "def degree_distribution_prob(LG, cdf = False, ax=None):\n",
    "    colors = ['#EE7732', '#33BBEE',  '#EE3377',  '#0077BB']\n",
    "    \n",
    "    for i in range(len(LG)):\n",
    "        degree_sequence = sorted([d for n, d in LG[i].degree(weight='weight')], reverse=True)  # degree sequence\n",
    "        degreeCount = collections.Counter(degree_sequence)\n",
    "        deg, cnt = zip(*degreeCount.items())\n",
    "        if cdf:\n",
    "            cnt = np.cumsum(cnt)\n",
    "        frac = [n/LG[i].number_of_nodes() for n in cnt]\n",
    "        ax.plot(deg, frac, 'o', markersize=2, c=colors[i])\n",
    "    \n",
    "    ax.set(xscale='linear', yscale='log', xlabel=\"$k$\", ylabel=\"$P_{cum}(k)$\", \n",
    "           xlim=(0,ax.get_xlim()[1]))\n",
    "    #plt.plot(deg, frac, 'o')\n",
    "    #ax.xscale(\"linear\")\n",
    "    #ax.yscale(\"log\")\n",
    "#    ax.ylabel(\"$P_{cum}(k)$\")\n",
    "#    ax.xlabel(\"$k$\")\n",
    "    ax.grid()\n",
    "    plt.rcParams.update({'font.size': 6})\n",
    "    plt.rc('xtick', labelsize=6)    # fontsize of the tick labels\n",
    "    plt.rc('ytick', labelsize=6)    \n",
    "    plt.rc('axes', titlesize=6)  \n",
    "    ax.legend([\"2018\", \"2019\", \"2020\", \"2021\"]) #update title\n",
    "    plt.tight_layout()\n",
    "    plt.savefig('deg_distribution.pdf')"
   ]
  },
  {
   "cell_type": "code",
   "execution_count": 265,
   "id": "9596bbbb-1225-4c2c-acea-e7fe0ad33779",
   "metadata": {},
   "outputs": [
    {
     "data": {
      "image/png": "[encoded data removed]",
      "text/plain": [
       "<Figure size 246.614x170.079 with 1 Axes>"
      ]
     },
     "metadata": {
      "needs_background": "light"
     },
     "output_type": "display_data"
    }
   ],
   "source": [
    "LG = [G, H, I, J]\n",
    "cm = 1/2.54\n",
    "fig ,ax = plt.subplots(figsize=(8.7*cm, 6*cm))\n",
    "degree_distribution_prob(LG,  cdf=True, ax=ax)"
   ]
  },
  {
   "cell_type": "code",
   "execution_count": 83,
   "id": "466035e4-968d-4ac4-9efc-704b18f4f72a",
   "metadata": {},
   "outputs": [],
   "source": [
    "def powerlaw_fit(LG):\n",
    "    plt.figure(figsize=(10, 6))\n",
    "    plt.xticks()\n",
    "    plt.yticks()\n",
    "    for i in range(len(LG)):\n",
    "        degree_sequence = sorted([d for n, d in LG[i].degree(weight='weight')], reverse=True)  # degree sequence\n",
    "        fit = powerlaw.Fit(degree_sequence, discrete = True) \n",
    "        alpha = fit.power_law.alpha #coeficiente\n",
    "        print(\"Coef for year %d : %.4f \" %(2021-i, alpha))\n",
    "        fit.plot_pdf(linewidth=1)\n",
    "        print(\"xmin : %.4f \" % fit.find_xmin())\n",
    "    plt.ylabel(\"Probability\")\n",
    "    plt.xlabel(\"Degree\")\n",
    "    plt.legend([\"2021\", \"2020\", \"2019\", \"2018\"]) #update title   "
   ]
  },
  {
   "cell_type": "code",
   "execution_count": 64,
   "id": "ef223b6e-a42b-47ed-bd45-a0280b411f86",
   "metadata": {},
   "outputs": [
    {
     "name": "stdout",
     "output_type": "stream",
     "text": [
      "Calculating best minimal value for power law fit\n",
      "Coef for year 2021 : 3.8330 \n",
      "xmin : 3327.0000 %\n",
      "Calculating best minimal value for power law fit\n",
      "Coef for year 2020 : 3.0761 \n",
      "xmin : 1846.0000 %\n",
      "Calculating best minimal value for power law fit\n",
      "Coef for year 2019 : 3.0863 \n",
      "xmin : 1397.0000 %\n",
      "Calculating best minimal value for power law fit\n",
      "Coef for year 2018 : 3.0854 \n",
      "xmin : 1318.0000 %\n"
     ]
    },
    {
     "data": {
      "image/png": "[encoded data removed]",
      "text/plain": [
       "<Figure size 720x432 with 1 Axes>"
      ]
     },
     "metadata": {
      "needs_background": "light"
     },
     "output_type": "display_data"
    }
   ],
   "source": [
    "powerlaw_fit(LG)"
   ]
  },
  {
   "cell_type": "code",
   "execution_count": 301,
   "id": "7054c1d6-cd31-4e34-9ecd-9b272160d691",
   "metadata": {},
   "outputs": [],
   "source": [
    "def powerlaw_compare(G, ax=ax):\n",
    "    colors = ['#EE7732', '#33BBEE',  '#EE3377',  '#0077BB']\n",
    "    degree_sequence = sorted([d for n, d in G.degree(weight='weight')], reverse=True)  # degree sequence\n",
    "    fit = powerlaw.Fit(degree_sequence, discrete = True) \n",
    "    alpha = fit.power_law.alpha #coeficiente\n",
    "    #fig = fit.plot_ccdf( linewidth=1) #plotting the powerlaw fit \n",
    "    fit.distribution_compare('power_law', 'lognormal')\n",
    "    ax = fit.plot_ccdf(linewidth=3, color= colors[0], label = 'alpha')\n",
    "    fit.power_law.plot_ccdf(ax=ax, color=colors[1], linestyle='--') #powerlaw\n",
    "    fit.stretched_exponential.plot_ccdf(ax=ax, color=colors[2], linestyle='--') #stretched_exponential\n",
    "    ax.set(xscale='log', yscale='log', xlabel=\"$k$\", ylabel=\"$P_{cum}(k)$\")\n",
    "    plt.rcParams.update({'font.size': 6})\n",
    "    plt.rc('xtick', labelsize=6)    # fontsize of the tick labels\n",
    "    plt.rc('ytick', labelsize=6)    \n",
    "    plt.rc('axes', titlesize=6)  \n",
    "    ax.grid(True, which = \"minor\")\n",
    "    plt.tight_layout()\n",
    "    string= \"\\u03B1 = %.3f \" % (alpha)\n",
    "    #ax.text(9*1e+3, 0.9, string, fontsize=6)\n",
    "    #plt.label(\"$alpha$ = .4%f\" & alpha)\n",
    "    plt.legend([\"Prob. distribution\", \"Powerlaw\", \"Stretched exp.\"]) #update title\n",
    "    plt.savefig('2021_powerlaw.pdf')"
   ]
  },
  {
   "cell_type": "code",
   "execution_count": 302,
   "id": "bf9251fe-2186-42b2-b87a-79889bee307f",
   "metadata": {},
   "outputs": [
    {
     "name": "stdout",
     "output_type": "stream",
     "text": [
      "Calculating best minimal value for power law fit\n",
      "xmin progress: 99%\r"
     ]
    },
    {
     "data": {
      "image/png": "[encoded data removed]",
      "text/plain": [
       "<Figure size 246.614x170.079 with 1 Axes>"
      ]
     },
     "metadata": {
      "needs_background": "light"
     },
     "output_type": "display_data"
    }
   ],
   "source": [
    "fig ,ax = plt.subplots(figsize=(8.7*cm, 6*cm))\n",
    "powerlaw_compare(J, ax=ax)\n"
   ]
  },
  {
   "cell_type": "code",
   "execution_count": null,
   "id": "2b3485a1-ebcc-4eda-b589-60f0e0aab56a",
   "metadata": {},
   "outputs": [],
   "source": [
    "def average_degree(LG):\n",
    "    av_degree=[]\n",
    "    for i in range(len(LG)):\n",
    "        degrees = sum([LG[i].degree(n, weight='weight') for n in LG[i].nodes()])\n",
    "        n_nodes = len(LG[i].nodes())\n",
    "        av_degree = np.append(av_degree, degrees/n_nodes)\n",
    "    return av_degree"
   ]
  },
  {
   "cell_type": "code",
   "execution_count": 37,
   "id": "a133ee16-7e3b-47e3-870e-cab0767f5293",
   "metadata": {},
   "outputs": [
    {
     "data": {
      "text/plain": [
       "array([1243.27511737, 1214.81091251,  962.98484848,  957.86829727])"
      ]
     },
     "execution_count": 37,
     "metadata": {},
     "output_type": "execute_result"
    }
   ],
   "source": [
    "average_degree(LG)"
   ]
  },
  {
   "cell_type": "code",
   "execution_count": 24,
   "id": "cc751d80-04b3-4bfa-ba23-dfa1c79b82f3",
   "metadata": {},
   "outputs": [
    {
     "ename": "KeyboardInterrupt",
     "evalue": "",
     "output_type": "error",
     "traceback": [
      "\u001b[0;31m---------------------------------------------------------------------------\u001b[0m",
      "\u001b[0;31mKeyboardInterrupt\u001b[0m                         Traceback (most recent call last)",
      "\u001b[0;32m<timed eval>\u001b[0m in \u001b[0;36m<module>\u001b[0;34m\u001b[0m\n",
      "\u001b[0;32m~/opt/anaconda3/lib/python3.8/site-packages/networkx/algorithms/shortest_paths/generic.py\u001b[0m in \u001b[0;36maverage_shortest_path_length\u001b[0;34m(G, weight, method)\u001b[0m\n\u001b[1;32m    400\u001b[0m     \u001b[0;32mif\u001b[0m \u001b[0mmethod\u001b[0m \u001b[0;32min\u001b[0m \u001b[0msingle_source_methods\u001b[0m\u001b[0;34m:\u001b[0m\u001b[0;34m\u001b[0m\u001b[0;34m\u001b[0m\u001b[0m\n\u001b[1;32m    401\u001b[0m         \u001b[0;31m# Sum the distances for each (ordered) pair of source and target node.\u001b[0m\u001b[0;34m\u001b[0m\u001b[0;34m\u001b[0m\u001b[0;34m\u001b[0m\u001b[0m\n\u001b[0;32m--> 402\u001b[0;31m         \u001b[0ms\u001b[0m \u001b[0;34m=\u001b[0m \u001b[0msum\u001b[0m\u001b[0;34m(\u001b[0m\u001b[0ml\u001b[0m \u001b[0;32mfor\u001b[0m \u001b[0mu\u001b[0m \u001b[0;32min\u001b[0m \u001b[0mG\u001b[0m \u001b[0;32mfor\u001b[0m \u001b[0ml\u001b[0m \u001b[0;32min\u001b[0m \u001b[0mpath_length\u001b[0m\u001b[0;34m(\u001b[0m\u001b[0mu\u001b[0m\u001b[0;34m)\u001b[0m\u001b[0;34m.\u001b[0m\u001b[0mvalues\u001b[0m\u001b[0;34m(\u001b[0m\u001b[0;34m)\u001b[0m\u001b[0;34m)\u001b[0m\u001b[0;34m\u001b[0m\u001b[0;34m\u001b[0m\u001b[0m\n\u001b[0m\u001b[1;32m    403\u001b[0m     \u001b[0;32melse\u001b[0m\u001b[0;34m:\u001b[0m\u001b[0;34m\u001b[0m\u001b[0;34m\u001b[0m\u001b[0m\n\u001b[1;32m    404\u001b[0m         \u001b[0;32mif\u001b[0m \u001b[0mmethod\u001b[0m \u001b[0;34m==\u001b[0m \u001b[0;34m\"floyd-warshall\"\u001b[0m\u001b[0;34m:\u001b[0m\u001b[0;34m\u001b[0m\u001b[0;34m\u001b[0m\u001b[0m\n",
      "\u001b[0;32m~/opt/anaconda3/lib/python3.8/site-packages/networkx/algorithms/shortest_paths/generic.py\u001b[0m in \u001b[0;36m<genexpr>\u001b[0;34m(.0)\u001b[0m\n\u001b[1;32m    400\u001b[0m     \u001b[0;32mif\u001b[0m \u001b[0mmethod\u001b[0m \u001b[0;32min\u001b[0m \u001b[0msingle_source_methods\u001b[0m\u001b[0;34m:\u001b[0m\u001b[0;34m\u001b[0m\u001b[0;34m\u001b[0m\u001b[0m\n\u001b[1;32m    401\u001b[0m         \u001b[0;31m# Sum the distances for each (ordered) pair of source and target node.\u001b[0m\u001b[0;34m\u001b[0m\u001b[0;34m\u001b[0m\u001b[0;34m\u001b[0m\u001b[0m\n\u001b[0;32m--> 402\u001b[0;31m         \u001b[0ms\u001b[0m \u001b[0;34m=\u001b[0m \u001b[0msum\u001b[0m\u001b[0;34m(\u001b[0m\u001b[0ml\u001b[0m \u001b[0;32mfor\u001b[0m \u001b[0mu\u001b[0m \u001b[0;32min\u001b[0m \u001b[0mG\u001b[0m \u001b[0;32mfor\u001b[0m \u001b[0ml\u001b[0m \u001b[0;32min\u001b[0m \u001b[0mpath_length\u001b[0m\u001b[0;34m(\u001b[0m\u001b[0mu\u001b[0m\u001b[0;34m)\u001b[0m\u001b[0;34m.\u001b[0m\u001b[0mvalues\u001b[0m\u001b[0;34m(\u001b[0m\u001b[0;34m)\u001b[0m\u001b[0;34m)\u001b[0m\u001b[0;34m\u001b[0m\u001b[0;34m\u001b[0m\u001b[0m\n\u001b[0m\u001b[1;32m    403\u001b[0m     \u001b[0;32melse\u001b[0m\u001b[0;34m:\u001b[0m\u001b[0;34m\u001b[0m\u001b[0;34m\u001b[0m\u001b[0m\n\u001b[1;32m    404\u001b[0m         \u001b[0;32mif\u001b[0m \u001b[0mmethod\u001b[0m \u001b[0;34m==\u001b[0m \u001b[0;34m\"floyd-warshall\"\u001b[0m\u001b[0;34m:\u001b[0m\u001b[0;34m\u001b[0m\u001b[0;34m\u001b[0m\u001b[0m\n",
      "\u001b[0;32m~/opt/anaconda3/lib/python3.8/site-packages/networkx/algorithms/shortest_paths/generic.py\u001b[0m in \u001b[0;36mpath_length\u001b[0;34m(v)\u001b[0m\n\u001b[1;32m    392\u001b[0m     \u001b[0;32mdef\u001b[0m \u001b[0mpath_length\u001b[0m\u001b[0;34m(\u001b[0m\u001b[0mv\u001b[0m\u001b[0;34m)\u001b[0m\u001b[0;34m:\u001b[0m\u001b[0;34m\u001b[0m\u001b[0;34m\u001b[0m\u001b[0m\n\u001b[1;32m    393\u001b[0m         \u001b[0;32mif\u001b[0m \u001b[0mmethod\u001b[0m \u001b[0;34m==\u001b[0m \u001b[0;34m\"unweighted\"\u001b[0m\u001b[0;34m:\u001b[0m\u001b[0;34m\u001b[0m\u001b[0;34m\u001b[0m\u001b[0m\n\u001b[0;32m--> 394\u001b[0;31m             \u001b[0;32mreturn\u001b[0m \u001b[0mnx\u001b[0m\u001b[0;34m.\u001b[0m\u001b[0msingle_source_shortest_path_length\u001b[0m\u001b[0;34m(\u001b[0m\u001b[0mG\u001b[0m\u001b[0;34m,\u001b[0m \u001b[0mv\u001b[0m\u001b[0;34m)\u001b[0m\u001b[0;34m\u001b[0m\u001b[0;34m\u001b[0m\u001b[0m\n\u001b[0m\u001b[1;32m    395\u001b[0m         \u001b[0;32melif\u001b[0m \u001b[0mmethod\u001b[0m \u001b[0;34m==\u001b[0m \u001b[0;34m\"dijkstra\"\u001b[0m\u001b[0;34m:\u001b[0m\u001b[0;34m\u001b[0m\u001b[0;34m\u001b[0m\u001b[0m\n\u001b[1;32m    396\u001b[0m             \u001b[0;32mreturn\u001b[0m \u001b[0mnx\u001b[0m\u001b[0;34m.\u001b[0m\u001b[0msingle_source_dijkstra_path_length\u001b[0m\u001b[0;34m(\u001b[0m\u001b[0mG\u001b[0m\u001b[0;34m,\u001b[0m \u001b[0mv\u001b[0m\u001b[0;34m,\u001b[0m \u001b[0mweight\u001b[0m\u001b[0;34m=\u001b[0m\u001b[0mweight\u001b[0m\u001b[0;34m)\u001b[0m\u001b[0;34m\u001b[0m\u001b[0;34m\u001b[0m\u001b[0m\n",
      "\u001b[0;32m~/opt/anaconda3/lib/python3.8/site-packages/networkx/algorithms/shortest_paths/unweighted.py\u001b[0m in \u001b[0;36msingle_source_shortest_path_length\u001b[0;34m(G, source, cutoff)\u001b[0m\n\u001b[1;32m     57\u001b[0m         \u001b[0mcutoff\u001b[0m \u001b[0;34m=\u001b[0m \u001b[0mfloat\u001b[0m\u001b[0;34m(\u001b[0m\u001b[0;34m\"inf\"\u001b[0m\u001b[0;34m)\u001b[0m\u001b[0;34m\u001b[0m\u001b[0;34m\u001b[0m\u001b[0m\n\u001b[1;32m     58\u001b[0m     \u001b[0mnextlevel\u001b[0m \u001b[0;34m=\u001b[0m \u001b[0;34m{\u001b[0m\u001b[0msource\u001b[0m\u001b[0;34m:\u001b[0m \u001b[0;36m1\u001b[0m\u001b[0;34m}\u001b[0m\u001b[0;34m\u001b[0m\u001b[0;34m\u001b[0m\u001b[0m\n\u001b[0;32m---> 59\u001b[0;31m     \u001b[0;32mreturn\u001b[0m \u001b[0mdict\u001b[0m\u001b[0;34m(\u001b[0m\u001b[0m_single_shortest_path_length\u001b[0m\u001b[0;34m(\u001b[0m\u001b[0mG\u001b[0m\u001b[0;34m.\u001b[0m\u001b[0madj\u001b[0m\u001b[0;34m,\u001b[0m \u001b[0mnextlevel\u001b[0m\u001b[0;34m,\u001b[0m \u001b[0mcutoff\u001b[0m\u001b[0;34m)\u001b[0m\u001b[0;34m)\u001b[0m\u001b[0;34m\u001b[0m\u001b[0;34m\u001b[0m\u001b[0m\n\u001b[0m\u001b[1;32m     60\u001b[0m \u001b[0;34m\u001b[0m\u001b[0m\n\u001b[1;32m     61\u001b[0m \u001b[0;34m\u001b[0m\u001b[0m\n",
      "\u001b[0;32m~/opt/anaconda3/lib/python3.8/site-packages/networkx/algorithms/shortest_paths/unweighted.py\u001b[0m in \u001b[0;36m_single_shortest_path_length\u001b[0;34m(adj, firstlevel, cutoff)\u001b[0m\n\u001b[1;32m     89\u001b[0m             \u001b[0;32mreturn\u001b[0m\u001b[0;34m\u001b[0m\u001b[0;34m\u001b[0m\u001b[0m\n\u001b[1;32m     90\u001b[0m         \u001b[0;32mfor\u001b[0m \u001b[0mv\u001b[0m \u001b[0;32min\u001b[0m \u001b[0mfound\u001b[0m\u001b[0;34m:\u001b[0m\u001b[0;34m\u001b[0m\u001b[0;34m\u001b[0m\u001b[0m\n\u001b[0;32m---> 91\u001b[0;31m             \u001b[0mnextlevel\u001b[0m\u001b[0;34m.\u001b[0m\u001b[0mupdate\u001b[0m\u001b[0;34m(\u001b[0m\u001b[0madj\u001b[0m\u001b[0;34m[\u001b[0m\u001b[0mv\u001b[0m\u001b[0;34m]\u001b[0m\u001b[0;34m)\u001b[0m\u001b[0;34m\u001b[0m\u001b[0;34m\u001b[0m\u001b[0m\n\u001b[0m\u001b[1;32m     92\u001b[0m         \u001b[0mlevel\u001b[0m \u001b[0;34m+=\u001b[0m \u001b[0;36m1\u001b[0m\u001b[0;34m\u001b[0m\u001b[0;34m\u001b[0m\u001b[0m\n\u001b[1;32m     93\u001b[0m     \u001b[0;32mdel\u001b[0m \u001b[0mseen\u001b[0m\u001b[0;34m\u001b[0m\u001b[0;34m\u001b[0m\u001b[0m\n",
      "\u001b[0;31mKeyboardInterrupt\u001b[0m: "
     ]
    }
   ],
   "source": [
    "%%time\n",
    "nx.average_shortest_path_length(G)"
   ]
  },
  {
   "cell_type": "code",
   "execution_count": 233,
   "id": "81c0ae58-51cc-44fa-b4c9-76ae70257d31",
   "metadata": {},
   "outputs": [],
   "source": [
    "def comparing_clustering(LG):\n",
    "    clustering=[]\n",
    "    years=[]\n",
    "    for i in range(len(LG)):\n",
    "        clust = nx.average_clustering(LG[i])\n",
    "        clustering.append(clust)\n",
    "        years.append(2021-i)\n",
    "    data =zip(years, clustering)\n",
    "    headers=['years', 'clust coef']\n",
    "    print(tabulate(data, headers= headers, tablefmt=\"plain\"))\n",
    "    return clustering"
   ]
  },
  {
   "cell_type": "code",
   "execution_count": 234,
   "id": "e6d79f9c-eed2-493c-a6ad-7ee1cb43cdea",
   "metadata": {},
   "outputs": [
    {
     "name": "stdout",
     "output_type": "stream",
     "text": [
      "  years    clust coef\n",
      "   2021      0.436552\n",
      "   2020      0.428313\n",
      "   2019      0.426047\n",
      "   2018      0.423836\n"
     ]
    }
   ],
   "source": [
    "clust = comparing_clustering(LG)"
   ]
  },
  {
   "cell_type": "code",
   "execution_count": 49,
   "id": "0c8cb44c-e0d8-45d4-ac0e-f899f818f5bd",
   "metadata": {},
   "outputs": [
    {
     "data": {
      "text/plain": [
       "1063"
      ]
     },
     "execution_count": 49,
     "metadata": {},
     "output_type": "execute_result"
    }
   ],
   "source": [
    "len(J.nodes())"
   ]
  },
  {
   "cell_type": "code",
   "execution_count": 39,
   "id": "54d00162-f896-4f21-9358-d2f202f92144",
   "metadata": {},
   "outputs": [
    {
     "data": {
      "text/plain": [
       "81032"
      ]
     },
     "execution_count": 39,
     "metadata": {},
     "output_type": "execute_result"
    }
   ],
   "source": [
    "len(G.edges())"
   ]
  },
  {
   "cell_type": "code",
   "execution_count": 150,
   "id": "0f88f6e9-7d0c-431a-907a-29e972c64342",
   "metadata": {},
   "outputs": [],
   "source": [
    "n_nodes = [len(graph.nodes()) for graph in LG]\n",
    "n_edges = [len(graph.edges()) for graph in LG]\n",
    "years = [i for i in range(2018,2022)]\n",
    "av_degree =average_degree(LG)\n",
    "data ={ 'Years': years, 'N nodes': n_nodes, 'N edges': n_edges, 'Average degree' : av_degree}\n",
    "tab = (tabulate((data), headers='keys'))\n",
    "np.save('char.txt', tab)"
   ]
  },
  {
   "cell_type": "code",
   "execution_count": 42,
   "id": "50d1b173-732b-47db-9d69-556f0ad509ca",
   "metadata": {},
   "outputs": [],
   "source": [
    "a = nx.betweenness_centrality(G, weight= 'weight')"
   ]
  },
  {
   "cell_type": "code",
   "execution_count": 43,
   "id": "4194461b-1c51-4a33-b8dd-2523ac524aee",
   "metadata": {},
   "outputs": [
    {
     "data": {
      "text/plain": [
       "({}, 0.007195738855040254)"
      ]
     },
     "execution_count": 43,
     "metadata": {},
     "output_type": "execute_result"
    }
   ],
   "source": [
    "G.nodes[max(a,key=a.get)],a[max(a,key=a.get)]"
   ]
  },
  {
   "cell_type": "code",
   "execution_count": 77,
   "id": "66f0a9e8-ecb4-4e3a-a435-602e0d32045d",
   "metadata": {},
   "outputs": [],
   "source": [
    "max_value = G.nodes[max(centrality.keys())]"
   ]
  },
  {
   "cell_type": "code",
   "execution_count": 82,
   "id": "03333f4c-1ed8-4cfd-b37b-1902fad05110",
   "metadata": {},
   "outputs": [
    {
     "data": {
      "text/plain": [
       "{}"
      ]
     },
     "execution_count": 82,
     "metadata": {},
     "output_type": "execute_result"
    }
   ],
   "source": [
    "G.nodes[max(centrality, key = centrality.get)]"
   ]
  },
  {
   "cell_type": "code",
   "execution_count": null,
   "id": "cfe630f7-bb91-43e0-81ce-5950eff498aa",
   "metadata": {},
   "outputs": [],
   "source": []
  }
 ],
 "metadata": {
  "kernelspec": {
   "display_name": "Python 3 (ipykernel)",
   "language": "python",
   "name": "python3"
  },
  "language_info": {
   "codemirror_mode": {
    "name": "ipython",
    "version": 3
   },
   "file_extension": ".py",
   "mimetype": "text/x-python",
   "name": "python",
   "nbconvert_exporter": "python",
   "pygments_lexer": "ipython3",
   "version": "3.9.7"
  }
 },
 "nbformat": 4,
 "nbformat_minor": 5
}
